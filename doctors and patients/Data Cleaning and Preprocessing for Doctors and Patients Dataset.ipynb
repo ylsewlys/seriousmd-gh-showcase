{
 "cells": [
  {
   "cell_type": "markdown",
   "id": "00980678",
   "metadata": {},
   "source": [
    "# `Doctors Dataset`"
   ]
  },
  {
   "cell_type": "markdown",
   "id": "9243311e",
   "metadata": {},
   "source": [
    "## Import\n",
    "Import **numpy** and **pandas**.\n",
    "\n",
    "[**`pandas`**](https://pandas.pydata.org/pandas-docs/stable/index.html) is a software library for Python which provides data structures and data analysis tools."
   ]
  },
  {
   "cell_type": "code",
   "execution_count": 1,
   "id": "8afda4e1",
   "metadata": {},
   "outputs": [],
   "source": [
    "import numpy as np\n",
    "import pandas as pd"
   ]
  },
  {
   "cell_type": "markdown",
   "id": "f9352164",
   "metadata": {},
   "source": [
    "## Reading the Doctors and Appointments Dataset"
   ]
  },
  {
   "cell_type": "code",
   "execution_count": 2,
   "id": "88a4c297",
   "metadata": {},
   "outputs": [],
   "source": [
    "doctors_df = pd.read_csv(\"../datasets_backup/doctors.csv\", encoding='ISO-8859-1')"
   ]
  },
  {
   "cell_type": "code",
   "execution_count": 3,
   "id": "4775cda7",
   "metadata": {},
   "outputs": [],
   "source": [
    "appointments_df = pd.read_csv(\"../datasets_backup/appointments.csv\")"
   ]
  },
  {
   "cell_type": "markdown",
   "id": "d7f59f67",
   "metadata": {},
   "source": [
    "## Doctors Dataset Information"
   ]
  },
  {
   "cell_type": "code",
   "execution_count": 4,
   "id": "21f2f3c1",
   "metadata": {},
   "outputs": [
    {
     "name": "stdout",
     "output_type": "stream",
     "text": [
      "<class 'pandas.core.frame.DataFrame'>\n",
      "RangeIndex: 60024 entries, 0 to 60023\n",
      "Data columns (total 3 columns):\n",
      " #   Column         Non-Null Count  Dtype  \n",
      "---  ------         --------------  -----  \n",
      " 0   doctorid       60024 non-null  object \n",
      " 1   mainspecialty  27175 non-null  object \n",
      " 2   age            20028 non-null  float64\n",
      "dtypes: float64(1), object(2)\n",
      "memory usage: 1.4+ MB\n"
     ]
    }
   ],
   "source": [
    "doctors_df.info()"
   ]
  },
  {
   "cell_type": "code",
   "execution_count": 5,
   "id": "2970fc39",
   "metadata": {},
   "outputs": [
    {
     "name": "stdout",
     "output_type": "stream",
     "text": [
      "<class 'pandas.core.frame.DataFrame'>\n",
      "RangeIndex: 9752932 entries, 0 to 9752931\n",
      "Data columns (total 11 columns):\n",
      " #   Column      Dtype \n",
      "---  ------      ----- \n",
      " 0   pxid        object\n",
      " 1   clinicid    object\n",
      " 2   doctorid    object\n",
      " 3   apptid      object\n",
      " 4   status      object\n",
      " 5   TimeQueued  object\n",
      " 6   QueueDate   object\n",
      " 7   StartTime   object\n",
      " 8   EndTime     object\n",
      " 9   type        object\n",
      " 10  Virtual     object\n",
      "dtypes: object(11)\n",
      "memory usage: 818.5+ MB\n"
     ]
    }
   ],
   "source": [
    "appointments_df.info()"
   ]
  },
  {
   "cell_type": "markdown",
   "id": "674c9fbb",
   "metadata": {},
   "source": [
    "## Creating a Copy of the Datasets"
   ]
  },
  {
   "cell_type": "code",
   "execution_count": 6,
   "id": "c4248c93",
   "metadata": {},
   "outputs": [],
   "source": [
    "doctors_copy_df = doctors_df.copy()"
   ]
  },
  {
   "cell_type": "code",
   "execution_count": 7,
   "id": "3f2527ed",
   "metadata": {},
   "outputs": [],
   "source": [
    "appointments_copy_df = appointments_df.copy()"
   ]
  },
  {
   "cell_type": "code",
   "execution_count": 8,
   "id": "c8286332",
   "metadata": {},
   "outputs": [
    {
     "name": "stdout",
     "output_type": "stream",
     "text": [
      "<class 'pandas.core.frame.DataFrame'>\n",
      "RangeIndex: 60024 entries, 0 to 60023\n",
      "Data columns (total 3 columns):\n",
      " #   Column         Non-Null Count  Dtype  \n",
      "---  ------         --------------  -----  \n",
      " 0   doctorid       60024 non-null  object \n",
      " 1   mainspecialty  27175 non-null  object \n",
      " 2   age            20028 non-null  float64\n",
      "dtypes: float64(1), object(2)\n",
      "memory usage: 1.4+ MB\n"
     ]
    }
   ],
   "source": [
    "doctors_copy_df.info()"
   ]
  },
  {
   "cell_type": "code",
   "execution_count": 9,
   "id": "c51c00dd",
   "metadata": {},
   "outputs": [
    {
     "name": "stdout",
     "output_type": "stream",
     "text": [
      "<class 'pandas.core.frame.DataFrame'>\n",
      "RangeIndex: 9752932 entries, 0 to 9752931\n",
      "Data columns (total 11 columns):\n",
      " #   Column      Dtype \n",
      "---  ------      ----- \n",
      " 0   pxid        object\n",
      " 1   clinicid    object\n",
      " 2   doctorid    object\n",
      " 3   apptid      object\n",
      " 4   status      object\n",
      " 5   TimeQueued  object\n",
      " 6   QueueDate   object\n",
      " 7   StartTime   object\n",
      " 8   EndTime     object\n",
      " 9   type        object\n",
      " 10  Virtual     object\n",
      "dtypes: object(11)\n",
      "memory usage: 818.5+ MB\n"
     ]
    }
   ],
   "source": [
    "appointments_copy_df.info()"
   ]
  },
  {
   "cell_type": "markdown",
   "id": "8ff15715",
   "metadata": {},
   "source": [
    "## Merging Doctors and Appointments Dataset"
   ]
  },
  {
   "cell_type": "code",
   "execution_count": 10,
   "id": "7827cf71",
   "metadata": {},
   "outputs": [],
   "source": [
    "# remove after\n",
    "doctors_copy_df = doctors_df.copy()"
   ]
  },
  {
   "cell_type": "code",
   "execution_count": 11,
   "id": "c20ca72a",
   "metadata": {},
   "outputs": [],
   "source": [
    "doctors_copy_df = doctors_copy_df.merge(appointments_copy_df, on='doctorid')"
   ]
  },
  {
   "cell_type": "markdown",
   "id": "68e2815b",
   "metadata": {},
   "source": [
    "## Drop Extra Columns Generated "
   ]
  },
  {
   "cell_type": "code",
   "execution_count": 12,
   "id": "aebc91e3",
   "metadata": {},
   "outputs": [],
   "source": [
    "doctors_copy_df = doctors_copy_df.drop(columns=['pxid', 'clinicid', 'apptid', 'status', 'TimeQueued', 'QueueDate', 'StartTime', 'EndTime', 'type', 'Virtual'])"
   ]
  },
  {
   "cell_type": "code",
   "execution_count": 13,
   "id": "2ad9a0dd",
   "metadata": {},
   "outputs": [
    {
     "name": "stdout",
     "output_type": "stream",
     "text": [
      "<class 'pandas.core.frame.DataFrame'>\n",
      "Int64Index: 9752932 entries, 0 to 9752931\n",
      "Data columns (total 3 columns):\n",
      " #   Column         Dtype  \n",
      "---  ------         -----  \n",
      " 0   doctorid       object \n",
      " 1   mainspecialty  object \n",
      " 2   age            float64\n",
      "dtypes: float64(1), object(2)\n",
      "memory usage: 297.6+ MB\n"
     ]
    }
   ],
   "source": [
    "doctors_copy_df.info()"
   ]
  },
  {
   "cell_type": "markdown",
   "id": "20a4f53b",
   "metadata": {},
   "source": [
    "## Checking if Doctor ID column has duplicates"
   ]
  },
  {
   "cell_type": "code",
   "execution_count": 14,
   "id": "952a9af9",
   "metadata": {},
   "outputs": [
    {
     "name": "stdout",
     "output_type": "stream",
     "text": [
      "Does doctorid column has duplicates: True\n"
     ]
    }
   ],
   "source": [
    "doctorIdHasDuplicates = doctors_copy_df['doctorid'].duplicated().any()\n",
    "\n",
    "print('Does doctorid column has duplicates: ' + str(doctorIdHasDuplicates))"
   ]
  },
  {
   "cell_type": "markdown",
   "id": "ca5a5e06",
   "metadata": {},
   "source": [
    "## Dropping Duplicates in Doctor ID column"
   ]
  },
  {
   "cell_type": "code",
   "execution_count": 15,
   "id": "81da18aa",
   "metadata": {},
   "outputs": [],
   "source": [
    "doctors_copy_df = doctors_copy_df.drop_duplicates(subset=['doctorid'], keep='first')"
   ]
  },
  {
   "cell_type": "code",
   "execution_count": 16,
   "id": "70ad31a5",
   "metadata": {},
   "outputs": [
    {
     "name": "stdout",
     "output_type": "stream",
     "text": [
      "<class 'pandas.core.frame.DataFrame'>\n",
      "Int64Index: 10832 entries, 0 to 9752931\n",
      "Data columns (total 3 columns):\n",
      " #   Column         Non-Null Count  Dtype  \n",
      "---  ------         --------------  -----  \n",
      " 0   doctorid       10832 non-null  object \n",
      " 1   mainspecialty  10819 non-null  object \n",
      " 2   age            10832 non-null  float64\n",
      "dtypes: float64(1), object(2)\n",
      "memory usage: 338.5+ KB\n"
     ]
    }
   ],
   "source": [
    "doctors_copy_df.info()"
   ]
  },
  {
   "cell_type": "markdown",
   "id": "6c19512d",
   "metadata": {},
   "source": [
    "### `mainspecialty` column"
   ]
  },
  {
   "cell_type": "code",
   "execution_count": 17,
   "id": "f3c1622f",
   "metadata": {},
   "outputs": [
    {
     "data": {
      "text/plain": [
       "1754"
      ]
     },
     "execution_count": 17,
     "metadata": {},
     "output_type": "execute_result"
    }
   ],
   "source": [
    "doctors_copy_df['mainspecialty'].nunique()"
   ]
  },
  {
   "cell_type": "code",
   "execution_count": 18,
   "id": "397c6a5b",
   "metadata": {},
   "outputs": [
    {
     "data": {
      "text/plain": [
       "Internal Medicine                          1728\n",
       "General Medicine                            860\n",
       "Pediatrics                                  801\n",
       "Obstetrics and Gynecology                   433\n",
       "Dermatology                                 402\n",
       "                                           ... \n",
       "UROLOGY, ADULT AND PEDIATRICS                 1\n",
       "SPINE / ORTHOPEDICS TRAUMA                    1\n",
       "Municipal Health Officer - Bagac Bataan       1\n",
       "Physician Surgeon,Cosmetic Dermatology        1\n",
       "Psychiatry and Internal Medicine              1\n",
       "Name: mainspecialty, Length: 1754, dtype: int64"
      ]
     },
     "execution_count": 18,
     "metadata": {},
     "output_type": "execute_result"
    }
   ],
   "source": [
    "doctors_copy_df['mainspecialty'].value_counts()"
   ]
  },
  {
   "cell_type": "markdown",
   "id": "37515390",
   "metadata": {},
   "source": [
    "## Check List of Doctor Main Specialties"
   ]
  },
  {
   "cell_type": "code",
   "execution_count": 19,
   "id": "0dc46635",
   "metadata": {},
   "outputs": [
    {
     "name": "stdout",
     "output_type": "stream",
     "text": [
      "['Internal Medicine', 'General Medicine', 'Pediatrics', 'Obstetrics and Gynecology', 'Dermatology', 'General Physician', 'Ophthalmology', 'Family Medicine', 'General Surgery', 'General Practitioner', 'General Practice', 'General Pediatrics', 'Surgery', 'Psychiatry', 'Obstetrics & Gynecology', 'Orthopedic Surgery', 'Urology', 'Neurology', 'Internal Medicine ', 'OB-GYN', 'Obstetrics And Gynecology', 'Internal medicine', 'Adult Neurology', 'General Dentistry', 'Orthopedics', 'INTERNAL MEDICINE', 'OBGYN', 'Pediatrician', 'Neurosurgery', 'Physical Medicine and Rehabilitation', 'Orthopaedic Surgery', 'OB GYN', 'Emergency Medicine', 'Primary Care', 'Family and Community Medicine', 'Occupational Medicine', 'Anesthesiology', 'Internal Medicine - Adult Cardiology', 'Internal Medicine - Gastroenterology', 'Internal Medicine - Endocrinology', 'Internal Medicine - Nephrology', 'Adult Cardiology', 'General Practitioner ', 'Cardiology', 'ENT-HNS', 'ENT', 'Rehabilitation Medicine', 'Obstetrics and Gynecology ', 'Otorhinolaryngology - Head and Neck Surgery', 'Dentistry', 'Obstetrics-Gynecology', 'Internal Medicine - Cardiology', 'Radiation Oncology', 'General Medicine ', 'Lifestyle Medicine', 'PEDIATRICS', 'Orthopaedics', 'Otolaryngology - Head and Neck Surgery', 'Orthodontics', 'Pediatrics ', 'General Physician ', 'GENERAL MEDICINE', 'General medicine', 'Medical Oncology', 'General Medicine, Primary Care', 'Gastroenterology', 'Internal Medicine - Infectious Diseases', 'Internal Medicine - Pulmonology', 'OB-GYNE', 'Primary Care Physician', 'OBSTETRICS AND GYNECOLOGY', 'Clinical Psychology', 'Otorhinolaryngology-Head and Neck Surgery', 'Obstetrician-Gynecologist', 'internal medicine', 'GP', 'Plastic Surgery', 'Otorhinolaryngology', 'Internal Medicine-Cardiology', 'OB-Gyn', 'General Practioner', 'Comprehensive Ophthalmology', 'Obstetrics Gynecology', 'Nephrology', 'FAMILY MEDICINE', 'Internal Medicine - Pulmonary Medicine', 'Physical Medicine & Rehabilitation', 'General Dentist', 'General Pediatrician', 'Obstetrician Gynecologist', 'pediatrics', 'Pulmonary Medicine', 'General practitioner', 'OB-Gyne', 'Internal Medicine-Endocrinology', 'Otorhinolaryngology Head and Neck Surgery', 'Orthopedic Surgery and Traumatology', 'Internal Medicine - Medical Oncology', 'Internal Medicine - Adult Nephrology', 'General', 'Plastic and Reconstructive Surgery', 'General surgery', 'GENERAL PHYSICIAN', 'Diplomate in Internal Medicine', 'Otolaryngology', 'General Practicioner', 'IM', 'General Practice ', 'Psychology', 'DERMATOLOGY', 'OPHTHALMOLOGY', 'Occupational Health', 'Neurology and Psychiatry', 'Otorhinolaryngology - Head & Neck Surgery', 'Aesthetic Medicine', 'Veterinary Medicine', 'SURGERY', 'General Adult Psychiatry', 'Integrative Medicine', 'Internal Medicine - Rheumatology', 'Physical Therapy', 'Radiology', 'Orthopedic surgery', 'Family medicine', 'Internal Medicine- Adult Cardiology', 'Cosmetic Surgery', 'Pediatric', 'Pediatrics and Child Health', 'General and Cancer Surgery', 'Dental Medicine', 'General physician', 'Endocrinology', 'Otolaryngology - Head & Neck Surgery', 'Ophthalmologist', 'GENERAL SURGERY', 'Ophthalmology ', 'Internal Medicine - Endocrinology, Diabetes and Metabolism', 'Pediatric Dentistry', 'General Ophthalmology', 'OB GYNE', 'ENT - Head and Neck Surgery', 'Family Dentistry', 'Obstetrics and gynecology', 'Dermatology ', 'Internal Medicine-Gastroenterology', 'Adult Psychiatry', 'Ob-Gyn', 'Rheumatology', 'OB Gyne', 'Medicine', 'GENERAL PRACTITIONER', 'Internal Medicine - Adult Pulmonology', 'Internal Medicine-Nephrology', 'Nuclear Medicine', 'Hematology', 'Internal Medicine-Adult Cardiology', 'Otorhinolaryngology (ENT)', 'Family Medicine ', 'GENERAL PEDIATRICS', 'General and Occupational Medicine', 'Optometry', 'OBGYNE', 'Infectious Diseases', 'Oncology', 'Obstetrics - Gynecology', 'Psychiatry ', 'Internal Medicine - Adult Diseases', 'General and Laparoscopic Surgery', 'Otolaryngology-Head and Neck Surgery', 'Oral Surgery', 'Ear, Nose, Throat - Head and Neck Surgery', 'Occupational Health Physician', 'Internal Medicine-Pulmonology', 'Pediatric Surgery', 'OBSTETRICS & GYNECOLOGY', 'ENT-Head and Neck Surgery', 'Interventional Cardiology', 'Pediatric Neurology', 'ORTHOPEDIC SURGERY', 'OB', 'Obgyne', 'Otorhinolaryngology, Head and Neck Surgery', 'Physician', 'Nutrition and Dietetics', 'ophthalmology', 'Nutrition', 'Pediatric Medicine', 'Sleep Medicine', 'Pedia', 'Pediatric Pulmonology', 'Orthopedic Surgeon', 'Ob Gyne', 'Obgyn', 'Internal Medicine - Hematology', 'Aesthetic Dermatology', 'Internal Medicine - Adult Disease Specialist', 'General Dentistry ', 'Obstetrics and Gynecology (OBGYN)', 'Dermatologist', 'Ears, Nose, Throat, Head and Neck Surgery', 'Pediatrician ', 'Mental Health', 'General Psychiatry', 'General Surgeon', 'Pulmonology', 'Public Health', 'General practice', 'Ear, Nose, Throat - Head & Neck Surgery', 'Opthalmology', 'Otolaryngology Head and Neck Surgery', 'Adult Nephrology', 'Internal Medicine - Adult Pulmonary Medicine', 'Urologic Surgery', 'Otolaryngology-Head & Neck Surgery', 'Orthopedics and Sports Medicine', 'General Medicine | Primary Care', 'General Adult Medicine', 'Optometrist', 'Internal Medicine- Medical Oncology', 'Interventional Radiology', 'General Orthopedics', 'General Adult and Pediatric Medicine', 'Small Animal', 'Anesthesia', 'General Dentistry, Orthodontics', 'general practitioner', 'Neurology & Psychiatry', 'General Medicine / Primary Care', 'Orthodontist', 'General Surgery ', 'Internal Medicine - Adult Hematology', 'Psychotherapy', 'Internal Medicine-Infectious Diseases', 'General Medicine and Public Health', 'Ear Nose Throat Head and Neck Surgery', 'Family Medicine Specialist', 'IM-Nephrology', 'ENT HNS', 'Otolaryngology- Head and Neck Surgery', 'Internal Medicine- Gastroenterology', 'Internal Medicine- Endocrinology', 'Breast Surgical Oncology', 'OB Gyn', 'Infectious Disease', 'IM-Cardiology', 'Ob-Gyne', 'Internal Medicine, Nephrology', 'Otorhinolaryngology Head and Neck Surgery (ENT)', 'Colorectal Surgery', 'Pediatrics and General Medicine', 'ENT Head and Neck Surgery', 'Otorhinolaryngology-Head & Neck Surgery', 'Developmental and Behavioral Pediatrics', 'Anesthesiologist', 'Small Animal Medicine and Surgery', 'EENT', 'Pediatrics - Pulmonology', 'Internal Medicine-Hematology', 'Functional Medicine', 'UROLOGY', 'Ear, Nose, Throat, Head and Neck Surgery', 'Pediatrics, General Medicine', 'Obsterics and Gynecology', 'Physical Medicine And Rehabilitation', 'IM-Pulmonary Medicine', 'Psychologist', 'Obstetrician and Gynecologist', 'Allergy', 'General, Cancer and Laparoscopic Surgery', 'surgery', 'Orthopedic', 'General, Cancer & Laparoscopic Surgery', 'obstetrics and gynecology', 'Obstetric and Gynecology', 'Mental Health Counseling', 'Adult Cardiology ', 'Orthopaedic Surgery & Traumatology', 'Internal Medicine - Pulmonology ', 'Neurosurgery ', 'Cardiologist', 'Test', 'Internal Medicine- Nephrology', 'INTERNAL MEDICINE ', 'Ear Nose and Throat - Head and Neck Surgery', 'Family Med', 'Medical Services', 'Internal Medicine, Occupational Medicine', 'General Physician (Adults and Pediatrics)', 'Occupational and Industrial Medicine', 'Otorhinolaryngology- Head and Neck Surgery', 'General Medicine and Pediatrics', 'Aesthetics', 'General Phycisian', 'Internal Medicine-Neurology', 'Ear Nose Throat - Head and Neck Surgery', 'Internal Medicine - Adult Neurology', 'Dog and Cat Medicine', 'Doctor of Medicine', 'General Dentistry & Orthodontics', 'Clinical Psychologist', 'Plastic And Reconstructive Surgery', 'Clinical and Aesthetic Dermatology', 'Internal Medicine -Adult Cardiology', 'IM- Cardiology', 'Obstetrics And Gynaecology', 'General  Surgery', 'Pediatric Cardiology', 'Thoracic, Cardiac and Vascular Surgery', 'Orthopaedics and Traumatology', 'Speech-Language Pathology', 'Counseling Psychology', 'dermatology', 'TCVS', 'General Medicine, Public Health', 'Internal', 'Oral and Maxillofacial Surgery', 'Developmental & Behavioral Pediatrics', 'Internal Medicine/Gastroenterology', 'Ears, Nose, Throat - Head and Neck Surgery', 'Internal Medicine - Pulmonary', 'PSYCHIATRY', 'ORL-HNS', 'ENT Head and Neck Surgeon', 'ORTHOPEDICS', 'Internal Medicine-Adult Nephrology', 'Internal Medicine - Adult Diseases Specialist', 'Endocrinology, Diabetes and Metabolism', 'General Medicine, General Surgery', 'Physiotherapy', 'Gynecologic Oncology', 'Orthopaedics Surgery', 'None', 'Developmental Pediatrics', 'Orthopaedic Surgeon', 'General Practice, Primary Care', 'General Dentistry, Pediatric Dentistry', 'Internal Medicine - Neurology', 'General Orthopedic Surgery', 'family medicine', 'Internal Medicine / General Medicine', 'Internal Medicine-Pulmonary', 'General Dentistry and Orthodontics', 'Internal medicine ', 'Otolaryngology, Head and Neck Surgery', 'internal', 'Surgery ', 'General Medicine, Pediatrics', 'Adult Medicine', 'OBSTERICS GYNECOLOGY', 'Internal Medicine / Cardiology', 'Medical Oncology ', 'Pathology', 'Neurology - Internal Medicine', 'EAR NOSE THROAT - HEAD AND NECK SURGERY', 'Obstetrician Gynecologist ', 'Internal Medicine / Adult Medicine', 'Internal Medicine, Endocrinology', 'Family', 'E.N.T. - Head & Neck Surgery', 'Gastroenterology and Hepatology', 'ENT Otorhinolaryngology', 'Family and Occupational Medicine', 'Chiropractic', 'Internal Medicine-Pulmonary Medicine', 'Pulmonologist', 'ADULT NEUROLOGY', 'Dermatologist ', 'OBGYNE ', 'dentistry', 'Diplomate, Internal Medicine', 'Occupational & Industrial Medicine', 'orthopedics', 'General Practice, Occupational Health', 'Primary Care and Occupational Health', 'IM-Gastroenterology', 'Ob-gyn', 'Geriatrics', 'General Medicine, Occupational Medicine', 'Medtech', 'Internal medicine, Cardiology', 'Cataract Surgeon and Comprehensive Ophthalmologist', 'General Medicine, Occupational Health', 'Neurology ', 'Adult Pulmonologist', 'Internal Medicine - Allergy & Immunology', 'Urologist', 'Otorhinolaryngology-Head And Neck Surgery', 'Pediatric Hematology-Oncology', 'General Medicine - Primary Care', 'General practitioner ', 'Pediatics', 'PEDIATRICIAN', 'Internal Medicine- Cardiology', 'General Pediatrics ', 'Endocrinology, Diabetes and Metabolism ', 'Adult Endocrinology', 'IM - Pulmonary Medicine', 'Orthopaedic surgery', 'OBSTETRICIAN-GYNECOLOGIST', 'Occupational Medicine ', 'Internal Medicine - Endocrinology, Diabetes, and Metabolism', 'General Obstetrics and Gynecology', 'Obstetrician - Gynecologist', 'ENTHNS', 'General, Cancer, and Laparoscopic Surgery', 'Occupational Therapy', 'General, Laparoscopic and Cancer Surgery', 'Small Animal Medicine', 'General Dentistry and Orthodontic', 'General Practice/Primary Care', 'General Medicine, Primary Care, Preventive Medicine', 'Adult and Pediatric Allergy and Immunology', 'Cardiovascular and Thoracic Surgery', 'internal Medicine', 'Dental', 'General Dentistry, Orthodontics ', 'Ob gyne', 'Addiction Medicine, Rehabilitation, Addiction Counseling', 'dentist', 'Internal Medicine- Adult', 'Internal Medicine Resident', 'general medicine', 'Ob Gyn', 'General Dentistry, Orthodontics & Oral Surgery', 'pedia', 'MD', 'Internal Medicine, General Medicine', ' General Pediatrics', 'General Physician, Nutrition and Dietetics', 'General Practice / Internal Medicine', 'Otolaryngology (Ear, Nose, Throat) - Head & Neck Surgery', 'Pediatrics and Addiction Medicine', 'Internal Medicine | Adult Disease Specialist', 'General and Cosmetic Dentistry', 'General Practitioner; Internal Medicine', 'Obstetrics-Gynecology ', 'Family and Community Medicine (in training) | Occupational Safety & Health Physician ', 'Adult Pulmonology, Lung Masses', 'Anesthesia ; General Medicine; Occupational Medicine', 'Neurology - Diseases of the Brain, Spinal Cord, Nerves and Muscles', 'General Orthopedics and Trauma', 'Occupational medicine', 'Aesthetic Dermatologist & Anti-Aging Medicine', 'General Adult And Child Medicine', 'Internal Medicine - Adult Infectious Diseases', 'General Medicine & Optometrist', 'General Family and Adult Medicine', 'Urologist ', 'Physical Medicine & Rehabilitation ', 'General Practitioner, Primary Care, Preventive Care', 'Colon, Rectal, and Anal Surgery', 'ENT (Otorhinolaryngology Head & neck Surgery)', 'INTERNAL MEDICINE - CARDIOLOGY', 'Urologic Surgery ', 'Diabetes Specialist', 'Obstetrician-Gynecologist (OBGYN)', 'Cosmetic Surgeon, Regenerative Specialist, Functional and Aesthetic Gyneologist, Obstetrician', 'Emergency and General Medicine', 'Internal Medicine  -Adult Diseases Specialist', 'General Surgery and Laparoscopic Surgery', 'General Physician, Covid-19 suspect/confirmed', 'IM - Cardiology - Electrophysiology', 'Doctor of Veterinary Medicine', 'Orthopedics / Orthopaedics, General Orthopaedics', 'Internal Medicine, Infectious Diseases ', 'Pediatric and Adult Allergy, Asthma and Clinical Immunology', 'OB-GYN SONOLOGIST', 'General Medicine, General Practitioner, Preventive Medicine and Public Health', 'Community Growth Manager', 'Poisoning/Toxicology ', 'General Medicine & Child Health', 'Pediatric Neurology, General Pediatrics', 'Adult & Pediatric Medicine', 'Pediatric Neurology | General Pediatrics | Stroke', 'Ears,nose,throat-Head and Neck Surgery', 'Obstetrics And Gynecology, Reproductive Endocrinology And Infertility ', 'General Practitioner, Pediatrics Junior Consultant ', 'IM - Adult Cardiology', 'Internal Medicine; General Medicine; Public Health; Primary Care', 'Depression and Anxiety', 'Multi-Specialty Clinic & Rehabilitation Center', 'Family Medicine, Adult Medicine, Occupational Medicine', 'Urologic Surgeon / Urology', 'General/Family Medicine', 'Adult and Pediatric Diseases', 'Physical & Rehabilitation Medicine', 'General Medicine, General Physician, Primary Care', 'Primary Care Physician / General Physician', 'Internal Medicine - Philippine College of Physicians, Diplomate', 'Dentistry, General Medicine', 'General Medicine, Family Medicine, \\nOccupational Medicine', 'Occupational Health Physician; General Medicine', 'Ophthalmology\\nCataract and Refractive Specialist', 'Internal  Medicine', 'Orthopedic Surgery ', 'Nuclear medicine and PETCT ', 'Otolaryngology ', 'Health Optimization Medicine, Bioidentical Hormone Balancing (Male and Female), Nutritional Medicine', 'Aesthetic Derm', 'Internal Medicine-Rheumatology', 'General Medicine, Primary Care & Public Health', 'Ophthalmology Otorhinolaryngology Head and Neck Surgery', 'General Medicine, General Physician, Primary Medicine', 'Internal Medicine - Nephrology ', 'General Practice, General Medicine, Primary care', 'Counseling and Psychotherapy', 'Obstetrics and Gynecology (OBGYN), Reproductive Endocrinology & Infertility', 'General Physician, Occupational Health Physician', 'general pediatrics', 'General Surgery/ TCVS ', 'General Surgery/Laparoscopic Surgery/Cancer Surgery', 'Medical Oncology-Internal Medicine', 'GENERAL OB GYN', 'Thoracic and Cardiovascular Surgery, Functional Medicine', 'Otorhinolaryngology - Head and Neck Surgery (ORL/ENT-HNS)', 'General Practitioner/General Medicine', \"I'M-CARDIO \", 'General Surgery; General Medicine', 'Internal Medicine - Gastroenterology ', 'ObGyne', 'Otorhinolaryngology (Ear, Nose, Throat) - Head and Neck Surgery', 'Internal Medicine - Adult Cardiologist', 'Otolaryngology ( Ears, Nose, Throat- Head and Neck Surgery)', 'General Dentistry, Oral Surgery, TMJ-Orthodontics', 'MD, General Practitioner', 'Internist- Adult Disease Specialist', 'General and Oncologic Urology', 'Otolaryngology (Ears, Nose and Throat) Head and Neck Surgery', 'Obsterics- Gynecology', 'General Medicine, Emergency Medicine', 'Nuclear Medicine /  Primary Care ', 'General Medicine-General Surgery', 'MD - General Practitioner', 'initial psychological assessment, consulting, counseling and psychotherapy', 'General Physician, Surgeon', 'Internal Medicine - Adult Cardiology ', 'Ear, Nose , Throat-Head and Neck Surgery', 'General Medicine and Surgery', 'Emergency Medicine/ General Medicine/ Ambulatory Medicine\\n', 'INTERNAL MEDICINE - PULMONOLOGY', 'Orthopedics/Orthopedic Surgery', 'Obstetric Gynecologist ', 'Dentistry-Orthodontics ', 'Dental & Dermatology\\t', 'Otolaryngology Head and Neck Surgery (ENT)', 'Clinical and Cosmetic Dermatology', 'Dermatology/ Pediatrics', 'Primary Health Care / Occupational Health Physician', ' General Pediatric ', 'Occupational and Industrial Health Medicine', 'Internal Medicine/Adult Medicine', 'General Practitioner, Occupational Medicine', 'Internal Medicine - Adult Interventional and Critical Care Cardiology', 'Pediatrics and Family Medicine', 'General Medicine, Occupational Health, Primary Care, Internal Medicine, COVID-19, Aesthetic Medicine, Preventive Medicine, Lifestyle Medicine', 'Internal Medicine; Adult Cardiology; Cardiac Electrophysiology and Device Implantation', 'Internal Medicine-Gastroenterology ', 'Mental Health / Addiction Medicine / Medico-Legal / General Medicine (Primary Care)', 'General Surgery, Aesthetic Medicine', 'Internal Medicine-Adult Pulmonary Medicine ', 'Internal Medicine - Pulmonary Medicine ', 'Palliative Care, Hospice Care, Home Care, Family Medicine', 'Adult & Child Allergy, Asthma & Clinical Immunology', 'OBGYN ', 'Counseling', 'Internal medicine, Covid telehealth', 'Obstetrics And gynecology', 'General Surgery (Cancer, Colorectal, Breast, and Laparoscopic Surgery)', 'Family & Occupational Medicine', 'Neuropsychological assessment and Neurodevelopmental evaluation, Applied Behavioral Analysis Intervention and Behavioural Support Programs', 'Anesthesiology, Pain Medicine', 'Diet & Nutrition', 'Internal-Medicine- Adult Cardiology', 'Adult Cardiology - Internal Medicine', 'Psychology ', 'General Medicine / Nutrition', '000', 'Ear, Nose and Throat, Head and Neck Surgery', 'General Medicine - ADULT AND CHILD DISEASES', 'ENT - HEAD AND NECK SURGERY', 'Psychometrician, General Physician', 'Internal Medicine - Adult Invasive Cardiology', 'Internal Medicine, Pulmonary and Sleep Medicine', 'Pediatric Infectious Diseases', 'Thoracic and Cardiovascular Surgery', 'Licensed and Registered Psychologist', 'ENT, Otorhinolaryngology, Head & Neck Surgery', 'Depression, Anxiety', 'Family Medicine - Infectious Disease And Tropical Medicine (FM-IDTM)', 'Internal Medicine- Pulmonary Medicine', 'General Medicine/ Occupational Health', 'IM-Endocrinology', ' Adult Gastroenterology ', 'Digestive Surgery; General and Cancer Surgery; Advanced Laparoscopy and Robotics ', 'ENT Otorhinolaryngology Head & Neck, Maxillofacial Surgery', 'Addiction Medicine, General Pediatrics, General Medicine', 'General Practice (Primary Care Physician)', 'Neurology (Adult)', 'General Practicioner/MD', 'Psychotherapy, Counseling', 'Endrocrinology', 'Dental & Dermatology', 'Pediatric Pulmonology and Critical Care', 'Registered Psychologist', 'Internal Medicine | Cardiology', ' Urology', 'General Pediatric Resident', 'Medical Oncology & Internal Medicine', 'Psychology, Psychotherapy, EAP, Counselling', 'Internal Medicine- Adult Disease Specialist', 'Traditional Chinese Medicine', 'Family Medicine in Training', 'Adult Critical Care', 'Diplomate of Internal Medicine', 'Periodontics and Dental Implants', 'Geriatric Medicine', 'GRIEF COUNSELING,  MARITAL/COUPLE/FAMILY COUNSELING', 'Thoracic, Cardiac, and Vascular Surgery', 'Periodontics', 'Physical and Rehabilitation Medicine ', 'Internal Medicine, Adult Cardiology, Vascular Medicine', 'Anesthesiology/Pediatric Anesthesiology/Pain', 'Mental Health, Sleep, Nutrition, Exercise,  Hypertension, Dyslipidemia, Diabetes, Obesity, Addiction (Smoking, Gambling, Drugs, Alcohol, etc) and Cancer Prevention Physician, Therapist, and Coach', 'Internal Medicine and Medical Oncology', 'Vascular and Interventional Radiology', 'Family Medicine, Ophthalmology', 'Gynecologic Laparoscopy', 'ENT-HNS( OTORHINOLARYNGOLOGY)', 'Plastic Reconstructive and Aesthetic Surgery', 'General Medicine and Hospital Administration', 'Occupational Health and Industrial Medicine; Anesthesiology and Pain Medicine', 'Internal Medicine - Adult and Pediatric Allergy, Asthma, Clinical Immunology and Reproductive Immunology', 'Internal Medicine - Adult Disease', 'Pediatrics/Internal Medicine/Allergology', 'Otolaryngology   Head & Neck Surgery', 'Internal Medicine  \\x97 Hematology', 'General Medicine, Occupational medicine', 'Pulmonary and Internal Medicine', 'GENERAL  MEDICINE', 'General Medicine, Veterinary Medicine', 'ORL-HNS ', 'Obstetrics and Gynelcology', 'Prosthodontics, Restorative, Oral Surgery, Pediatrics', 'OB-GYNE ', 'General Medicine-Dermatology', 'Multispecialty Clinic', 'Veterinarian', 'Internal Medicine and Surgery', 'Neurology, Psychiatry', 'orthodontics and esthetic dentistry', 'Primary Care, General Medicine', 'General Medicine, General Practice', 'General Practitioner, Occupational Health Practitioner', 'General Surgery (Thyroid, Breast, Gallbladder, Hernia, Appendix, Colon, Hemorrhoids)', 'Orthopedics Surgery', 'Periodontics and Implant Dentistry', 'ENT-HNS /OTOLARYNGOLOGY-HEAD AND NECK SURGERY ', 'Radiology family medicine ', 'Fm', 'Occupational Health Physician, General Practice, Primary Care Physician', 'General Medicine, Primary Health Care', 'General dentist practice', 'General Pediatrics, Diplomate', 'General Dentistry, Orthodontics , Endodontics, Oral Surgery', 'Radiation Oncology / Otorhinolaryngology', 'Breast Surgery & General Surgery', 'General Medicine, Occupational Safety and Health (OSH) Medicine', 'General Medical Physician', 'Medical Oncology (Cancer Specialist)', 'Internal Medicine\\nPulmonary and Critical Care Medicine', 'HOSPITAL DENTISTRY', 'Family Medicine (Adult and Children Diseases)', 'General Surgery, Surgical Oncology', 'Primary Care Physician / General Practitioner', 'PEDIATRIC GASTROENTEROLOGY, HEPATOLOGY & NUTRITION', 'Internal Medicine - Clinical and Invasive Cardiology', 'Orthopedic Surgery - Sports Medicine and Joint Reconstruction Surgery', 'Internal Medicine - Interventional Cardiology ', 'Internal Medicine - Clinical Nutrition', 'General  and Cancer Surgery Laparocopic Surgery', 'Ears,Nose,Throat-Head And Neck Surgery', 'Lifestyle Medicine ', 'PRIMARY CARE', 'TMJ-Craniodontics', 'Occupational Medicine and General Practice', 'Otolaryngology, Head and Neck Specialty (ENT-HNS)', 'General Medicine & Ophthalmology', 'Psychotherapy, Counseling, Psychology', 'General Medicine; Obstetrics and Gynecology', 'Adult and Pediatric Urology', 'Ear, Nose,Throat-Head and Neck Surgery', 'ORTHOPAEDICS', 'GENERAL ORTHOPEDICS AND TRAUMATOLOGY', 'Orthodontics and TMJ Management', 'Medicine ', 'PHYSICAL MEDICINE AND REHABILITATION, CLINICAL NEUROPHYSIOLOGY AND MYOGRAPHY', 'Adult Neurology, General Medicine, Primary Care', 'General Surgery Hepato-Pancreato-Biliary Laparoscopy', 'Family Medicine/ Medical Acupuncture ', 'Dermatology-Hair Transplant', 'General Pediatrics and Primary Care', 'General Practice/ General Medicine', 'Aesthetic Medicine ', 'General Medicine/Aesthetic Medicine/ Cosmetic Surgery/Lifestyle Medicine', 'Counseling, Psychotherapy and Psychological Testing', 'General `Physician ', 'General Dentistry, Orthodontics, Cosmetic Dentistry, Oral Surgery', 'Internal Medicine -Adult Cardiology-Hypertension Specialist', 'Internal Medicine, Rheumatology', 'Psychiatry, Mental Health', 'Mental Health;  General Practice - with Training in Psychiatry', 'Rheumatology - Internal Medicine ', 'Occupational And Industrial Medicine', 'General Ophthalmology ', 'Internal Medicine Cardiology', 'DENTISTRY', 'General medicine ', 'general physician', 'Neurology and Psychiatry ', 'Adult Psychiatry ', 'Family Medicine, Adult Medicine', 'Obstetrician gynecologist', 'Ears, Nose, Throat-Head and Neck Surgery', 'Restorative Medicine', 'Internal Medicine - Adult Cardiology - Vascular Specialist', 'ENT - Head & Neck Surgery', 'Orthopedic Specialty', 'GENERAL Pediatrics', 'Ears, Nose, Throat ENT - Head and Neck Surgery', 'General Dentistry, Orthodontics, Surgery, Pediatrics ', 'Internal Medicine, Adult Diseases', 'Mental Health  & Psychotherapy', 'Radiology/ General Physician ', 'Head and Neck Surgery', 'Colorectal Surgery & Proctology | General Surgery', 'General pediatrics', 'Gastroenterology, Internal Medicine', 'Primary healthcare', 'ENT (Otorhinolaryngology)', 'ENT (Otorhinolaryngology) - Head and Neck surgery', 'Obstetrician Gynecology', 'Internal Medicine- Adult Interventional Cardiology ', 'Nutrition Care', 'Family Medicine and Occupational Medicine', 'General Practice, General Medicine, Primary Care', 'Advanced Orthopaedic Trauma', 'Breast Cancer', 'SSurgery', 'Poisoning, Snake Bites, Cobra Envenomation, Clinical Toxicology, HAZMAT Life Support, Family Medicine, Primary Medicine', 'Primary Care Physician - General Practitioner', 'General  Physician ', 'Pain Management, Anesthesiology', 'physician surgeon', 'Oral Surgery, Orthodontics, Cosmetic Dentistry', 'Adult cardiology', 'Mental Health Practitioner', 'Counseling Psychology, Mental Health Counseling', 'Physical Therapist', 'General Dentistry, Oral Surgery, Periodontics, Dental Implantology', 'Mental Health and General Medicine', 'Internal Medicine - Adult Oncology ', 'Internal Medicine - Nephrology & Hypertension', 'Adult and Pediatric General Practitioner', 'Adult & Pedia Medicine', 'General Medicine, Health And Wellness , Integrative Medicine', 'Public Health and General Practice', 'General Medicine, Lifestyle Medicine, Primary Care, Adult & Child Diseases', 'IM Cardiology', 'OB GYNE, Nutritionist Dietitian', 'Mental Health, General Practice with training in Psychiatry', 'IM-Pulmonology', 'General Medicine, Family Medicine, Preventive Medicine', 'Interventional Cardiology / Internal Medicine', 'Pediatrics and Child Neurology', 'General Medicine | Primary Care | Pathology Resident', 'DENTAL', 'General Medicine, General Practitioner', 'Pediatric Optometry', 'Internal Medicine (Adult Diseases) - Gastroenterology', 'Dermatology and Venereology', 'ENT Head & Neck Surgery', 'Family Medicine & Birthing Home', 'Physical Medicine and Rehabilitation and Pain Medicine', 'ENT Head & Neck Surgery (Otorhinolaryngology) ', 'Infectious Diseases, Internal Medicine', 'Adult and Child', 'DIPLOMATE, PHILIPPINE BOARD OF OTORHINOLARYNGOLOGY- HEAD AND NECK SURGERY', 'OB-GYN, DPOGS', 'GENERAL AND LAPAROSCOPIC SURGERY', 'ENT-Head & Neck Specialist', 'Orthodontics, Oral surgery', 'Internal Medicine & Medical Oncology', 'Primary Care Physician (Adult & Children Diseases)', 'PRIMARY CARE PHYSICIAN', 'PULMONOLOGY AND ADULT MEDICINE/ INTERNAL MEDICINE ', 'INTERNAL MEDICINE ADULT CARDIOLOGY', 'Internal Medicine (Adult Diseases)', 'Emergency, Critical Care, Internal Medicine', 'Internal Medicine, Adult Cardiology', 'Primary Physician', 'Companion animal medicine', 'General Medicine & Primary Care', 'Obstetrics Gynecology ', 'General Practitioners ', 'Ophthalmology | Lifestyle Medicine', 'Primary Care/General Medicine/Family Medicine/Preventive Medicine', 'Board Certified Pediatrician', 'Endocrinology ', 'Internal Medicine- Pulmonology', 'General Medicine, Primary Care, Occupational & Industrial Medicine', 'Ob-Gynecology / Ultrasound Subspecialist', 'Family Medicine (Primary Care practice in Mental Health, Hypertension, Diabetes, Sleep)', 'Otolaryngology-Head and Neck Surgery (ENT-HNS)', 'Primary Care & General Medicine', 'Clinical Psychology | Psychotherapy | Psychological Testing | Mental Health Speaker', 'Fellow in Internal Medicine', 'Pediatric Dentistry, Esthetic Dentistry, General Dentistry', 'Psychosocial Counseling, Psychological Assessment, Mental Health', 'General Medicine (Adult and Pediatric)', 'Primary Healthcare Physician', 'General Medicine Practitioner', 'General Medicine, Primary care, Occupational Health Physician', 'General Medicine/Lifestyle Medicine', 'general physician, primary care', 'General Physician / 09559301258', 'General Practitioner - Adult Medicine', 'Pulmonology - Internal Medicine', 'Neurology/Parkinson\\x92s disease and movement disorders ', 'General Physician\\nOccupational Health Physician', 'Internal Medicine General Medicine', 'General Medicine and Occupational Health ', 'Adult Pulmonology', 'Internal Medicine-Adult Cardiology ', \"Hormone Health, Women's Health, Functional Nutrition, Gut Issues\", 'Pain Medicine (pain management)', 'General Medicine, 1 year experience in Primary Health Care', 'Primary Care/General Practice', 'Internal Medicine / Adult Nephrology', 'General Practitioner, Primary Care & Occupational Medicine ', 'Adult And Pediatric Emergency Medicine', 'Primare Care Physician', 'Surgical Oncology', 'FAMILY /GENERAL MEDICINE', 'General Dentisry', 'Otorhinolaryngology (ENT) Head & Neck Surgery', 'Diplomate in Internal Medicine | Adult Diseases', 'General Medicine, Obstetrics & Gynecology, Public Health, Primary Care', 'Ears, nose, throat- head and neck surgery', 'Rehabilitation  Medicine ', 'Internal Medicine Pulmonary Diseases', 'General Practitioner, Occupational Health Physician', 'Orthopedic Surgery and Sports Medicine', 'General, Laparoscopic, Cancer Surgery', 'Internal Medicine, HIV Primary Care, Transgender Health', 'General Medicine and Neurology', 'Company Nurse', 'Ears, Nose, Throat - Head and Neck Surgery (ENT-HNS)', 'Orthopedic & Spine Surgery ', 'Allergy, Asthma, General and Reproductive Immunology', 'General Physician, 1st Year - Practice-Based Family Medicine Resident ', 'General Medicine - Pediatrics', 'Otorhinolaryngology (Ear, Nose, & Throat [ENT]) - Head & Neck Surgery', 'General and Laparoscopic Surgery ', 'General dentistry ', 'Internal Medicine (Adult Disease Specialist)', 'Internal Medicine, Adult Disease Specialist', 'Ear Nose Throat, Head and Neck Surgery', 'Internal Medicine / Adult Disease Specialist', 'Workplace Psychology', 'Fellow, Obstetrical and Gynecological society', 'Physical Medicine and Rehabilitation | Physiatrist', 'General Surgery, General Medicine', 'Internal Medicine - Diabetes Specialist ', 'Davao del Norte Hospital - IGACOS Zone', 'Pediatrics, General Medicine, Primary Care', 'Internal/Adult Medicine', 'Thoracic, Cardiac And Vascular Surgery', 'General/Cancer Surgery', 'General Medicine\\nInternal Medicine\\nPulmonology and Critical Care Medicine', 'Family Medicine and Occupational Medicine; Technical Health and Safety, Life and Mental Health Coach, Process Improvement, Workplace Legal Health Industry Expert, Accredited OSH Consultant & Speaker', 'Maxillofacial Surgery', 'Adult & Pediatric Optometry, DPA Certified', 'Internal Medicine | Nephrology', \"Children's Diseases\", 'ENT-Head and Neck Surgery Resident ', 'MEDICAL DOCTOR & BREAST SPECIALIST RADIOLOGIST', 'Adult Congenital Heart Disease', 'General Medicine, Public Health, Family Medicine', 'General Medicine - Occupational Health Physician', 'NEUROLOGY', 'Internal Medicine  - Infectious Diseases', 'EMERGENCY MEDICINE', 'Endocrinology,  Diabetes and Metabolism', 'Occupational Medicine, General Medicine, Minor Surgery and Wound Care', 'ENT (Ears, Nose, Throat - Head and Neck Surgery', 'General Medicine, Primary Care, Rehabilitation Physical Therapy', 'INTERNAL MEDICINE-ADULT DISEASE SPECIALIST', 'Counseling, Coaching', 'Adult General Medicine', 'Lifestyle and Internal Medicine', ' Pediatrics ', 'Thyroid Specialist', 'Occupational  Medicine', 'Internal Medicine - Rheumatology ', 'General Medicine, Primary Care, Wound Care', 'Pediatric Gastroenterology, Hepatology, and Nutrition', 'Pediatrics, Pediatric Cardiology', 'General Practitioner, Primary Care & Public health', 'Ears Nose Throat - Head and Neck Surgery', 'Clinical and Cosmetic Dermatology / Occupational MD - General Med ', 'General Medicine, General Physician', 'Otorhinolaryngology- Head And Neck Surgery', 'Adult Diseases, Internal Medicine', 'General Medicine/Primary Care Physician ', 'Internal Medicine, Gastroenterology, Therapeutic Endoscopy', 'Occupational & Preventive Medicine', 'Primary Care Physician ', 'Adult Pulmonary Medicine', 'General Medicine, Nutrition and Dietetics', 'General Medicine, Radiology', 'Internal Medicine - Endocrinology ', 'ORL-HNS (ENT-HNS)', 'Internal Medicine-Adult Disease Specialist', 'General and Lifestyle Medicine', 'Nuclear Medicine- Thyroid (Radioactive Iodine Therapy)', 'General & Occupational Medicine', 'Internal Medicine\\n', 'Otorhinolaryngology (Ears, Nose and Throat), ENT-Head and Neck Surgery, ', 'Orthopedic and spine surgery ', 'Emergency Medicine ', 'Family Physician', 'OBSTETRICS/ GYNECOLOGY', 'General Ears, Nose & Throat Diseases; Otolaryngology-Head and Neck Surgery', 'OB-GYN Perinatologist', 'Internal Medcine ', 'General Physician, Medical Acupuncturist ', 'OB GYN ', 'Psychotherapy, Psychosocial Counseling, Mental Health Consultation, Psychological Assessment', 'Pediatric Hematology and Oncology ', 'General Surgery and Minimally Invasive Surgery', 'Adult and Pediatric General Medicine', 'Dental Medicine, Periodontics', 'Internal Medicine -  Hematology', 'General Medicine, Anesthesiology', 'Obstetrician - Gynecologist, OBGYN', 'Adult Medicine Specialist', 'ObGyn', 'Endocrinology, Internal Medicine', 'Psychometrician & Psychologist', 'laparoscopy', 'General & Laparoscopic Surgery', 'Family Medicine, Lifestyle Medicine', 'General Practitioner - Occupational Health Physician', 'OB Gyn ', 'Aesthetic dentistry', 'Primary Care, General Medicine, Preventive Medicine, Public Health', 'ENT (otorhinolaryngology) Head and Neck Surgery', 'General Pediatrics / Occupational & Industrial Medicine', 'Fellow, Aesthetic Dermatology, Cosmetic Surgery', 'PEDIATRICS\\n', 'OB-GYN, Women\\x92s Wellness', 'Dermatology, Diseases of the Skin, Hair and Nails, Clinical and Aesthetic Dermatology', 'Primary Care | Occupational Medicine ', 'General Dentistry, Minor Oral Surgery, Orthodontics', 'General Medicine/Occupational Medicine', 'General Medicine, Occupational & Industrial Medicine', 'General Surgery And Laparoscopy', 'General and cancer surgery', 'GENERAL / OCCUPATIONAL MEDICINE', 'Ears, Nose and Throat', 'General Medicine, Aesthetic Dermatology', 'Otolaryngology - Head and Neck Cancer Surgery / ENT / Diseases of Ears, Nose, and Throat', 'General Pediatrics; Adult and Pediatric Allergy and Immunology', 'ENT (Otorhinolaryngology) - Head and Neck Surgery', 'Internal Medicine | General Medicine', 'Multispecialty', 'Primary Care Physician, General Practitioner, General Medicine', 'General Surgery And Cancer Specialist', 'Diplomate of Philippine Pediatric Society; Diplomate in Pediatric Nephrology, Philippine Society of Nephrology', 'General Dentistry, Orthodontics, Oral Surgery', 'General Pediatrics and Hematology', 'Endocrinology, Internal Medicine ', 'Physical and Rehabilitation Medicine', 'Prosthodontist', 'MD, FPCP Diplomate, Philippine Society of Nephrology', 'Obstetrics And Gynecologist', 'Internal Medicine - Functional Medicine', 'Wound Care Ambulatory Unit', 'Dentist', 'Cosmetic-Plastic Surgeon', 'Family Medicine/Occupational Health', 'Addiction Medicine', 'General Orthopedic Surgery ', 'Plastic, Reconstructive, Aesthetic and Burn Surgery ', 'Otorhinolaryngology- Head and Neck Surgery (ENT-Head and Neck Surgery)', 'Veterinary ', 'Family Medicine Adult Medicine', 'PATHOLOGY', 'Holistic-Integrative Medicine/Lifestyle Medicine', 'General Medicine, Obstetrics and Gynecology ', 'CLINICAL OPTOMETRY', 'IM - Infectious Diseases', 'Rehabilitation & Physical Therapy', 'Diplomate in Internal Medicine / Adult Disease Specialist', 'Internal Medicine, Pulmonary and Critical Care Medicine ', 'Aesthetic & Pathologic Dermatology', 'Primary Care Medicine', 'Orthopedics-- Muscle & Bone pain (Back, Extremities, etc),  Lumps (bukol), Fracture', 'Pediatrics and Adult Primary Care', 'Breast Oncology and General Surgery', 'Adult and Child General Medicine, Occupational Health Physician', 'IM - Hematology', 'Work-Related Health, Family Health, Child Health, Adult Health, and School Health.', 'General Practitioner, Primary care & Public health', 'small animal medicine', 'General Medicine, Primary Care, Family Medicine, Lifestyle Medicine', 'Orthopedic Surgery and Trauma', 'LIFESTYLE MEDICINE SPECIALIST,FAMILY MEDICINE - PBRTP', 'Internal Medicine; General Medicine', 'Family and Community Medicine ', 'Adult and Child Medicine, Occupational Health Physician', 'Ob-gyne', 'General Practitioner with training in Orthopedics and Traumatology', 'GASTROENTEROLOGIST', 'Internal Medicine, Cardiology', 'Primary Health Care Physician', 'Aesthetic Medicine, Occupational Health', 'General Medicine, Preventive Medicine, Public Health', 'Pediatircs', 'Rehabilitation Medicine ', 'General Practitioner, General Medicine', 'General Pediatrics & Pediatric Hematology', 'General Medicine and Primary Healthcare', 'Primary Care and General Medicine', 'General Physician, Primary Care', 'IM - Adult Cardiology and Vascular Medicine', 'Family Medicine (Children and Adult Medicine)', 'Family & Community Medicine', 'General Surgery | Laparoscopic Surgery', 'Surgery and General Medicine', 'Internal Medicine, General Medicine, Endocrinology, Diabetology', 'Obstetrics and Gynecology (Ob-Gyn)', 'Aesthetic Dentistry, Laser Dentistry', ' Adult Cardiology', 'General Medicine Internal Medicine Lifestyle Medicine Preventive Medicine Primary Care', 'Internal Medicine- Endocrinology, Diabetes, Thyroid/Goiter and Metabolism', 'IM-CARDIOLOGY', 'General Medicine | Adult Neurology Resident', 'Physical Medicine and Rehabilitation ', 'Internal Medicine - Medical Nutrition', 'Family Medicine, Hospice and Palliative Care, Palliative Care ', 'General Medicine Primary Care, Health and Wellness Nutrition, Weight Loss Management', 'Internal Medicine-Adult Pulmonary Diseases', 'Family Medicine, Primary Care', 'INTERNAL MEDICINE-NEPHROLOGY', 'ADULT INTERVENTIONAL CARDIOLOGIST', 'IM-Hematology', 'General Medicine & Surgery', 'Natural Medicine', 'ONLINE KONSULTA', 'Kids Care', 'Rehabilitation Therapiat', 'general', 'Quality Services', 'Internal Medicine- Adult Cardiology/ Vascular Specialist', 'General and Laparoscopic Surgery   |   Gallbladder, liver, pancreas, gastrointestinal, thyroid, breast, tumor, appendix, hernia, hemorrhoids, fistula, circumcision, chemocath insertion, ultrasound', 'Ent Head And Neck Surgery', 'OBSTETRICIAN GYNECOLOGIST', 'Thoracic Cardiovascular Surgery', 'cardiology', 'Rehabilation Medicine,', 'General Medicine Family Medicine', 'Adult and Pediatric Asthma, Allergy and Immunology Specialist', 'RN/A', 'Neurology And Psychiatry', 'General Medicine - Occupation Health', 'Hematology/Internal Medicine', 'INTERNAL MEDICINE-Geriatrics ', 'INTERNIST-PULMONOLOGIST', 'Internal Medicine-Diabetology', 'Liver, kidney and pancreas transplant', 'Otorhinolaryngology - Head and Neck Surgery /ENT / Diseases of the Ears, Nose, Throat', 'Obstetrician- Gynecologist', 'general surgery', 'Rheumatology and Autoimmune Diseases', 'Ob gyn', 'ADDICTION MEDICINE', 'General Medicine / Public Health', 'Surgical Oncology, Breast Surgery', 'Internal Medicine-Pulmonary and Critical Care Medicine', 'DVM', 'Asistant', 'Internal Medicine-', 'kdsjflkfdsjg', 'none', 'Internal Medicine, Diabetes, Thyroid, Hormone Disorders', 'Physiatry', 'Cardio', 'Minimally Invasive and Laparoscopic Surgery', 'Fellow - Philippine Dermatological Society', 'Internal Medicine Gastroenterology  and Nutritional Diseases', 'Pediatricsweh', 'Orthopaedic Surgery and Trauma, Hip And Knee Surgery', 'Internal Medicine Adult Cardiology', 'Companion Animal Medicine & Surgery', 'Adult Cardiology, Electrophysiology and Pacing', 'Internal Medicine- Rheumatology', 'Skin Health Specialist', 'Adult Cardiology - Interventional Cardiology', 'general desntistry', 'General and Cancer Surgery (Thyroid, Breast, Gallbladder, Hernia, Appendix, Colon, Hemorrhoids)', 'Internal Medicine - Adult Cardiology - Echocardiography', 'OB/GYN', 'OPTH', 'ENT HEAD AND NECK SURGERY, Voice Surgery', 'Optah', 'Paediatrics', 'Family Medicine, Palliatve Medicine', 'OBSTETRICIAN-GYNECOLOGISTS', 'Neurology | Internal Medicine', 'General Dentistry, Endodontics', 'Internal Medicine/Adult Disease Specialist', 'Neurology Psychiatry', 'aoeu', 'Ear Nose And Throat-Head And Neck Surgery', 'Spine Diseases and Surgery', 'Ear, Nose, Throat Head & Neck Surgery', 'Internal Medicine/ Diabetes/ Thyroid/ Metabolism/ Endocrine Diseases', 'Orthopedic Spine and Scoliosis Surgery', 'Diabetes - Internal Medicine', 'MIS, General and Cancer Surgery', 'Orthopaedics Surgery and Traumatology', 'Obstetrics and Gynaecology', 'Rehabilitation medicine', 'Developmental-Behavior Pediatrics', 'Pediatrics, Medicolegal', 'Internal Medicine, Medical Oncology', 'Secretary', 'Colorectal', 'Internal Medicine - Gastroenterology - Obesity Medicine', 'Hepatology', 'Pulmonary', 'General & Cancer Surgery', 'Veterinary', 'Internal Medicine - Diabetes, Thyroid and Endocrinology', 'Occupational and General Medicine', 'General Surgey', 'Vascular surgery', 'Orthopedic Spine surgery', 'Medical and Aesthetic Dermatology', 'MD, MPH', 'Internal Medicine & Nephrology', 'Adult Neurologist, Neurocritical Care and Trauma Specialist', 'Allergy, Asthma, General & Reproductive Immunology', 'Family Medicine / Neurotoxicology', 'Pediatric Dermatology', 'AESTHETIC DERMATOLOGY', 'Internal Medicine/Endocrinology', 'Nephrologist', 'md', 'Cosmetic , Implants', 'Interventional Radiology / Interventional Neuroradiology ', 'Hepatobiliary and Pancreas Surgery, Advanced Cancer Surgery, Laparoscopic and Robotic Surgery', 'Advanced Minimally Invasive and General Surgery', 'Internal Medicine - Nephrology (Kidney Specialist)', 'Aesthetic and Anti-aging specialist', 'Internal Medicine & Adult Diseases', 'Addiction', 'Surgery - general, laparoscopic and cancer surgery', 'Pediatrics Cardiology', 'ORL HNS', 'General & Special Needs Dentistry', 'Orthopedic  Surgery', 'Otorhinolaryngology - Head And Neck Surgery', 'Child Neurology and Neurodevelopment', 'Family and Palliative Medicine', 'Internal Medicine - Medical\\nOncology ', 'Internal Medicine-Endocrinology, Diabetes and Metabolism', 'IM - Pulmonary and Sleep Medicine', 'COVID', 'Otorhinolaryngology, Head And Neck Surgery', 'Pediatrics and Lactation', 'Oral Surgery&Implantology, Craniodontics TMJ-Airway, Periodontics', 'General Psychiatry ', 'Diagnostic Laboratory', 'Adutl Infectious Diseases', 'Ttt', 'Cosmetic Dermatology', 'Ears Nose Throat  -  Head & Neck Surgery', 'Pediatrics - Hematology & Oncology', 'Urogynecology, Advanced Gynecologic Laparoscopy, Obstetrics and Gynecology', 'Primary Health Care for Women and Children', 'Adult Infectious Disease ', 'Internal Medicine / Pulmonary & Critical Care', 'Your Health Is Our Priority', 'Aesthetic and Anti-aging Medicine', 'Primary Care Practitioner', 'Aesthetics and Anti-Aging', 'Developmental and Behavioral Pediatrician', 'FAMED', 'Internal Medicine & Diabetology', 'Internal Medicine - Adult Medicine', 'Internal Medicine -  Endocrinology, Diabetes, Thyroid, Hormone Disorders and Metabolism', 'Cardiothoracic and Vascular Surgery', 'Internal Medicine / Kidney Diseases / Hypertension', 'Reproductive Endocrinology and Infertility ; Gynecologic Endoscopy', 'General And Laparoscopic Surgery', 'Aesthetic Medicine, Occupational Health and Safety Physician', 'Internal Medicine-Gastroenterology and Digestive Endoscopy', 'Patient care', 'Cardiac Rehab', 'Internal Medicine/ Pulmonary', 'Functional', 'Comprehensive Ophthalmology ', 'Internal Medicine - Diabetology', 'INTERNAL MEDICINE - ADULT INVASIVE CARDIOLOGY - PERIPHERAL VASCULAR INTERVENTION', 'Venereologist', 'veterinary medicine', 'P', 'Thoracic and Cardiovascular Surgery, General Surgery', 'Otorhinolaryngology Head And Neck Surgery', 'Pediatrics, Occupational Therapy, Speech Therapy, Physical Therapy, SPED', 'General Thoracic Surgery', 'Holistic', 'Internal Medicine, Gastroenterology', 'Ears, Nose, Throat Diseases-Head & Neck Surgery', 'Acupuncturist', 'General and Laparoscopic Surgeon                    Occupational Medicine Specialist', 'Regenerative Medicine', 'Speech and Language Pathology', 'General Surgery, Laparoscopic Surgery', 'Internal Medicine - ENDOCRINOLOGY, Diabetes, Metabolism, Osteoporosis, Thyroid, Pituitary, Adrenal & Other Hormonal Disorders', 'OBGYN - Infectious Diseases', 'General Orthopedids', 'Physical Therapy | Strength and Conditioning', \"Adult and Children's Diseases/Functional/Integrative/Complementary Medicine\", 'Adult Rheumatology', 'General Laparoscopic & Cancer Surgery', 'Family Medcine', 'Geral', 'Internal Medicine, Nephrology, Kidney Diseases, Dialysis, And Transplantation', 'Internal Medicine- Hematology', 'Internal Medicine-Adult Cardiology- Heart Failure', 'Adult Neurology and Psychiatry', 'General Surgery and Surgical Oncology', 'Child Neurology and Epilepsy Specialist', 'Fellow Philippine Academy of Family Physician', 'Medical Informatics', 'Oftalmo', 'General Pediatrics and Adolescent Medicine', 'Hematology - Internal Medicine', 'Dermatologist | Dermatology | Adult & Pediatric Conditions of the Skin', 'Ear, Nose & Throat - Head and Neck Surgery', 'Surgical Oncology, General Surgery', 'Internal Medicine, Pulmonology', 'Pediatrics | Primary Care', 'Ophthalmology - Eye Doctor', 'IM-Gastroenterolgy', 'Spine & Orthopaedic Surgery', 'UROLOGIST', 'PEDIATRICS / ANTI AGING', 'ENT - HNS', 'GASTROENTEROLOGY', 'Internal Medicine- Endocrinology, Diabetes and Metabolism', 'Pediatric Cardiology/Pediatrics', 'Refraction ', 'Obstetrics/Gynecology', 'Rheumatologist', 'CLINICAL CARDIAC ELECTROPHYSIOLOGY', 'Orthopaedic Spine Surgery ', 'GENERAL  SURGERY', 'Ophthalmology, Facial Cosmetic Surgeon', 'Genrela Dentistry Practicing Orthodontics And Esthetic Dentistry', 'Internal Medicine  ', 'Child and Adult Medicine', 'Obstetrician gynecology', 'General Orthopaedics and Trauma Surgery, Arthroscopic Shoulder Surgery and Arthroplasty', 's', 'General Surgery, Neurosurgery', 'Aesthetic Dermatologist and Cosmetic Surgery', 'Dentistry ', 'Ear Nose Throat - Head & Neck Surgery (ENT-HNS)  Rhinoplasty and Facial Plastic Surgery', 'ENT (Otolaryngology)', 'Traditional Chinese Medicine Acupuncture', 'Pediatrics0112344', 'Urology, Endoscopic Urology, Laparoscopic and Minimally Invasive Urology', 'docmark_coli@yahoo.com', 'General Medicine-EMS', 'HPB Surgery', 'Obstetrics &Gynecology', 'Anti Aging and Regenerative Medicine', 'Masters of Science in Preventive & Regenerative Medicine', 'Orthopaedic Sports Medicine', 'Acupunturist1', 'Otolaryngologists', 'Vascular Medicine', 'Otorhinolaryngologist-Head & Neck Surgery/ENT', 'General Surgery and Cancer Surgery/Breast Cancer Surgery, Laparoscopic Cholecystectomy, Thyroid Surgery', 'Child and Adult Psychiatry', 'Alternative and Integrative Medicine', 'General and Cancer Sirgery', 'Internal Medicine, Concierge Medicine', 'Pain Medicine', 'Family Medicine/ Ambulatory Diabetes Care', 'Orthodontics ', 'Orthopedic Surgery + Traumatology', 'Child and Adult Diseases', 'surgery ', 'jj', 'internal blah', 'General, Cancer & Laparoscopic-Robotic Surgery', 'Ophthalmology - Diseases and Surgery of the Eye', 'PEDIATRICS ', 'Occupational Medicine / General Practice', 'Plastic Surgery, Reconstructive and Aesthetic Surgery, Burns Surgery', 'internal Medicine, General Oncology', 'General and Basic Laparoscopic Surgery', 'Otorhinolaryngology- Head & Neck Surgery', 'Ob-Gynecologist', 'Cosmetic Dermatologist', 'Opta', 'INTERNAL MEDICINE PULMONOLOGY', 'Urology test', 'Dental Implantologist', 'Doctor Of Chiropractic', 'Pediatric Nephrology', 'OB Gynecologist', 'Fellow, Philippine College of Surgeons, Inc', 'Ent', 'Opthamology', 'Pediatrics Neonatology', 'ophtha', 'Emergency medicine', 'Neurology -Vascular(Stroke)', 'Endocrinology (test)', 'Urology, Kidney Stones, Urologic Cancers and Prostate Specialist, Endourology and Laparoscopic Urology', 'Hospice and Palliative Medicine ', 'Otorhinolaryngologist', 'General Medicine, Occupational Medicine, and Public Health', 'General Medicine for Adults \\x97 Thyroid Diseases', 'General & Endocrine Surgery', 'Obstetrics and Gynecologist', 'Plastic, Reconstructive and Aesthetic Surgery', 'Internal Medicine - Endocrinology, Diabetes And Metabolism', 'Pediatrics - Pulmonology ', 'Orthopedics - Oncology & Spine Surgery', 'Diagnostic & Therapeutic Nuclear Medicine', 'Kidney Transplant and Vascular Surgery', 'Interventional Cardiology/ Adult Cardiology/ Internal Medicine ', 'Internal Mediciine', 'Pediatrics and Clinical Genetics', 'Obstetrics and Gynecology - Reproductive Medicine and Surgery', 'Neurology-Psychiatry', 'OB-GYN/ General Practice in Female Reproductive Health', 'Functional and Integrative Medicine', 'Muscluloskeletal Rehab', 'Neurology - Pain Management', 'Derma', 'Medical Officer', 'Otolaryngologist', 'NerveTherapy', 'General Surgery And Diving Medicine', 'Internal Medicine/ Cardiology', 'Physical therapy', 'main specialty', 'Diplomate and Fellow in Internal Medicine - Certified Hypertension Specialist / Diplomate and Fellow in Family Medicine - Palliative Care Specialist', 'NEUROSURGERY', 'Internal - Pulmonary Medicine', 'SolSee', 'Otorhinolaryngologist Head and Neck Surgeon', 'ENT (Otolaryngology)  - Head & Neck Surgery', 'm', 'Cosmetic and Implant Dentistry', 'Family Medicine - Diabetology', 'Rehab', 'Aesthetic and Integrative Functional Medicine', 'INTEGRATIVE MEDICINE', 'extraction', 'Integrative Medicine and Lifestyle Medicine', 'Urologic surgeon', 'Pulmonology ', 'abbb', 'Obstetrics-gynecology', 'Obstertric & Gynecology', 'Orthodontics, Cosmetic Dentistry', 'Leading You To True Health', 'ENT-Head and Neck Surgeon/ Rhinoplasty Surgeon', 'Physical Rehabilitation & Medicine', '1', 'Internal Medicine (IM/ Adult Medical Specialist)', 'Im', 'Surgery (& More)', 'genral dentistry', 'Family Doctor', 'Internal Medicine - Lung Disease Specialist', 'Ear, Nose, Throat, Head, Neck Surgery', 'Obstetrics and Gynecology - Gynecologic Oncology', 'Urologic Surgeon', 'Department of Internal Medicine', 'SURGUYYY', 'Internal Medicine-Endcorinology', 'aaaaaaaaaaa', 'Obstetrics&Gynecology', 'internal med', 'Ophthalmology - Orbit & Oculoplastic Surgery', 'Neurology- Psychiatry', 'Prosthodontics', 'Integrative Anti-Aging and Regenerative / Functional Medicine / TCM Acupuncture', 'Internal Medicine - Cardiology; Non-invasive Cardiology; Nuclear Cardiology & Advanced Cardiovascular Imaging', 'Orthopaedic Surgery - Hand Specialist', 'Dermatology and Aesthetics', 'Occupational Medicine & Public Health', 'General Pediatrics \\x95 Pediatric Infectious Diseases', 'Dog & Cat Medicine & Surgery', 'ORAL SURGERY', 'Internal Medicine - Adult Cardiology - Peripheral Vascular Medicine', 'Otorhinolaryngology (Ears, Nose, Throat), Head and Neck Surgery', 'Diagnostic And Interventional Radiology', 'ENT / Otolaryngology - Head and Neck Surgery', 'Primary Health Care/Occupational Health', 'IM - Adult Cardiology / Interventional Cardiology', 'Pediatric Pulmonology ', 'Obstetrics and Gynecoloy', 'Adult Rheumatology - Internal Medicine', 'Interventional cardiology', 'General Practice/ Primary Care Physician/ Public Health/ Occupational Health and Safety', 'OPTOMETRY', 'Plastic, Aesthetic and Reconstructive Surgey', 'IM- Endocrinology ', 'Intenal Medicine', 'PEDIATRICS - ALLERGOLOGY AND IMMUNOLOGY', 'Pyschiatry', 'Occupational Medicine, Aesthetic Medicine', 'RURAL HEALTH PHYSICIAN', 'OB - Gyn', 'IM-Infectious Diseases', 'Allergy and Clinical Immunology', 'Urologist - Urology and Laser Surgery', 'OB gyne', 'Orthopedic Surgery -Sports Medicine -Trauma -MusculoSkeletal Pain & Ultrasound', 'Adult and Occupational Medicine', 'Internal Medicine-Gastroenterology & Liver Diseases', 'Internal Medicine, Diplomate', 'Adult Infectious Diseases/ Internal Medicine', 'Internal Medicine - Gastroenterology, Therapeutic Endoscopy, ERCP', 'General dentistry', 'Organ Transplant and Vascular Surgery, General Surgery', 'Orthopaedic Surgery And General Orthopedics', 'Fellow of the Philippine Academy of Family Physicians', 'Pediatrics, Infectious Disease', 'Lifestyle Medicine, Primary Care', 'Internal Medicine - Gastroenterology, Digestive Endoscopy', 'General Dermatology', 'Internal Medicine/Gastroenteology/Hepatology', 'Eyes,Ears,Nose,Throat', 'Pediatric Gastroenterology, Hepatology and Nutrition', 'ENT Otolaryngology', 'PLASTIC AND RECONSTRUCTIVE SURGERY', 'INTERNAL MEDICINE - CLINICAL ENDOCRINOLOGY', 'Anatomic and Clinical Pathology', 'Breast Surgery', 'Anesthesiologiy', 'Obstetrics', 'General Surgery, Trauma Surgery And Critical Care', 'Endocrinology, Diabetes Mellitus, Thyroid Diseases', 'Internal Medicine | Dermatology', 'Interventional Radiology, Vascular and Interventional Radiology', 'Neurology, Stroke Specialist ', 'Fellow PSO-HNS, ENT-HNS (Voice, Swallowing, Nose, Nasal Sinuses, Head and Neck Surgery)', 'Pulmonologist ', 'Plastic, Reconstructive and Aesthetic/Cosmetic Surgery', 'Cardiovascular', 'Handling Normal Deliveries', 'Gastroenterology & Transplant Hepatology', 'ENT (Otorhinolaryngology - Head and Neck Surgery) / General Medicine', 'Internal Medicine - Allergy and Immunology', 'Internal Medicine - Adult Nephrology ', 'General Practice / Occupational Health', 'Public health', 'Plastic Surgery (Reconstructive & Aesthetic / Cosmetic) / Burns', 'Occupational Medicine / General Medicine', 'ADULT CARDIOLOGY & INTERNAL MEDICINE: Heart Failure, Chest Pain, Hypertension (high blood pressure), Coronary Artery Disease, ECG, Hypertrophic Cardiomyopathies, Arrhythmias, & other heart diseases', 'Clinical Optometrist', 'Fellow, Family Medicine', 'Internal medicine - Gastroenterology', 'Obstetrics Gynecology, Aesthetic Dermatology', 'ENT, Head and Neck', 'Dermatology (Skin, Hair, Nails)', 'Otorhinolaryngology-HNS', 'Internal Medicine, Cardiology, Interventional Cardiology', 'Emergency Medicine, Primary Care', 'General Physician (Pediatrics and Adult)', 'Surgeon', 'INTERNAL MEDICINE- INFECTIOUS DISEASES', 'Nephrology (Kidney Disease) and Internal Medicine', 'General Medicine / Primary Care / Occupational Health / Travel Health', 'Occupational and Preventive Medicine', 'Primary Care / General Medicine', 'Gen dentistry', 'General and Adult Psychiatry', 'FAMILY AND COMMUNITY MEDICINE (Specialist for children, adults, and elderly)', 'Internal Medicine, Gastroenterology and General Hepatology,  Interventional Endoscopy (ERCP & EUS)', 'General Medicine  |  Primary Care', 'General Physician / Occupational Health Medicine', 'General Pediatrics and Pediatric Hematology', 'General Practitioner, General Medicine, Primary Care', 'Physical Medicine Rehabilitation', 'Physical Rehabilitation and Medicine', 'General Orthopedics and Traumatology', 'Pediatric Ophthalmology and Adult Strabismus', 'Obstetrics And Gynecological Diseases', 'Pediatric Infectious Diseases ', 'PRIMARY CARE AND GENERAL MEDICINE', 'General Pediatrics- Pediatric Critical Care Medicine', 'General Adult & Pediatric Medicine', 'Breast Surgery/General and Cancer Surgery', 'Ear Nose Throat, Head and Neck Surgery ', 'Small Animal Practice', 'Neurology (www.brainmindclinicph.com)', 'Geriatrician', 'General Practice & Medical Aesthetics', 'Internal Medicine, Lifestyle Medicine', 'orthopedic surgery', 'Public Health, Occupational Health and Safety', 'Doctor of Chiropractic', 'Neurology, Psychiatry and Sleep Medicine', 'internal Medicine - Adult Cardiology ', \"Family Medicine-Adult and Children's Diseases\", 'Internal Medicine-Adult and Interventional Cardiology', 'physician', 'General Surgery, Family Medicine', 'Ear, Nose, Throat Specialist - Head and Neck Surgery ', 'OPHTHALMOLOGY ', 'Cosmetic Dentistry', 'General Medicine and Primary Care', 'Internal Medicine, General medicine', 'TMJ non-functional orthodontist and prosthodontics laboratory', 'OBSTETRICIAN- GYNECOLOGIST', 'Internal Medicine-Adult Kidney Disease Specialist', 'Ob gyn ultrasound', 'Occupational Medicine and Dermatology', 'General Surgery, Cancer and Laparoscopic Surgery', 'Early Childhood Development | Primary Care', 'Nuclear Medicine and Theranostics / PET-CT', 'Lifestyle Medicine & Plant-Based Chef', 'General Practitioner/ Military Doctor', 'Cosmetic Surgeon', 'Obstertics and Gynecology', 'Family Medicine , Primary Care', 'Internal Medicine- Adult Nephrology and Hypertension', 'Orrhopedic trauma', 'Aesthetic Medicine & Cosmetic Surgery', 'General Practitioner / Occupational Health Physician ', 'Otorhinolaryngology Head & Neck Surgery', 'Geriatric Medicine-Diabetology', 'Pathologic and Aesthetic Dermatology with Venereology', 'general dentistry', 'Medical Oncologist', 'general Physician', 'Ob-Gyne / Reproductive Medicine', 'Addiction Psychiatry, Psychotherapy, Lifestyle Medicine', 'Integrative Medicine, Functional Medicine', 'ENT-Head and Neck surgery', 'General Medicine, Internal Medicine', 'Inter', 'Dermatology and Advanced Wound Care', 'Depression, Anxiety, Trauma', 'Urology - Diseases of the Genitourinary Tract', 'Orthodontics-TMJ', ' General Surgery ', 'General Dentistry, Esthetic Dentistry, Orthodontics', 'Pediatrics, Child and Adult Allergy, Asthma, and Immunology', 'cardiologist', 'ENT- Otorhinolaryngology, Head and Neck Surgery', 'Interventional Radiologist', 'Internal Medicine-Interventional Cardiology', 'Ophthalmologist - Retina Specialist', 'Internal Medicine - Oncology', 'Comprehensive Ophthalmology, Laser and Cataract Surgery', 'Ear, Nose Throat-Head and Neck Surgery', 'Internal Medicine -Cardiology', 'Ear, Nose, Throat-Head and Neck Surgery', 'Pulmonary Medicine  ', 'ENT-HNS Sleep Medicine-Sleep Surgery', 'Orthopedic Trauma', 'Internal Medicine/Allergy', 'Veterinary medicine', 'Primary & Aesthetic Skin Health/ Occupational Medicine/Primary Care', 'Internal Medicine, Diabetes, Thyroid and Endocrinology', 'IM - ONCOLOGY', 'Psychiatry & Behavioural Medicine', 'Internal Medine', 'Dermatology - skin, hair and nails', 'Internal Medicine/Cardiology', 'Ears, Nose, Throat -Head and Neck Surgery', 'Colon and Rectal Surgery', 'Otorhinolaryngology - Head and Neck Surgery (ENT - HNS)', 'IM-GASTROENTEROLOGY', 'Comprehensive Dentistry', 'Skin Health and Aesthetic Dermatology', 'Adult & Pediatric Allergy, Asthma, and Immunology', 'Adult & Pediatric Allergology - Immunology / General Pediatrics', 'General Psychiatry and Behavioral Medicine  (Adult)', 'OBSTETRICS-GYNECOLOGY', 'Lifestyle and Anti-aging Medicine', 'Dermatology (Adult and Pediatric) ', 'General Medicine & Aesthetic Medicine Practitioner', 'Functional Medicine and Lifestyle Medicine', 'Aesthetic Facial Surgery, Cosmetic Surgery, Ophthalmology, Plastic Surgery, ', 'Allergy / Immunology', 'General Laparoscopic and Cancer Surgery', 'Internal Medicine-Gastroenterologist', 'Otolaryngology - Head and Neck Surgery (ENT-HNS)', 'Integrative Medicine, General Medicine, Acupuncture', 'Obsterics And Gynecology', 'Adult and Pediatric Neurology', 'INTERNAL MEDICINE-MEDICAL ONCOLOGY', 'Orthopaedics Spine', 'INTERNAL MEDICINE-GASTROENTEROLOGY', 'Consultation', 'IM-MEDICAL ONCOLOGY', 'Ear Nose Throat-Head & Neck Surgery', 'Diplomate In Internal Medicine', 'Emergency Medicine, General Medicine and Surgery', 'Cardiology - Internal Medicine', 'INTERNAL MEDICINE-CARDIOLOGY', 'Child Health', 'Orthopedic Surgery/ Trauma Surgery/ Spine Surgery', 'Lifestyle Medicine Specialist', 'Internal \\x96 Pulmonary Medicine', 'Asthma & Allergy', 'EARS, NOSE THROAT, HEAD AND NECK SURGERY', 'Obstetrics- Gynecology', 'Ear, Nose, Throat & Head And Neck Surgery', 'Dermatology - Diseases of the Skin, Hair, and Nails', 'General Surgery, Adavanced Laparoscopic Surgery', 'Internal Medicine - Neurology ', 'IM Nephrology', 'Pulmonary Medicine, Internal Medicine', 'PEDIATRIC NEUROLOGY', 'Internal Medicine/Adult Pulmonary Specialist', 'Vascular and Endovascular Surgery', 'Obstetrics & Gynaecology', 'Sleep Specialist', 'Ophthalmology - Cataract, Laser & Microsurgery of the Eye', 'Orthopedic & Spine Surgery', 'Urology and Transplantation', 'Internal Medicine-Diabetes', 'Otorhinolaryngology (Ear, Nose, Throat)- Head and Neck Surgery', 'Thoracic and Vascular Surgery', 'ENT-Head and Neck Surgery/ Sleep Medicine', '(ENT-HNS) Ear Nose Throat, Head and Neck Surgery', 'Ear Nose Throat Head & Neck Surgery', 'Otorhinolaryngology-Head and Neck Surgery (or ENT-HNS)', 'Otolaryngology Head & Neck Surgery', 'Comprehensive Sex Education / Wellness Specialist', 'Specialty', 'Endocrinology and Metabolism', 'Radiology ', 'Pain Medicine ', 'Adult Cardiologist', 'Internal Medicine / Diabetology / Goiter / Endocrinology', 'General and Cancer Surgery | Laparoscopic Surgery', 'Sleep Medicine/Sleep Studies (Polysomnographer)', 'EAR, NOSE, THROAT, HEAD and NECK SURGERY (ENT-HNS)', 'Family Medicin', 'Ear Nose & Throat - Head and Neck Surgery', ' Obesity Medicine and Lifestyle Medicine', 'Ear, Nose and Throat-Head and Neck Surgery', 'Fellow in Family  & Community Medicine', 'Pulmonary & Internal Medicine', 'Pediatric Allergy', 'Obstetrics and Pediatrics', 'Lying-in Clinic', 'Orthopaedic Spine Surgery', 'Obstetrics/ Gynecology\\nClimacteric Medicine\\nMenopause', 'General Medicine / Ophthalmology', 'General and Oncologic Surgery', 'Internal Medicine - Adult Nephrology (Kidney Diseases)', 'Obstetrics, Gynecology', 'Otorhinolaryngology-Head and Neck Surgery (Diseases of the Ear, Nose and Throat)', 'General Physican', 'general  and cancer surgery', 'Gastroenteroloy', 'Pediatric Gastroenterology', 'Anesthesiology and Pain Medicine', 'General Surgery, Thoracic And Cardiovascular Surgery', ' ', 'General Pediatrics - Ambulatory', 'Dental Medicine, Oral Maxillofacial Surgery', 'Dermatology (Medical & Cosmetic)', 'Pediatric Hematology\\nPediatric Hematology and Oncology\\nPediatrics', 'Family Medicine (Diplomate)', 'IM-Cardiologist', 'General, Cancer, Laparoscopic, and Trauma Surgery', 'Internal Medicine/Adult Cardiology', 'INTERNAL MEDICINE - GASTROENTEROLOGY', 'Dermatology & Aesthetics', 'Otorhinolaryngology - Head and Neck Surgery (ENT)', '.', 'OTOLARYNGOLOGY (ENT)', 'Gastroenterology & Hepatology', 'Ear, Nose , Throat - Head and Neck Surgery', 'Fellow, Adult Cardiology', 'Consultant in Family Medicine @ Rivera Medical Center, Inc.; Chief of Clinics; Training Officer Family Medicine Residency Program; Master in Hospital Administration', 'Ortho spine Surgeon', 'IM- PULMONOLOGY', 'Child Neurology', 'PSYCHOLOGY', 'GP/ Pediatrics', 'Orthopedics and Traumatology', 'Ophthalmology / Ophthalmologist / Eye Doctor / Eye Care Specialist / Comprehensive Ophthalmology', 'Orthopaedic and Hand Surgery', 'Ear, Nose, Throat,  Head and Neck Surgery', 'General And Cancer Surgery', 'OBSTETRICS and GYNECOLOGY', 'Internal Medicine Adult Diseases Specialist', 'Ophthalmology/Glaucoma/Cataract and Comprehensive Ophthalmology', 'Internal Medicine / Primary Care', ' Integrative Medicine', 'Interna Medicine ', 'Otorhinolarygology Head and Neck Surgery', 'Occupational Medicine / General Practitioner', 'Otolaryngology Head and Neck Surgery (ENT-HNS)', 'Naturopathic Medicine', 'Adult Hematology', 'Allergology and Immunology, General Pediatrics', 'Genitourinary and Stone Diseases', 'OB-GYN, Family Medicine', 'Internal Medicine Gastroenterology ', 'Pediatrics-Pulmonology', 'MEDICAL ONCOLOGY', 'Otorhinolaryngology-Head and Neck Surgery(ENT-HNS)', 'Adult Pulmonology and Critical Care Medicine', 'Neurological Surgery', 'Ear Nose Throat Head and Neck surgeon (ENT-HNS )', 'GS', 'Orthopaedics and Spine Surgery', 'NeuroSurgery', 'pediatric', 'urology', 'ENT/ Otorhinolaryngology-Head and Neck Surgery', 'Internal Medicine - Cardiology - Interventional Cardiology', 'General Pediatrics\\n', 'General Medicine And Animal Bite Physician', 'PLASTIC, RECONSTRUCTIVE AND AESTHETIC SURGERY', 'Orthopedics, Hip and Knee Arthritis Specialist, Hip and Knee Replacement Surgery', 'General, HPB, Laparoscopic Surgery', 'Otorhinolaryngology (ENT) - Head and Neck Surgery', 'UROLOGY, ADULT AND PEDIATRICS', 'SPINE / ORTHOPEDICS TRAUMA', 'Municipal Health Officer - Bagac Bataan', 'Physician Surgeon,Cosmetic Dermatology ', 'Psychiatry and Internal Medicine']\n"
     ]
    }
   ],
   "source": [
    "print(doctors_copy_df['mainspecialty'].value_counts().index.tolist())"
   ]
  },
  {
   "cell_type": "markdown",
   "id": "5be63e28",
   "metadata": {},
   "source": [
    "## Check List of Unique Doctor Main Specialties"
   ]
  },
  {
   "cell_type": "code",
   "execution_count": 20,
   "id": "22c15f71",
   "metadata": {},
   "outputs": [
    {
     "name": "stdout",
     "output_type": "stream",
     "text": [
      "[' General Pediatrics', 'General Physician, Nutrition and Dietetics', 'General Practice / Internal Medicine', 'Otolaryngology (Ear, Nose, Throat) - Head & Neck Surgery', 'Pediatrics and Addiction Medicine', 'Internal Medicine | Adult Disease Specialist', 'General and Cosmetic Dentistry', 'General Practitioner; Internal Medicine', 'Obstetrics-Gynecology ', 'Family and Community Medicine (in training) | Occupational Safety & Health Physician ', 'Adult Pulmonology, Lung Masses', 'Anesthesia ; General Medicine; Occupational Medicine', 'Neurology - Diseases of the Brain, Spinal Cord, Nerves and Muscles', 'General Orthopedics and Trauma', 'Occupational medicine', 'Aesthetic Dermatologist & Anti-Aging Medicine', 'General Adult And Child Medicine', 'Internal Medicine - Adult Infectious Diseases', 'General Medicine & Optometrist', 'General Family and Adult Medicine', 'Urologist ', 'Physical Medicine & Rehabilitation ', 'General Practitioner, Primary Care, Preventive Care', 'Colon, Rectal, and Anal Surgery', 'ENT (Otorhinolaryngology Head & neck Surgery)', 'INTERNAL MEDICINE - CARDIOLOGY', 'Urologic Surgery ', 'Diabetes Specialist', 'Obstetrician-Gynecologist (OBGYN)', 'Cosmetic Surgeon, Regenerative Specialist, Functional and Aesthetic Gyneologist, Obstetrician', 'Emergency and General Medicine', 'Internal Medicine  -Adult Diseases Specialist', 'General Surgery and Laparoscopic Surgery', 'General Physician, Covid-19 suspect/confirmed', 'IM - Cardiology - Electrophysiology', 'Doctor of Veterinary Medicine', 'Orthopedics / Orthopaedics, General Orthopaedics', 'Internal Medicine, Infectious Diseases ', 'Pediatric and Adult Allergy, Asthma and Clinical Immunology', 'OB-GYN SONOLOGIST', 'General Medicine, General Practitioner, Preventive Medicine and Public Health', 'Community Growth Manager', 'Poisoning/Toxicology ', 'General Medicine & Child Health', 'Pediatric Neurology, General Pediatrics', 'Adult & Pediatric Medicine', 'Pediatric Neurology | General Pediatrics | Stroke', 'Ears,nose,throat-Head and Neck Surgery', 'Obstetrics And Gynecology, Reproductive Endocrinology And Infertility ', 'General Practitioner, Pediatrics Junior Consultant ', 'IM - Adult Cardiology', 'Internal Medicine; General Medicine; Public Health; Primary Care', 'Depression and Anxiety', 'Multi-Specialty Clinic & Rehabilitation Center', 'Family Medicine, Adult Medicine, Occupational Medicine', 'Urologic Surgeon / Urology', 'General/Family Medicine', 'Adult and Pediatric Diseases', 'Physical & Rehabilitation Medicine', 'General Medicine, General Physician, Primary Care', 'Primary Care Physician / General Physician', 'Internal Medicine - Philippine College of Physicians, Diplomate', 'Dentistry, General Medicine', 'General Medicine, Family Medicine, \\nOccupational Medicine', 'Occupational Health Physician; General Medicine', 'Ophthalmology\\nCataract and Refractive Specialist', 'Internal  Medicine', 'Orthopedic Surgery ', 'Nuclear medicine and PETCT ', 'Otolaryngology ', 'Health Optimization Medicine, Bioidentical Hormone Balancing (Male and Female), Nutritional Medicine', 'Aesthetic Derm', 'Internal Medicine-Rheumatology', 'General Medicine, Primary Care & Public Health', 'Ophthalmology Otorhinolaryngology Head and Neck Surgery', 'General Medicine, General Physician, Primary Medicine', 'Internal Medicine - Nephrology ', 'General Practice, General Medicine, Primary care', 'Counseling and Psychotherapy', 'Obstetrics and Gynecology (OBGYN), Reproductive Endocrinology & Infertility', 'General Physician, Occupational Health Physician', 'general pediatrics', 'General Surgery/ TCVS ', 'General Surgery/Laparoscopic Surgery/Cancer Surgery', 'Medical Oncology-Internal Medicine', 'GENERAL OB GYN', 'Thoracic and Cardiovascular Surgery, Functional Medicine', 'Otorhinolaryngology - Head and Neck Surgery (ORL/ENT-HNS)', 'General Practitioner/General Medicine', \"I'M-CARDIO \", 'General Surgery; General Medicine', 'Internal Medicine - Gastroenterology ', 'ObGyne', 'Otorhinolaryngology (Ear, Nose, Throat) - Head and Neck Surgery', 'Internal Medicine - Adult Cardiologist', 'Otolaryngology ( Ears, Nose, Throat- Head and Neck Surgery)', 'General Dentistry, Oral Surgery, TMJ-Orthodontics', 'MD, General Practitioner', 'Internist- Adult Disease Specialist', 'General and Oncologic Urology', 'Otolaryngology (Ears, Nose and Throat) Head and Neck Surgery', 'Obsterics- Gynecology', 'General Medicine, Emergency Medicine', 'Nuclear Medicine /  Primary Care ', 'General Medicine-General Surgery', 'MD - General Practitioner', 'initial psychological assessment, consulting, counseling and psychotherapy', 'General Physician, Surgeon', 'Internal Medicine - Adult Cardiology ', 'Ear, Nose , Throat-Head and Neck Surgery', 'General Medicine and Surgery', 'Emergency Medicine/ General Medicine/ Ambulatory Medicine\\n', 'INTERNAL MEDICINE - PULMONOLOGY', 'Orthopedics/Orthopedic Surgery', 'Obstetric Gynecologist ', 'Dentistry-Orthodontics ', 'Dental & Dermatology\\t', 'Otolaryngology Head and Neck Surgery (ENT)', 'Clinical and Cosmetic Dermatology', 'Dermatology/ Pediatrics', 'Primary Health Care / Occupational Health Physician', ' General Pediatric ', 'Occupational and Industrial Health Medicine', 'Internal Medicine/Adult Medicine', 'General Practitioner, Occupational Medicine', 'Internal Medicine - Adult Interventional and Critical Care Cardiology', 'Pediatrics and Family Medicine', 'General Medicine, Occupational Health, Primary Care, Internal Medicine, COVID-19, Aesthetic Medicine, Preventive Medicine, Lifestyle Medicine', 'Internal Medicine; Adult Cardiology; Cardiac Electrophysiology and Device Implantation', 'Internal Medicine-Gastroenterology ', 'Mental Health / Addiction Medicine / Medico-Legal / General Medicine (Primary Care)', 'General Surgery, Aesthetic Medicine', 'Internal Medicine-Adult Pulmonary Medicine ', 'Internal Medicine - Pulmonary Medicine ', 'Palliative Care, Hospice Care, Home Care, Family Medicine', 'Adult & Child Allergy, Asthma & Clinical Immunology', 'OBGYN ', 'Counseling', 'Internal medicine, Covid telehealth', 'Obstetrics And gynecology', 'General Surgery (Cancer, Colorectal, Breast, and Laparoscopic Surgery)', 'Family & Occupational Medicine', 'Neuropsychological assessment and Neurodevelopmental evaluation, Applied Behavioral Analysis Intervention and Behavioural Support Programs', 'Anesthesiology, Pain Medicine', 'Diet & Nutrition', 'Internal-Medicine- Adult Cardiology', 'Adult Cardiology - Internal Medicine', 'Psychology ', 'General Medicine / Nutrition', '000', 'Ear, Nose and Throat, Head and Neck Surgery', 'General Medicine - ADULT AND CHILD DISEASES', 'ENT - HEAD AND NECK SURGERY', 'Psychometrician, General Physician', 'Internal Medicine - Adult Invasive Cardiology', 'Internal Medicine, Pulmonary and Sleep Medicine', 'Pediatric Infectious Diseases', 'Thoracic and Cardiovascular Surgery', 'Licensed and Registered Psychologist', 'ENT, Otorhinolaryngology, Head & Neck Surgery', 'Depression, Anxiety', 'Family Medicine - Infectious Disease And Tropical Medicine (FM-IDTM)', 'Internal Medicine- Pulmonary Medicine', 'General Medicine/ Occupational Health', 'IM-Endocrinology', ' Adult Gastroenterology ', 'Digestive Surgery; General and Cancer Surgery; Advanced Laparoscopy and Robotics ', 'ENT Otorhinolaryngology Head & Neck, Maxillofacial Surgery', 'Addiction Medicine, General Pediatrics, General Medicine', 'General Practice (Primary Care Physician)', 'Neurology (Adult)', 'General Practicioner/MD', 'Psychotherapy, Counseling', 'Endrocrinology', 'Dental & Dermatology', 'Pediatric Pulmonology and Critical Care', 'Registered Psychologist', 'Internal Medicine | Cardiology', ' Urology', 'General Pediatric Resident', 'Medical Oncology & Internal Medicine', 'Psychology, Psychotherapy, EAP, Counselling', 'Internal Medicine- Adult Disease Specialist', 'Traditional Chinese Medicine', 'Family Medicine in Training', 'Adult Critical Care', 'Diplomate of Internal Medicine', 'Periodontics and Dental Implants', 'Geriatric Medicine', 'GRIEF COUNSELING,  MARITAL/COUPLE/FAMILY COUNSELING', 'Thoracic, Cardiac, and Vascular Surgery', 'Periodontics', 'Physical and Rehabilitation Medicine ', 'Internal Medicine, Adult Cardiology, Vascular Medicine', 'Anesthesiology/Pediatric Anesthesiology/Pain', 'Mental Health, Sleep, Nutrition, Exercise,  Hypertension, Dyslipidemia, Diabetes, Obesity, Addiction (Smoking, Gambling, Drugs, Alcohol, etc) and Cancer Prevention Physician, Therapist, and Coach', 'Internal Medicine and Medical Oncology', 'Vascular and Interventional Radiology', 'Family Medicine, Ophthalmology', 'Gynecologic Laparoscopy', 'ENT-HNS( OTORHINOLARYNGOLOGY)', 'Plastic Reconstructive and Aesthetic Surgery', 'General Medicine and Hospital Administration', 'Occupational Health and Industrial Medicine; Anesthesiology and Pain Medicine', 'Internal Medicine - Adult and Pediatric Allergy, Asthma, Clinical Immunology and Reproductive Immunology', 'Internal Medicine - Adult Disease', 'Pediatrics/Internal Medicine/Allergology', 'Otolaryngology   Head & Neck Surgery', 'Internal Medicine  \\x97 Hematology', 'General Medicine, Occupational medicine', 'Pulmonary and Internal Medicine', 'GENERAL  MEDICINE', 'General Medicine, Veterinary Medicine', 'ORL-HNS ', 'Obstetrics and Gynelcology', 'Prosthodontics, Restorative, Oral Surgery, Pediatrics', 'OB-GYNE ', 'General Medicine-Dermatology', 'Multispecialty Clinic', 'Veterinarian', 'Internal Medicine and Surgery', 'Neurology, Psychiatry', 'orthodontics and esthetic dentistry', 'Primary Care, General Medicine', 'General Medicine, General Practice', 'General Practitioner, Occupational Health Practitioner', 'General Surgery (Thyroid, Breast, Gallbladder, Hernia, Appendix, Colon, Hemorrhoids)', 'Orthopedics Surgery', 'Periodontics and Implant Dentistry', 'ENT-HNS /OTOLARYNGOLOGY-HEAD AND NECK SURGERY ', 'Radiology family medicine ', 'Fm', 'Occupational Health Physician, General Practice, Primary Care Physician', 'General Medicine, Primary Health Care', 'General dentist practice', 'General Pediatrics, Diplomate', 'General Dentistry, Orthodontics , Endodontics, Oral Surgery', 'Radiation Oncology / Otorhinolaryngology', 'Breast Surgery & General Surgery', 'General Medicine, Occupational Safety and Health (OSH) Medicine', 'General Medical Physician', 'Medical Oncology (Cancer Specialist)', 'Internal Medicine\\nPulmonary and Critical Care Medicine', 'HOSPITAL DENTISTRY', 'Family Medicine (Adult and Children Diseases)', 'General Surgery, Surgical Oncology', 'Primary Care Physician / General Practitioner', 'PEDIATRIC GASTROENTEROLOGY, HEPATOLOGY & NUTRITION', 'Internal Medicine - Clinical and Invasive Cardiology', 'Orthopedic Surgery - Sports Medicine and Joint Reconstruction Surgery', 'Internal Medicine - Interventional Cardiology ', 'Internal Medicine - Clinical Nutrition', 'General  and Cancer Surgery Laparocopic Surgery', 'Ears,Nose,Throat-Head And Neck Surgery', 'Lifestyle Medicine ', 'PRIMARY CARE', 'TMJ-Craniodontics', 'Occupational Medicine and General Practice', 'Otolaryngology, Head and Neck Specialty (ENT-HNS)', 'General Medicine & Ophthalmology', 'Psychotherapy, Counseling, Psychology', 'General Medicine; Obstetrics and Gynecology', 'Adult and Pediatric Urology', 'Ear, Nose,Throat-Head and Neck Surgery', 'ORTHOPAEDICS', 'GENERAL ORTHOPEDICS AND TRAUMATOLOGY', 'Orthodontics and TMJ Management', 'Medicine ', 'PHYSICAL MEDICINE AND REHABILITATION, CLINICAL NEUROPHYSIOLOGY AND MYOGRAPHY', 'Adult Neurology, General Medicine, Primary Care', 'General Surgery Hepato-Pancreato-Biliary Laparoscopy', 'Family Medicine/ Medical Acupuncture ', 'Dermatology-Hair Transplant', 'General Pediatrics and Primary Care', 'General Practice/ General Medicine', 'Aesthetic Medicine ', 'General Medicine/Aesthetic Medicine/ Cosmetic Surgery/Lifestyle Medicine', 'Counseling, Psychotherapy and Psychological Testing', 'General `Physician ', 'General Dentistry, Orthodontics, Cosmetic Dentistry, Oral Surgery', 'Internal Medicine -Adult Cardiology-Hypertension Specialist', 'Internal Medicine, Rheumatology', 'Psychiatry, Mental Health', 'Mental Health;  General Practice - with Training in Psychiatry', 'Rheumatology - Internal Medicine ', 'Occupational And Industrial Medicine', 'General Ophthalmology ', 'Internal Medicine Cardiology', 'DENTISTRY', 'General medicine ', 'general physician', 'Neurology and Psychiatry ', 'Adult Psychiatry ', 'Family Medicine, Adult Medicine', 'Obstetrician gynecologist', 'Ears, Nose, Throat-Head and Neck Surgery', 'Restorative Medicine', 'Internal Medicine - Adult Cardiology - Vascular Specialist', 'ENT - Head & Neck Surgery', 'Orthopedic Specialty', 'GENERAL Pediatrics', 'Ears, Nose, Throat ENT - Head and Neck Surgery', 'General Dentistry, Orthodontics, Surgery, Pediatrics ', 'Internal Medicine, Adult Diseases', 'Mental Health  & Psychotherapy', 'Radiology/ General Physician ', 'Head and Neck Surgery', 'Colorectal Surgery & Proctology | General Surgery', 'General pediatrics', 'Gastroenterology, Internal Medicine', 'Primary healthcare', 'ENT (Otorhinolaryngology)', 'ENT (Otorhinolaryngology) - Head and Neck surgery', 'Obstetrician Gynecology', 'Internal Medicine- Adult Interventional Cardiology ', 'Nutrition Care', 'Family Medicine and Occupational Medicine', 'General Practice, General Medicine, Primary Care', 'Advanced Orthopaedic Trauma', 'Breast Cancer', 'SSurgery', 'Poisoning, Snake Bites, Cobra Envenomation, Clinical Toxicology, HAZMAT Life Support, Family Medicine, Primary Medicine', 'Primary Care Physician - General Practitioner', 'General  Physician ', 'Pain Management, Anesthesiology', 'physician surgeon', 'Oral Surgery, Orthodontics, Cosmetic Dentistry', 'Adult cardiology', 'Mental Health Practitioner', 'Counseling Psychology, Mental Health Counseling', 'Physical Therapist', 'General Dentistry, Oral Surgery, Periodontics, Dental Implantology', 'Mental Health and General Medicine', 'Internal Medicine - Adult Oncology ', 'Internal Medicine - Nephrology & Hypertension', 'Adult and Pediatric General Practitioner', 'Adult & Pedia Medicine', 'General Medicine, Health And Wellness , Integrative Medicine', 'Public Health and General Practice', 'General Medicine, Lifestyle Medicine, Primary Care, Adult & Child Diseases', 'IM Cardiology', 'OB GYNE, Nutritionist Dietitian', 'Mental Health, General Practice with training in Psychiatry', 'IM-Pulmonology', 'General Medicine, Family Medicine, Preventive Medicine', 'Interventional Cardiology / Internal Medicine', 'Pediatrics and Child Neurology', 'General Medicine | Primary Care | Pathology Resident', 'DENTAL', 'General Medicine, General Practitioner', 'Pediatric Optometry', 'Internal Medicine (Adult Diseases) - Gastroenterology', 'Dermatology and Venereology', 'ENT Head & Neck Surgery', 'Family Medicine & Birthing Home', 'Physical Medicine and Rehabilitation and Pain Medicine', 'ENT Head & Neck Surgery (Otorhinolaryngology) ', 'Infectious Diseases, Internal Medicine', 'Adult and Child', 'DIPLOMATE, PHILIPPINE BOARD OF OTORHINOLARYNGOLOGY- HEAD AND NECK SURGERY', 'OB-GYN, DPOGS', 'GENERAL AND LAPAROSCOPIC SURGERY', 'ENT-Head & Neck Specialist', 'Orthodontics, Oral surgery', 'Internal Medicine & Medical Oncology', 'Primary Care Physician (Adult & Children Diseases)', 'PRIMARY CARE PHYSICIAN', 'PULMONOLOGY AND ADULT MEDICINE/ INTERNAL MEDICINE ', 'INTERNAL MEDICINE ADULT CARDIOLOGY', 'Internal Medicine (Adult Diseases)', 'Emergency, Critical Care, Internal Medicine', 'Internal Medicine, Adult Cardiology', 'Primary Physician', 'Companion animal medicine', 'General Medicine & Primary Care', 'Obstetrics Gynecology ', 'General Practitioners ', 'Ophthalmology | Lifestyle Medicine', 'Primary Care/General Medicine/Family Medicine/Preventive Medicine', 'Board Certified Pediatrician', 'Endocrinology ', 'Internal Medicine- Pulmonology', 'General Medicine, Primary Care, Occupational & Industrial Medicine', 'Ob-Gynecology / Ultrasound Subspecialist', 'Family Medicine (Primary Care practice in Mental Health, Hypertension, Diabetes, Sleep)', 'Otolaryngology-Head and Neck Surgery (ENT-HNS)', 'Primary Care & General Medicine', 'Clinical Psychology | Psychotherapy | Psychological Testing | Mental Health Speaker', 'Fellow in Internal Medicine', 'Pediatric Dentistry, Esthetic Dentistry, General Dentistry', 'Psychosocial Counseling, Psychological Assessment, Mental Health', 'General Medicine (Adult and Pediatric)', 'Primary Healthcare Physician', 'General Medicine Practitioner', 'General Medicine, Primary care, Occupational Health Physician', 'General Medicine/Lifestyle Medicine', 'general physician, primary care', 'General Physician / 09559301258', 'General Practitioner - Adult Medicine', 'Pulmonology - Internal Medicine', 'Neurology/Parkinson\\x92s disease and movement disorders ', 'General Physician\\nOccupational Health Physician', 'Internal Medicine General Medicine', 'General Medicine and Occupational Health ', 'Adult Pulmonology', 'Internal Medicine-Adult Cardiology ', \"Hormone Health, Women's Health, Functional Nutrition, Gut Issues\", 'Pain Medicine (pain management)', 'General Medicine, 1 year experience in Primary Health Care', 'Primary Care/General Practice', 'Internal Medicine / Adult Nephrology', 'General Practitioner, Primary Care & Occupational Medicine ', 'Adult And Pediatric Emergency Medicine', 'Primare Care Physician', 'Surgical Oncology', 'FAMILY /GENERAL MEDICINE', 'General Dentisry', 'Otorhinolaryngology (ENT) Head & Neck Surgery', 'Diplomate in Internal Medicine | Adult Diseases', 'General Medicine, Obstetrics & Gynecology, Public Health, Primary Care', 'Ears, nose, throat- head and neck surgery', 'Rehabilitation  Medicine ', 'Internal Medicine Pulmonary Diseases', 'General Practitioner, Occupational Health Physician', 'Orthopedic Surgery and Sports Medicine', 'General, Laparoscopic, Cancer Surgery', 'Internal Medicine, HIV Primary Care, Transgender Health', 'General Medicine and Neurology', 'Company Nurse', 'Ears, Nose, Throat - Head and Neck Surgery (ENT-HNS)', 'Orthopedic & Spine Surgery ', 'Allergy, Asthma, General and Reproductive Immunology', 'General Physician, 1st Year - Practice-Based Family Medicine Resident ', 'General Medicine - Pediatrics', 'Otorhinolaryngology (Ear, Nose, & Throat [ENT]) - Head & Neck Surgery', 'General and Laparoscopic Surgery ', 'General dentistry ', 'Internal Medicine (Adult Disease Specialist)', 'Internal Medicine, Adult Disease Specialist', 'Ear Nose Throat, Head and Neck Surgery', 'Internal Medicine / Adult Disease Specialist', 'Workplace Psychology', 'Fellow, Obstetrical and Gynecological society', 'Physical Medicine and Rehabilitation | Physiatrist', 'General Surgery, General Medicine', 'Internal Medicine - Diabetes Specialist ', 'Davao del Norte Hospital - IGACOS Zone', 'Pediatrics, General Medicine, Primary Care', 'Internal/Adult Medicine', 'Thoracic, Cardiac And Vascular Surgery', 'General/Cancer Surgery', 'General Medicine\\nInternal Medicine\\nPulmonology and Critical Care Medicine', 'Family Medicine and Occupational Medicine; Technical Health and Safety, Life and Mental Health Coach, Process Improvement, Workplace Legal Health Industry Expert, Accredited OSH Consultant & Speaker', 'Maxillofacial Surgery', 'Adult & Pediatric Optometry, DPA Certified', 'Internal Medicine | Nephrology', \"Children's Diseases\", 'ENT-Head and Neck Surgery Resident ', 'MEDICAL DOCTOR & BREAST SPECIALIST RADIOLOGIST', 'Adult Congenital Heart Disease', 'General Medicine, Public Health, Family Medicine', 'General Medicine - Occupational Health Physician', 'NEUROLOGY', 'Internal Medicine  - Infectious Diseases', 'EMERGENCY MEDICINE', 'Endocrinology,  Diabetes and Metabolism', 'Occupational Medicine, General Medicine, Minor Surgery and Wound Care', 'ENT (Ears, Nose, Throat - Head and Neck Surgery', 'General Medicine, Primary Care, Rehabilitation Physical Therapy', 'INTERNAL MEDICINE-ADULT DISEASE SPECIALIST', 'Counseling, Coaching', 'Adult General Medicine', 'Lifestyle and Internal Medicine', ' Pediatrics ', 'Thyroid Specialist', 'Occupational  Medicine', 'Internal Medicine - Rheumatology ', 'General Medicine, Primary Care, Wound Care', 'Pediatric Gastroenterology, Hepatology, and Nutrition', 'Pediatrics, Pediatric Cardiology', 'General Practitioner, Primary Care & Public health', 'Ears Nose Throat - Head and Neck Surgery', 'Clinical and Cosmetic Dermatology / Occupational MD - General Med ', 'General Medicine, General Physician', 'Otorhinolaryngology- Head And Neck Surgery', 'Adult Diseases, Internal Medicine', 'General Medicine/Primary Care Physician ', 'Internal Medicine, Gastroenterology, Therapeutic Endoscopy', 'Occupational & Preventive Medicine', 'Primary Care Physician ', 'Adult Pulmonary Medicine', 'General Medicine, Nutrition and Dietetics', 'General Medicine, Radiology', 'Internal Medicine - Endocrinology ', 'ORL-HNS (ENT-HNS)', 'Internal Medicine-Adult Disease Specialist', 'General and Lifestyle Medicine', 'Nuclear Medicine- Thyroid (Radioactive Iodine Therapy)', 'General & Occupational Medicine', 'Internal Medicine\\n', 'Otorhinolaryngology (Ears, Nose and Throat), ENT-Head and Neck Surgery, ', 'Orthopedic and spine surgery ', 'Emergency Medicine ', 'Family Physician', 'OBSTETRICS/ GYNECOLOGY', 'General Ears, Nose & Throat Diseases; Otolaryngology-Head and Neck Surgery', 'OB-GYN Perinatologist', 'Internal Medcine ', 'General Physician, Medical Acupuncturist ', 'OB GYN ', 'Psychotherapy, Psychosocial Counseling, Mental Health Consultation, Psychological Assessment', 'Pediatric Hematology and Oncology ', 'General Surgery and Minimally Invasive Surgery', 'Adult and Pediatric General Medicine', 'Dental Medicine, Periodontics', 'Internal Medicine -  Hematology', 'General Medicine, Anesthesiology', 'Obstetrician - Gynecologist, OBGYN', 'Adult Medicine Specialist', 'ObGyn', 'Endocrinology, Internal Medicine', 'Psychometrician & Psychologist', 'laparoscopy', 'General & Laparoscopic Surgery', 'Family Medicine, Lifestyle Medicine', 'General Practitioner - Occupational Health Physician', 'OB Gyn ', 'Aesthetic dentistry', 'Primary Care, General Medicine, Preventive Medicine, Public Health', 'ENT (otorhinolaryngology) Head and Neck Surgery', 'General Pediatrics / Occupational & Industrial Medicine', 'Fellow, Aesthetic Dermatology, Cosmetic Surgery', 'PEDIATRICS\\n', 'OB-GYN, Women\\x92s Wellness', 'Dermatology, Diseases of the Skin, Hair and Nails, Clinical and Aesthetic Dermatology', 'Primary Care | Occupational Medicine ', 'General Dentistry, Minor Oral Surgery, Orthodontics', 'General Medicine/Occupational Medicine', 'General Medicine, Occupational & Industrial Medicine', 'General Surgery And Laparoscopy', 'General and cancer surgery', 'GENERAL / OCCUPATIONAL MEDICINE', 'Ears, Nose and Throat', 'General Medicine, Aesthetic Dermatology', 'Otolaryngology - Head and Neck Cancer Surgery / ENT / Diseases of Ears, Nose, and Throat', 'General Pediatrics; Adult and Pediatric Allergy and Immunology', 'ENT (Otorhinolaryngology) - Head and Neck Surgery', 'Internal Medicine | General Medicine', 'Multispecialty', 'Primary Care Physician, General Practitioner, General Medicine', 'General Surgery And Cancer Specialist', 'Diplomate of Philippine Pediatric Society; Diplomate in Pediatric Nephrology, Philippine Society of Nephrology', 'General Dentistry, Orthodontics, Oral Surgery', 'General Pediatrics and Hematology', 'Endocrinology, Internal Medicine ', 'Physical and Rehabilitation Medicine', 'Prosthodontist', 'MD, FPCP Diplomate, Philippine Society of Nephrology', 'Obstetrics And Gynecologist', 'Internal Medicine - Functional Medicine', 'Wound Care Ambulatory Unit', 'Dentist', 'Cosmetic-Plastic Surgeon', 'Family Medicine/Occupational Health', 'Addiction Medicine', 'General Orthopedic Surgery ', 'Plastic, Reconstructive, Aesthetic and Burn Surgery ', 'Otorhinolaryngology- Head and Neck Surgery (ENT-Head and Neck Surgery)', 'Veterinary ', 'Family Medicine Adult Medicine', 'PATHOLOGY', 'Holistic-Integrative Medicine/Lifestyle Medicine', 'General Medicine, Obstetrics and Gynecology ', 'CLINICAL OPTOMETRY', 'IM - Infectious Diseases', 'Rehabilitation & Physical Therapy', 'Diplomate in Internal Medicine / Adult Disease Specialist', 'Internal Medicine, Pulmonary and Critical Care Medicine ', 'Aesthetic & Pathologic Dermatology', 'Primary Care Medicine', 'Orthopedics-- Muscle & Bone pain (Back, Extremities, etc),  Lumps (bukol), Fracture', 'Pediatrics and Adult Primary Care', 'Breast Oncology and General Surgery', 'Adult and Child General Medicine, Occupational Health Physician', 'IM - Hematology', 'Work-Related Health, Family Health, Child Health, Adult Health, and School Health.', 'General Practitioner, Primary care & Public health', 'small animal medicine', 'General Medicine, Primary Care, Family Medicine, Lifestyle Medicine', 'Orthopedic Surgery and Trauma', 'LIFESTYLE MEDICINE SPECIALIST,FAMILY MEDICINE - PBRTP', 'Internal Medicine; General Medicine', 'Family and Community Medicine ', 'Adult and Child Medicine, Occupational Health Physician', 'Ob-gyne', 'General Practitioner with training in Orthopedics and Traumatology', 'GASTROENTEROLOGIST', 'Internal Medicine, Cardiology', 'Primary Health Care Physician', 'Aesthetic Medicine, Occupational Health', 'General Medicine, Preventive Medicine, Public Health', 'Pediatircs', 'Rehabilitation Medicine ', 'General Practitioner, General Medicine', 'General Pediatrics & Pediatric Hematology', 'General Medicine and Primary Healthcare', 'Primary Care and General Medicine', 'General Physician, Primary Care', 'IM - Adult Cardiology and Vascular Medicine', 'Family Medicine (Children and Adult Medicine)', 'Family & Community Medicine', 'General Surgery | Laparoscopic Surgery', 'Surgery and General Medicine', 'Internal Medicine, General Medicine, Endocrinology, Diabetology', 'Obstetrics and Gynecology (Ob-Gyn)', 'Aesthetic Dentistry, Laser Dentistry', ' Adult Cardiology', 'General Medicine Internal Medicine Lifestyle Medicine Preventive Medicine Primary Care', 'Internal Medicine- Endocrinology, Diabetes, Thyroid/Goiter and Metabolism', 'IM-CARDIOLOGY', 'General Medicine | Adult Neurology Resident', 'Physical Medicine and Rehabilitation ', 'Internal Medicine - Medical Nutrition', 'Family Medicine, Hospice and Palliative Care, Palliative Care ', 'General Medicine Primary Care, Health and Wellness Nutrition, Weight Loss Management', 'Internal Medicine-Adult Pulmonary Diseases', 'Family Medicine, Primary Care', 'INTERNAL MEDICINE-NEPHROLOGY', 'ADULT INTERVENTIONAL CARDIOLOGIST', 'IM-Hematology', 'General Medicine & Surgery', 'Natural Medicine', 'ONLINE KONSULTA', 'Kids Care', 'Rehabilitation Therapiat', 'general', 'Quality Services', 'Internal Medicine- Adult Cardiology/ Vascular Specialist', 'General and Laparoscopic Surgery   |   Gallbladder, liver, pancreas, gastrointestinal, thyroid, breast, tumor, appendix, hernia, hemorrhoids, fistula, circumcision, chemocath insertion, ultrasound', 'Ent Head And Neck Surgery', 'OBSTETRICIAN GYNECOLOGIST', 'Thoracic Cardiovascular Surgery', 'cardiology', 'Rehabilation Medicine,', 'General Medicine Family Medicine', 'Adult and Pediatric Asthma, Allergy and Immunology Specialist', 'RN/A', 'Neurology And Psychiatry', 'General Medicine - Occupation Health', 'Hematology/Internal Medicine', 'INTERNAL MEDICINE-Geriatrics ', 'INTERNIST-PULMONOLOGIST', 'Internal Medicine-Diabetology', 'Liver, kidney and pancreas transplant', 'Otorhinolaryngology - Head and Neck Surgery /ENT / Diseases of the Ears, Nose, Throat', 'Obstetrician- Gynecologist', 'general surgery', 'Rheumatology and Autoimmune Diseases', 'Ob gyn', 'ADDICTION MEDICINE', 'General Medicine / Public Health', 'Surgical Oncology, Breast Surgery', 'Internal Medicine-Pulmonary and Critical Care Medicine', 'DVM', 'Asistant', 'Internal Medicine-', 'kdsjflkfdsjg', 'none', 'Internal Medicine, Diabetes, Thyroid, Hormone Disorders', 'Physiatry', 'Cardio', 'Minimally Invasive and Laparoscopic Surgery', 'Fellow - Philippine Dermatological Society', 'Internal Medicine Gastroenterology  and Nutritional Diseases', 'Pediatricsweh', 'Orthopaedic Surgery and Trauma, Hip And Knee Surgery', 'Internal Medicine Adult Cardiology', 'Companion Animal Medicine & Surgery', 'Adult Cardiology, Electrophysiology and Pacing', 'Internal Medicine- Rheumatology', 'Skin Health Specialist', 'Adult Cardiology - Interventional Cardiology', 'general desntistry', 'General and Cancer Surgery (Thyroid, Breast, Gallbladder, Hernia, Appendix, Colon, Hemorrhoids)', 'Internal Medicine - Adult Cardiology - Echocardiography', 'OB/GYN', 'OPTH', 'ENT HEAD AND NECK SURGERY, Voice Surgery', 'Optah', 'Paediatrics', 'Family Medicine, Palliatve Medicine', 'OBSTETRICIAN-GYNECOLOGISTS', 'Neurology | Internal Medicine', 'General Dentistry, Endodontics', 'Internal Medicine/Adult Disease Specialist', 'Neurology Psychiatry', 'aoeu', 'Ear Nose And Throat-Head And Neck Surgery', 'Spine Diseases and Surgery', 'Ear, Nose, Throat Head & Neck Surgery', 'Internal Medicine/ Diabetes/ Thyroid/ Metabolism/ Endocrine Diseases', 'Orthopedic Spine and Scoliosis Surgery', 'Diabetes - Internal Medicine', 'MIS, General and Cancer Surgery', 'Orthopaedics Surgery and Traumatology', 'Obstetrics and Gynaecology', 'Rehabilitation medicine', 'Developmental-Behavior Pediatrics', 'Pediatrics, Medicolegal', 'Internal Medicine, Medical Oncology', 'Secretary', 'Colorectal', 'Internal Medicine - Gastroenterology - Obesity Medicine', 'Hepatology', 'Pulmonary', 'General & Cancer Surgery', 'Veterinary', 'Internal Medicine - Diabetes, Thyroid and Endocrinology', 'Occupational and General Medicine', 'General Surgey', 'Vascular surgery', 'Orthopedic Spine surgery', 'Medical and Aesthetic Dermatology', 'MD, MPH', 'Internal Medicine & Nephrology', 'Adult Neurologist, Neurocritical Care and Trauma Specialist', 'Allergy, Asthma, General & Reproductive Immunology', 'Family Medicine / Neurotoxicology', 'Pediatric Dermatology', 'AESTHETIC DERMATOLOGY', 'Internal Medicine/Endocrinology', 'Nephrologist', 'md', 'Cosmetic , Implants', 'Interventional Radiology / Interventional Neuroradiology ', 'Hepatobiliary and Pancreas Surgery, Advanced Cancer Surgery, Laparoscopic and Robotic Surgery', 'Advanced Minimally Invasive and General Surgery', 'Internal Medicine - Nephrology (Kidney Specialist)', 'Aesthetic and Anti-aging specialist', 'Internal Medicine & Adult Diseases', 'Addiction', 'Surgery - general, laparoscopic and cancer surgery', 'Pediatrics Cardiology', 'ORL HNS', 'General & Special Needs Dentistry', 'Orthopedic  Surgery', 'Otorhinolaryngology - Head And Neck Surgery', 'Child Neurology and Neurodevelopment', 'Family and Palliative Medicine', 'Internal Medicine - Medical\\nOncology ', 'Internal Medicine-Endocrinology, Diabetes and Metabolism', 'IM - Pulmonary and Sleep Medicine', 'COVID', 'Otorhinolaryngology, Head And Neck Surgery', 'Pediatrics and Lactation', 'Oral Surgery&Implantology, Craniodontics TMJ-Airway, Periodontics', 'General Psychiatry ', 'Diagnostic Laboratory', 'Adutl Infectious Diseases', 'Ttt', 'Cosmetic Dermatology', 'Ears Nose Throat  -  Head & Neck Surgery', 'Pediatrics - Hematology & Oncology', 'Urogynecology, Advanced Gynecologic Laparoscopy, Obstetrics and Gynecology', 'Primary Health Care for Women and Children', 'Adult Infectious Disease ', 'Internal Medicine / Pulmonary & Critical Care', 'Your Health Is Our Priority', 'Aesthetic and Anti-aging Medicine', 'Primary Care Practitioner', 'Aesthetics and Anti-Aging', 'Developmental and Behavioral Pediatrician', 'FAMED', 'Internal Medicine & Diabetology', 'Internal Medicine - Adult Medicine', 'Internal Medicine -  Endocrinology, Diabetes, Thyroid, Hormone Disorders and Metabolism', 'Cardiothoracic and Vascular Surgery', 'Internal Medicine / Kidney Diseases / Hypertension', 'Reproductive Endocrinology and Infertility ; Gynecologic Endoscopy', 'General And Laparoscopic Surgery', 'Aesthetic Medicine, Occupational Health and Safety Physician', 'Internal Medicine-Gastroenterology and Digestive Endoscopy', 'Patient care', 'Cardiac Rehab', 'Internal Medicine/ Pulmonary', 'Functional', 'Comprehensive Ophthalmology ', 'Internal Medicine - Diabetology', 'INTERNAL MEDICINE - ADULT INVASIVE CARDIOLOGY - PERIPHERAL VASCULAR INTERVENTION', 'Venereologist', 'veterinary medicine', 'P', 'Thoracic and Cardiovascular Surgery, General Surgery', 'Otorhinolaryngology Head And Neck Surgery', 'Pediatrics, Occupational Therapy, Speech Therapy, Physical Therapy, SPED', 'General Thoracic Surgery', 'Holistic', 'Internal Medicine, Gastroenterology', 'Ears, Nose, Throat Diseases-Head & Neck Surgery', 'Acupuncturist', 'General and Laparoscopic Surgeon                    Occupational Medicine Specialist', 'Regenerative Medicine', 'Speech and Language Pathology', 'General Surgery, Laparoscopic Surgery', 'Internal Medicine - ENDOCRINOLOGY, Diabetes, Metabolism, Osteoporosis, Thyroid, Pituitary, Adrenal & Other Hormonal Disorders', 'OBGYN - Infectious Diseases', 'General Orthopedids', 'Physical Therapy | Strength and Conditioning', \"Adult and Children's Diseases/Functional/Integrative/Complementary Medicine\", 'Adult Rheumatology', 'General Laparoscopic & Cancer Surgery', 'Family Medcine', 'Geral', 'Internal Medicine, Nephrology, Kidney Diseases, Dialysis, And Transplantation', 'Internal Medicine- Hematology', 'Internal Medicine-Adult Cardiology- Heart Failure', 'Adult Neurology and Psychiatry', 'General Surgery and Surgical Oncology', 'Child Neurology and Epilepsy Specialist', 'Fellow Philippine Academy of Family Physician', 'Medical Informatics', 'Oftalmo', 'General Pediatrics and Adolescent Medicine', 'Hematology - Internal Medicine', 'Dermatologist | Dermatology | Adult & Pediatric Conditions of the Skin', 'Ear, Nose & Throat - Head and Neck Surgery', 'Surgical Oncology, General Surgery', 'Internal Medicine, Pulmonology', 'Pediatrics | Primary Care', 'Ophthalmology - Eye Doctor', 'IM-Gastroenterolgy', 'Spine & Orthopaedic Surgery', 'UROLOGIST', 'PEDIATRICS / ANTI AGING', 'ENT - HNS', 'GASTROENTEROLOGY', 'Internal Medicine- Endocrinology, Diabetes and Metabolism', 'Pediatric Cardiology/Pediatrics', 'Refraction ', 'Obstetrics/Gynecology', 'Rheumatologist', 'CLINICAL CARDIAC ELECTROPHYSIOLOGY', 'Orthopaedic Spine Surgery ', 'GENERAL  SURGERY', 'Ophthalmology, Facial Cosmetic Surgeon', 'Genrela Dentistry Practicing Orthodontics And Esthetic Dentistry', 'Internal Medicine  ', 'Child and Adult Medicine', 'Obstetrician gynecology', 'General Orthopaedics and Trauma Surgery, Arthroscopic Shoulder Surgery and Arthroplasty', 's', 'General Surgery, Neurosurgery', 'Aesthetic Dermatologist and Cosmetic Surgery', 'Dentistry ', 'Ear Nose Throat - Head & Neck Surgery (ENT-HNS)  Rhinoplasty and Facial Plastic Surgery', 'ENT (Otolaryngology)', 'Traditional Chinese Medicine Acupuncture', 'Pediatrics0112344', 'Urology, Endoscopic Urology, Laparoscopic and Minimally Invasive Urology', 'docmark_coli@yahoo.com', 'General Medicine-EMS', 'HPB Surgery', 'Obstetrics &Gynecology', 'Anti Aging and Regenerative Medicine', 'Masters of Science in Preventive & Regenerative Medicine', 'Orthopaedic Sports Medicine', 'Acupunturist1', 'Otolaryngologists', 'Vascular Medicine', 'Otorhinolaryngologist-Head & Neck Surgery/ENT', 'General Surgery and Cancer Surgery/Breast Cancer Surgery, Laparoscopic Cholecystectomy, Thyroid Surgery', 'Child and Adult Psychiatry', 'Alternative and Integrative Medicine', 'General and Cancer Sirgery', 'Internal Medicine, Concierge Medicine', 'Pain Medicine', 'Family Medicine/ Ambulatory Diabetes Care', 'Orthodontics ', 'Orthopedic Surgery + Traumatology', 'Child and Adult Diseases', 'surgery ', 'jj', 'internal blah', 'General, Cancer & Laparoscopic-Robotic Surgery', 'Ophthalmology - Diseases and Surgery of the Eye', 'PEDIATRICS ', 'Occupational Medicine / General Practice', 'Plastic Surgery, Reconstructive and Aesthetic Surgery, Burns Surgery', 'internal Medicine, General Oncology', 'General and Basic Laparoscopic Surgery', 'Otorhinolaryngology- Head & Neck Surgery', 'Ob-Gynecologist', 'Cosmetic Dermatologist', 'Opta', 'INTERNAL MEDICINE PULMONOLOGY', 'Urology test', 'Dental Implantologist', 'Doctor Of Chiropractic', 'Pediatric Nephrology', 'OB Gynecologist', 'Fellow, Philippine College of Surgeons, Inc', 'Ent', 'Opthamology', 'Pediatrics Neonatology', 'ophtha', 'Emergency medicine', 'Neurology -Vascular(Stroke)', 'Endocrinology (test)', 'Urology, Kidney Stones, Urologic Cancers and Prostate Specialist, Endourology and Laparoscopic Urology', 'Hospice and Palliative Medicine ', 'Otorhinolaryngologist', 'General Medicine, Occupational Medicine, and Public Health', 'General Medicine for Adults \\x97 Thyroid Diseases', 'General & Endocrine Surgery', 'Obstetrics and Gynecologist', 'Plastic, Reconstructive and Aesthetic Surgery', 'Internal Medicine - Endocrinology, Diabetes And Metabolism', 'Pediatrics - Pulmonology ', 'Orthopedics - Oncology & Spine Surgery', 'Diagnostic & Therapeutic Nuclear Medicine', 'Kidney Transplant and Vascular Surgery', 'Interventional Cardiology/ Adult Cardiology/ Internal Medicine ', 'Internal Mediciine', 'Pediatrics and Clinical Genetics', 'Obstetrics and Gynecology - Reproductive Medicine and Surgery', 'Neurology-Psychiatry', 'OB-GYN/ General Practice in Female Reproductive Health', 'Functional and Integrative Medicine', 'Muscluloskeletal Rehab', 'Neurology - Pain Management', 'Derma', 'Medical Officer', 'Otolaryngologist', 'NerveTherapy', 'General Surgery And Diving Medicine', 'Internal Medicine/ Cardiology', 'Physical therapy', 'main specialty', 'Diplomate and Fellow in Internal Medicine - Certified Hypertension Specialist / Diplomate and Fellow in Family Medicine - Palliative Care Specialist', 'NEUROSURGERY', 'Internal - Pulmonary Medicine', 'SolSee', 'Otorhinolaryngologist Head and Neck Surgeon', 'ENT (Otolaryngology)  - Head & Neck Surgery', 'm', 'Cosmetic and Implant Dentistry', 'Family Medicine - Diabetology', 'Rehab', 'Aesthetic and Integrative Functional Medicine', 'INTEGRATIVE MEDICINE', 'extraction', 'Integrative Medicine and Lifestyle Medicine', 'Urologic surgeon', 'Pulmonology ', 'abbb', 'Obstetrics-gynecology', 'Obstertric & Gynecology', 'Orthodontics, Cosmetic Dentistry', 'Leading You To True Health', 'ENT-Head and Neck Surgeon/ Rhinoplasty Surgeon', 'Physical Rehabilitation & Medicine', '1', 'Internal Medicine (IM/ Adult Medical Specialist)', 'Im', 'Surgery (& More)', 'genral dentistry', 'Family Doctor', 'Internal Medicine - Lung Disease Specialist', 'Ear, Nose, Throat, Head, Neck Surgery', 'Obstetrics and Gynecology - Gynecologic Oncology', 'Urologic Surgeon', 'Department of Internal Medicine', 'SURGUYYY', 'Internal Medicine-Endcorinology', 'aaaaaaaaaaa', 'Obstetrics&Gynecology', 'internal med', 'Ophthalmology - Orbit & Oculoplastic Surgery', 'Neurology- Psychiatry', 'Prosthodontics', 'Integrative Anti-Aging and Regenerative / Functional Medicine / TCM Acupuncture', 'Internal Medicine - Cardiology; Non-invasive Cardiology; Nuclear Cardiology & Advanced Cardiovascular Imaging', 'Orthopaedic Surgery - Hand Specialist', 'Dermatology and Aesthetics', 'Occupational Medicine & Public Health', 'General Pediatrics \\x95 Pediatric Infectious Diseases', 'Dog & Cat Medicine & Surgery', 'ORAL SURGERY', 'Internal Medicine - Adult Cardiology - Peripheral Vascular Medicine', 'Otorhinolaryngology (Ears, Nose, Throat), Head and Neck Surgery', 'Diagnostic And Interventional Radiology', 'ENT / Otolaryngology - Head and Neck Surgery', 'Primary Health Care/Occupational Health', 'IM - Adult Cardiology / Interventional Cardiology', 'Pediatric Pulmonology ', 'Obstetrics and Gynecoloy', 'Adult Rheumatology - Internal Medicine', 'Interventional cardiology', 'General Practice/ Primary Care Physician/ Public Health/ Occupational Health and Safety', 'OPTOMETRY', 'Plastic, Aesthetic and Reconstructive Surgey', 'IM- Endocrinology ', 'Intenal Medicine', 'PEDIATRICS - ALLERGOLOGY AND IMMUNOLOGY', 'Pyschiatry', 'Occupational Medicine, Aesthetic Medicine', 'RURAL HEALTH PHYSICIAN', 'OB - Gyn', 'IM-Infectious Diseases', 'Allergy and Clinical Immunology', 'Urologist - Urology and Laser Surgery', 'OB gyne', 'Orthopedic Surgery -Sports Medicine -Trauma -MusculoSkeletal Pain & Ultrasound', 'Adult and Occupational Medicine', 'Internal Medicine-Gastroenterology & Liver Diseases', 'Internal Medicine, Diplomate', 'Adult Infectious Diseases/ Internal Medicine', 'Internal Medicine - Gastroenterology, Therapeutic Endoscopy, ERCP', 'General dentistry', 'Organ Transplant and Vascular Surgery, General Surgery', 'Orthopaedic Surgery And General Orthopedics', 'Fellow of the Philippine Academy of Family Physicians', 'Pediatrics, Infectious Disease', 'Lifestyle Medicine, Primary Care', 'Internal Medicine - Gastroenterology, Digestive Endoscopy', 'General Dermatology', 'Internal Medicine/Gastroenteology/Hepatology', 'Eyes,Ears,Nose,Throat', 'Pediatric Gastroenterology, Hepatology and Nutrition', 'ENT Otolaryngology', 'PLASTIC AND RECONSTRUCTIVE SURGERY', 'INTERNAL MEDICINE - CLINICAL ENDOCRINOLOGY', 'Anatomic and Clinical Pathology', 'Breast Surgery', 'Anesthesiologiy', 'Obstetrics', 'General Surgery, Trauma Surgery And Critical Care', 'Endocrinology, Diabetes Mellitus, Thyroid Diseases', 'Internal Medicine | Dermatology', 'Interventional Radiology, Vascular and Interventional Radiology', 'Neurology, Stroke Specialist ', 'Fellow PSO-HNS, ENT-HNS (Voice, Swallowing, Nose, Nasal Sinuses, Head and Neck Surgery)', 'Pulmonologist ', 'Plastic, Reconstructive and Aesthetic/Cosmetic Surgery', 'Cardiovascular', 'Handling Normal Deliveries', 'Gastroenterology & Transplant Hepatology', 'ENT (Otorhinolaryngology - Head and Neck Surgery) / General Medicine', 'Internal Medicine - Allergy and Immunology', 'Internal Medicine - Adult Nephrology ', 'General Practice / Occupational Health', 'Public health', 'Plastic Surgery (Reconstructive & Aesthetic / Cosmetic) / Burns', 'Occupational Medicine / General Medicine', 'ADULT CARDIOLOGY & INTERNAL MEDICINE: Heart Failure, Chest Pain, Hypertension (high blood pressure), Coronary Artery Disease, ECG, Hypertrophic Cardiomyopathies, Arrhythmias, & other heart diseases', 'Clinical Optometrist', 'Fellow, Family Medicine', 'Internal medicine - Gastroenterology', 'Obstetrics Gynecology, Aesthetic Dermatology', 'ENT, Head and Neck', 'Dermatology (Skin, Hair, Nails)', 'Otorhinolaryngology-HNS', 'Internal Medicine, Cardiology, Interventional Cardiology', 'Emergency Medicine, Primary Care', 'General Physician (Pediatrics and Adult)', 'Surgeon', 'INTERNAL MEDICINE- INFECTIOUS DISEASES', 'Nephrology (Kidney Disease) and Internal Medicine', 'General Medicine / Primary Care / Occupational Health / Travel Health', 'Occupational and Preventive Medicine', 'Primary Care / General Medicine', 'Gen dentistry', 'General and Adult Psychiatry', 'FAMILY AND COMMUNITY MEDICINE (Specialist for children, adults, and elderly)', 'Internal Medicine, Gastroenterology and General Hepatology,  Interventional Endoscopy (ERCP & EUS)', 'General Medicine  |  Primary Care', 'General Physician / Occupational Health Medicine', 'General Pediatrics and Pediatric Hematology', 'General Practitioner, General Medicine, Primary Care', 'Physical Medicine Rehabilitation', 'Physical Rehabilitation and Medicine', 'General Orthopedics and Traumatology', 'Pediatric Ophthalmology and Adult Strabismus', 'Obstetrics And Gynecological Diseases', 'Pediatric Infectious Diseases ', 'PRIMARY CARE AND GENERAL MEDICINE', 'General Pediatrics- Pediatric Critical Care Medicine', 'General Adult & Pediatric Medicine', 'Breast Surgery/General and Cancer Surgery', 'Ear Nose Throat, Head and Neck Surgery ', 'Small Animal Practice', 'Neurology (www.brainmindclinicph.com)', 'Geriatrician', 'General Practice & Medical Aesthetics', 'Internal Medicine, Lifestyle Medicine', 'orthopedic surgery', 'Public Health, Occupational Health and Safety', 'Doctor of Chiropractic', 'Neurology, Psychiatry and Sleep Medicine', 'internal Medicine - Adult Cardiology ', \"Family Medicine-Adult and Children's Diseases\", 'Internal Medicine-Adult and Interventional Cardiology', 'physician', 'General Surgery, Family Medicine', 'Ear, Nose, Throat Specialist - Head and Neck Surgery ', 'OPHTHALMOLOGY ', 'Cosmetic Dentistry', 'General Medicine and Primary Care', 'Internal Medicine, General medicine', 'TMJ non-functional orthodontist and prosthodontics laboratory', 'OBSTETRICIAN- GYNECOLOGIST', 'Internal Medicine-Adult Kidney Disease Specialist', 'Ob gyn ultrasound', 'Occupational Medicine and Dermatology', 'General Surgery, Cancer and Laparoscopic Surgery', 'Early Childhood Development | Primary Care', 'Nuclear Medicine and Theranostics / PET-CT', 'Lifestyle Medicine & Plant-Based Chef', 'General Practitioner/ Military Doctor', 'Cosmetic Surgeon', 'Obstertics and Gynecology', 'Family Medicine , Primary Care', 'Internal Medicine- Adult Nephrology and Hypertension', 'Orrhopedic trauma', 'Aesthetic Medicine & Cosmetic Surgery', 'General Practitioner / Occupational Health Physician ', 'Otorhinolaryngology Head & Neck Surgery', 'Geriatric Medicine-Diabetology', 'Pathologic and Aesthetic Dermatology with Venereology', 'general dentistry', 'Medical Oncologist', 'general Physician', 'Ob-Gyne / Reproductive Medicine', 'Addiction Psychiatry, Psychotherapy, Lifestyle Medicine', 'Integrative Medicine, Functional Medicine', 'ENT-Head and Neck surgery', 'General Medicine, Internal Medicine', 'Inter', 'Dermatology and Advanced Wound Care', 'Depression, Anxiety, Trauma', 'Urology - Diseases of the Genitourinary Tract', 'Orthodontics-TMJ', ' General Surgery ', 'General Dentistry, Esthetic Dentistry, Orthodontics', 'Pediatrics, Child and Adult Allergy, Asthma, and Immunology', 'cardiologist', 'ENT- Otorhinolaryngology, Head and Neck Surgery', 'Interventional Radiologist', 'Internal Medicine-Interventional Cardiology', 'Ophthalmologist - Retina Specialist', 'Internal Medicine - Oncology', 'Comprehensive Ophthalmology, Laser and Cataract Surgery', 'Ear, Nose Throat-Head and Neck Surgery', 'Internal Medicine -Cardiology', 'Ear, Nose, Throat-Head and Neck Surgery', 'Pulmonary Medicine  ', 'ENT-HNS Sleep Medicine-Sleep Surgery', 'Orthopedic Trauma', 'Internal Medicine/Allergy', 'Veterinary medicine', 'Primary & Aesthetic Skin Health/ Occupational Medicine/Primary Care', 'Internal Medicine, Diabetes, Thyroid and Endocrinology', 'IM - ONCOLOGY', 'Psychiatry & Behavioural Medicine', 'Internal Medine', 'Dermatology - skin, hair and nails', 'Internal Medicine/Cardiology', 'Ears, Nose, Throat -Head and Neck Surgery', 'Colon and Rectal Surgery', 'Otorhinolaryngology - Head and Neck Surgery (ENT - HNS)', 'IM-GASTROENTEROLOGY', 'Comprehensive Dentistry', 'Skin Health and Aesthetic Dermatology', 'Adult & Pediatric Allergy, Asthma, and Immunology', 'Adult & Pediatric Allergology - Immunology / General Pediatrics', 'General Psychiatry and Behavioral Medicine  (Adult)', 'OBSTETRICS-GYNECOLOGY', 'Lifestyle and Anti-aging Medicine', 'Dermatology (Adult and Pediatric) ', 'General Medicine & Aesthetic Medicine Practitioner', 'Functional Medicine and Lifestyle Medicine', 'Aesthetic Facial Surgery, Cosmetic Surgery, Ophthalmology, Plastic Surgery, ', 'Allergy / Immunology', 'General Laparoscopic and Cancer Surgery', 'Internal Medicine-Gastroenterologist', 'Otolaryngology - Head and Neck Surgery (ENT-HNS)', 'Integrative Medicine, General Medicine, Acupuncture', 'Obsterics And Gynecology', 'Adult and Pediatric Neurology', 'INTERNAL MEDICINE-MEDICAL ONCOLOGY', 'Orthopaedics Spine', 'INTERNAL MEDICINE-GASTROENTEROLOGY', 'Consultation', 'IM-MEDICAL ONCOLOGY', 'Ear Nose Throat-Head & Neck Surgery', 'Diplomate In Internal Medicine', 'Emergency Medicine, General Medicine and Surgery', 'Cardiology - Internal Medicine', 'INTERNAL MEDICINE-CARDIOLOGY', 'Child Health', 'Orthopedic Surgery/ Trauma Surgery/ Spine Surgery', 'Lifestyle Medicine Specialist', 'Internal \\x96 Pulmonary Medicine', 'Asthma & Allergy', 'EARS, NOSE THROAT, HEAD AND NECK SURGERY', 'Obstetrics- Gynecology', 'Ear, Nose, Throat & Head And Neck Surgery', 'Dermatology - Diseases of the Skin, Hair, and Nails', 'General Surgery, Adavanced Laparoscopic Surgery', 'Internal Medicine - Neurology ', 'IM Nephrology', 'Pulmonary Medicine, Internal Medicine', 'PEDIATRIC NEUROLOGY', 'Internal Medicine/Adult Pulmonary Specialist', 'Vascular and Endovascular Surgery', 'Obstetrics & Gynaecology', 'Sleep Specialist', 'Ophthalmology - Cataract, Laser & Microsurgery of the Eye', 'Orthopedic & Spine Surgery', 'Urology and Transplantation', 'Internal Medicine-Diabetes', 'Otorhinolaryngology (Ear, Nose, Throat)- Head and Neck Surgery', 'Thoracic and Vascular Surgery', 'ENT-Head and Neck Surgery/ Sleep Medicine', '(ENT-HNS) Ear Nose Throat, Head and Neck Surgery', 'Ear Nose Throat Head & Neck Surgery', 'Otorhinolaryngology-Head and Neck Surgery (or ENT-HNS)', 'Otolaryngology Head & Neck Surgery', 'Comprehensive Sex Education / Wellness Specialist', 'Specialty', 'Endocrinology and Metabolism', 'Radiology ', 'Pain Medicine ', 'Adult Cardiologist', 'Internal Medicine / Diabetology / Goiter / Endocrinology', 'General and Cancer Surgery | Laparoscopic Surgery', 'Sleep Medicine/Sleep Studies (Polysomnographer)', 'EAR, NOSE, THROAT, HEAD and NECK SURGERY (ENT-HNS)', 'Family Medicin', 'Ear Nose & Throat - Head and Neck Surgery', ' Obesity Medicine and Lifestyle Medicine', 'Ear, Nose and Throat-Head and Neck Surgery', 'Fellow in Family  & Community Medicine', 'Pulmonary & Internal Medicine', 'Pediatric Allergy', 'Obstetrics and Pediatrics', 'Lying-in Clinic', 'Orthopaedic Spine Surgery', 'Obstetrics/ Gynecology\\nClimacteric Medicine\\nMenopause', 'General Medicine / Ophthalmology', 'General and Oncologic Surgery', 'Internal Medicine - Adult Nephrology (Kidney Diseases)', 'Obstetrics, Gynecology', 'Otorhinolaryngology-Head and Neck Surgery (Diseases of the Ear, Nose and Throat)', 'General Physican', 'general  and cancer surgery', 'Gastroenteroloy', 'Pediatric Gastroenterology', 'Anesthesiology and Pain Medicine', 'General Surgery, Thoracic And Cardiovascular Surgery', ' ', 'General Pediatrics - Ambulatory', 'Dental Medicine, Oral Maxillofacial Surgery', 'Dermatology (Medical & Cosmetic)', 'Pediatric Hematology\\nPediatric Hematology and Oncology\\nPediatrics', 'Family Medicine (Diplomate)', 'IM-Cardiologist', 'General, Cancer, Laparoscopic, and Trauma Surgery', 'Internal Medicine/Adult Cardiology', 'INTERNAL MEDICINE - GASTROENTEROLOGY', 'Dermatology & Aesthetics', 'Otorhinolaryngology - Head and Neck Surgery (ENT)', '.', 'OTOLARYNGOLOGY (ENT)', 'Gastroenterology & Hepatology', 'Ear, Nose , Throat - Head and Neck Surgery', 'Fellow, Adult Cardiology', 'Consultant in Family Medicine @ Rivera Medical Center, Inc.; Chief of Clinics; Training Officer Family Medicine Residency Program; Master in Hospital Administration', 'Ortho spine Surgeon', 'IM- PULMONOLOGY', 'Child Neurology', 'PSYCHOLOGY', 'GP/ Pediatrics', 'Orthopedics and Traumatology', 'Ophthalmology / Ophthalmologist / Eye Doctor / Eye Care Specialist / Comprehensive Ophthalmology', 'Orthopaedic and Hand Surgery', 'Ear, Nose, Throat,  Head and Neck Surgery', 'General And Cancer Surgery', 'OBSTETRICS and GYNECOLOGY', 'Internal Medicine Adult Diseases Specialist', 'Ophthalmology/Glaucoma/Cataract and Comprehensive Ophthalmology', 'Internal Medicine / Primary Care', ' Integrative Medicine', 'Interna Medicine ', 'Otorhinolarygology Head and Neck Surgery', 'Occupational Medicine / General Practitioner', 'Otolaryngology Head and Neck Surgery (ENT-HNS)', 'Naturopathic Medicine', 'Adult Hematology', 'Allergology and Immunology, General Pediatrics', 'Genitourinary and Stone Diseases', 'OB-GYN, Family Medicine', 'Internal Medicine Gastroenterology ', 'Pediatrics-Pulmonology', 'MEDICAL ONCOLOGY', 'Otorhinolaryngology-Head and Neck Surgery(ENT-HNS)', 'Adult Pulmonology and Critical Care Medicine', 'Neurological Surgery', 'Ear Nose Throat Head and Neck surgeon (ENT-HNS )', 'GS', 'Orthopaedics and Spine Surgery', 'NeuroSurgery', 'pediatric', 'urology', 'ENT/ Otorhinolaryngology-Head and Neck Surgery', 'Internal Medicine - Cardiology - Interventional Cardiology', 'General Pediatrics\\n', 'General Medicine And Animal Bite Physician', 'PLASTIC, RECONSTRUCTIVE AND AESTHETIC SURGERY', 'Orthopedics, Hip and Knee Arthritis Specialist, Hip and Knee Replacement Surgery', 'General, HPB, Laparoscopic Surgery', 'Otorhinolaryngology (ENT) - Head and Neck Surgery', 'UROLOGY, ADULT AND PEDIATRICS', 'SPINE / ORTHOPEDICS TRAUMA', 'Municipal Health Officer - Bagac Bataan', 'Physician Surgeon,Cosmetic Dermatology ', 'Psychiatry and Internal Medicine']\n"
     ]
    }
   ],
   "source": [
    "# Count occurrences of each value in 'mainspecialty'\n",
    "specialty_counts = doctors_copy_df['mainspecialty'].value_counts()\n",
    "\n",
    "# Filter out values that occur only once (i.e., don't have duplicates)\n",
    "unique_specialties = specialty_counts[specialty_counts == 1].index.tolist()\n",
    "\n",
    "print(unique_specialties)\n"
   ]
  },
  {
   "cell_type": "markdown",
   "id": "2f7571a2",
   "metadata": {},
   "source": [
    "## Replacing NaN/Non-Integer Values into Sentinel Values in Age Column"
   ]
  },
  {
   "cell_type": "code",
   "execution_count": 21,
   "id": "1ef2b87c",
   "metadata": {},
   "outputs": [
    {
     "data": {
      "text/plain": [
       "doctorid         False\n",
       "mainspecialty     True\n",
       "age              False\n",
       "dtype: bool"
      ]
     },
     "execution_count": 21,
     "metadata": {},
     "output_type": "execute_result"
    }
   ],
   "source": [
    "doctors_copy_df.isnull().any()"
   ]
  },
  {
   "cell_type": "markdown",
   "id": "32615c95",
   "metadata": {},
   "source": [
    "## Check for NaN Values in Age Column"
   ]
  },
  {
   "cell_type": "code",
   "execution_count": 22,
   "id": "1777c3b6",
   "metadata": {},
   "outputs": [
    {
     "name": "stdout",
     "output_type": "stream",
     "text": [
      "Empty DataFrame\n",
      "Columns: [doctorid, mainspecialty, age]\n",
      "Index: []\n"
     ]
    }
   ],
   "source": [
    "print(doctors_copy_df.loc[doctors_copy_df['age'].isnull() == True])"
   ]
  },
  {
   "cell_type": "markdown",
   "id": "7a6b0c56",
   "metadata": {},
   "source": [
    "## Converting Data Type of Age Column into Integer"
   ]
  },
  {
   "cell_type": "code",
   "execution_count": 23,
   "id": "2245e815",
   "metadata": {},
   "outputs": [],
   "source": [
    "doctors_copy_df['age'] = doctors_copy_df['age'].astype(int)"
   ]
  },
  {
   "cell_type": "markdown",
   "id": "d677d140",
   "metadata": {},
   "source": [
    "## Check Final Patient Dataset Info"
   ]
  },
  {
   "cell_type": "code",
   "execution_count": 24,
   "id": "cad539cd",
   "metadata": {},
   "outputs": [
    {
     "name": "stdout",
     "output_type": "stream",
     "text": [
      "<class 'pandas.core.frame.DataFrame'>\n",
      "Int64Index: 10832 entries, 0 to 9752931\n",
      "Data columns (total 3 columns):\n",
      " #   Column         Non-Null Count  Dtype \n",
      "---  ------         --------------  ----- \n",
      " 0   doctorid       10832 non-null  object\n",
      " 1   mainspecialty  10819 non-null  object\n",
      " 2   age            10832 non-null  int32 \n",
      "dtypes: int32(1), object(2)\n",
      "memory usage: 296.2+ KB\n"
     ]
    }
   ],
   "source": [
    "doctors_copy_df.info()"
   ]
  },
  {
   "cell_type": "markdown",
   "id": "f60e5c94",
   "metadata": {},
   "source": [
    "## Updating the Original DataFrame and CSV with the Changes Made in the Copy"
   ]
  },
  {
   "cell_type": "code",
   "execution_count": 25,
   "id": "a06be83c",
   "metadata": {},
   "outputs": [],
   "source": [
    "doctors_df = doctors_copy_df.copy()"
   ]
  },
  {
   "cell_type": "code",
   "execution_count": 26,
   "id": "9222ef9c",
   "metadata": {},
   "outputs": [],
   "source": [
    "doctors_df.to_csv('../cleaned_datasets/doctors_cleaned.csv', index=False) "
   ]
  },
  {
   "cell_type": "markdown",
   "id": "a2a4e3a4",
   "metadata": {},
   "source": [
    "# `Patients Dataset`"
   ]
  },
  {
   "cell_type": "markdown",
   "id": "db31e1b4",
   "metadata": {},
   "source": [
    "## Reading the Patients Dataset"
   ]
  },
  {
   "cell_type": "code",
   "execution_count": 27,
   "id": "44a95340",
   "metadata": {},
   "outputs": [],
   "source": [
    "patients_df = pd.read_csv(\"../datasets_backup/px.csv\", dtype={\"pxid\": \"string\", \"age\": \"string\"})"
   ]
  },
  {
   "cell_type": "code",
   "execution_count": 28,
   "id": "c384b666",
   "metadata": {},
   "outputs": [
    {
     "name": "stdout",
     "output_type": "stream",
     "text": [
      "<class 'pandas.core.frame.DataFrame'>\n",
      "RangeIndex: 6507813 entries, 0 to 6507812\n",
      "Data columns (total 3 columns):\n",
      " #   Column  Dtype \n",
      "---  ------  ----- \n",
      " 0   pxid    string\n",
      " 1   age     string\n",
      " 2   gender  object\n",
      "dtypes: object(1), string(2)\n",
      "memory usage: 149.0+ MB\n"
     ]
    }
   ],
   "source": [
    "patients_df.info()"
   ]
  },
  {
   "cell_type": "markdown",
   "id": "de1b93b8",
   "metadata": {},
   "source": [
    "## Creating a Copy of the Dataset"
   ]
  },
  {
   "cell_type": "code",
   "execution_count": 29,
   "id": "65e895ff",
   "metadata": {},
   "outputs": [],
   "source": [
    "patients_copy_df = patients_df.copy()"
   ]
  },
  {
   "cell_type": "code",
   "execution_count": 30,
   "id": "983bcb8e",
   "metadata": {},
   "outputs": [
    {
     "name": "stdout",
     "output_type": "stream",
     "text": [
      "<class 'pandas.core.frame.DataFrame'>\n",
      "RangeIndex: 6507813 entries, 0 to 6507812\n",
      "Data columns (total 3 columns):\n",
      " #   Column  Dtype \n",
      "---  ------  ----- \n",
      " 0   pxid    string\n",
      " 1   age     string\n",
      " 2   gender  object\n",
      "dtypes: object(1), string(2)\n",
      "memory usage: 149.0+ MB\n"
     ]
    }
   ],
   "source": [
    "patients_copy_df.info()"
   ]
  },
  {
   "cell_type": "markdown",
   "id": "8dd79e3a",
   "metadata": {},
   "source": [
    "## Merging Patients and Appointments Dataset"
   ]
  },
  {
   "cell_type": "code",
   "execution_count": 31,
   "id": "6cfe657a",
   "metadata": {},
   "outputs": [],
   "source": [
    "# remove after\n",
    "patients_copy_df = patients_df.copy()"
   ]
  },
  {
   "cell_type": "code",
   "execution_count": 32,
   "id": "628e90b8",
   "metadata": {},
   "outputs": [],
   "source": [
    "patients_copy_df = patients_copy_df.merge(appointments_copy_df, on='pxid')"
   ]
  },
  {
   "cell_type": "markdown",
   "id": "baea6b2c",
   "metadata": {},
   "source": [
    "## Check Results of Merge"
   ]
  },
  {
   "cell_type": "code",
   "execution_count": 33,
   "id": "bd4d7f51",
   "metadata": {},
   "outputs": [
    {
     "name": "stdout",
     "output_type": "stream",
     "text": [
      "<class 'pandas.core.frame.DataFrame'>\n",
      "Int64Index: 522346 entries, 0 to 522345\n",
      "Data columns (total 13 columns):\n",
      " #   Column      Non-Null Count   Dtype \n",
      "---  ------      --------------   ----- \n",
      " 0   pxid        522346 non-null  object\n",
      " 1   age         522343 non-null  string\n",
      " 2   gender      522346 non-null  object\n",
      " 3   clinicid    522346 non-null  object\n",
      " 4   doctorid    522346 non-null  object\n",
      " 5   apptid      522346 non-null  object\n",
      " 6   status      522346 non-null  object\n",
      " 7   TimeQueued  522346 non-null  object\n",
      " 8   QueueDate   522346 non-null  object\n",
      " 9   StartTime   352714 non-null  object\n",
      " 10  EndTime     90502 non-null   object\n",
      " 11  type        522346 non-null  object\n",
      " 12  Virtual     205399 non-null  object\n",
      "dtypes: object(12), string(1)\n",
      "memory usage: 55.8+ MB\n"
     ]
    }
   ],
   "source": [
    "patients_copy_df.info()"
   ]
  },
  {
   "cell_type": "markdown",
   "id": "4b974330",
   "metadata": {},
   "source": [
    "## Drop Extra Columns Generated"
   ]
  },
  {
   "cell_type": "code",
   "execution_count": 34,
   "id": "eb097ec1",
   "metadata": {},
   "outputs": [],
   "source": [
    "patients_copy_df = patients_copy_df.drop(columns=['clinicid', 'doctorid', 'apptid', 'status', 'TimeQueued', 'QueueDate', 'StartTime', 'EndTime', 'type', 'Virtual'])"
   ]
  },
  {
   "cell_type": "code",
   "execution_count": 35,
   "id": "272df463",
   "metadata": {},
   "outputs": [
    {
     "name": "stdout",
     "output_type": "stream",
     "text": [
      "<class 'pandas.core.frame.DataFrame'>\n",
      "Int64Index: 522346 entries, 0 to 522345\n",
      "Data columns (total 3 columns):\n",
      " #   Column  Non-Null Count   Dtype \n",
      "---  ------  --------------   ----- \n",
      " 0   pxid    522346 non-null  object\n",
      " 1   age     522343 non-null  string\n",
      " 2   gender  522346 non-null  object\n",
      "dtypes: object(2), string(1)\n",
      "memory usage: 15.9+ MB\n"
     ]
    }
   ],
   "source": [
    "patients_copy_df.info()"
   ]
  },
  {
   "cell_type": "markdown",
   "id": "2f07cab1",
   "metadata": {},
   "source": [
    "## Checking if Patient ID column has duplicates"
   ]
  },
  {
   "cell_type": "code",
   "execution_count": 36,
   "id": "bac7a514",
   "metadata": {},
   "outputs": [
    {
     "name": "stdout",
     "output_type": "stream",
     "text": [
      "Does pxid column has duplicates: True\n"
     ]
    }
   ],
   "source": [
    "patientIdHasDuplicates = patients_copy_df['pxid'].duplicated().any()\n",
    "\n",
    "print('Does pxid column has duplicates: ' + str(patientIdHasDuplicates))"
   ]
  },
  {
   "cell_type": "code",
   "execution_count": 37,
   "id": "c7ccaf29",
   "metadata": {},
   "outputs": [
    {
     "data": {
      "text/html": [
       "<div>\n",
       "<style scoped>\n",
       "    .dataframe tbody tr th:only-of-type {\n",
       "        vertical-align: middle;\n",
       "    }\n",
       "\n",
       "    .dataframe tbody tr th {\n",
       "        vertical-align: top;\n",
       "    }\n",
       "\n",
       "    .dataframe thead th {\n",
       "        text-align: right;\n",
       "    }\n",
       "</style>\n",
       "<table border=\"1\" class=\"dataframe\">\n",
       "  <thead>\n",
       "    <tr style=\"text-align: right;\">\n",
       "      <th></th>\n",
       "      <th>pxid</th>\n",
       "      <th>age</th>\n",
       "      <th>gender</th>\n",
       "    </tr>\n",
       "  </thead>\n",
       "  <tbody>\n",
       "    <tr>\n",
       "      <th>1</th>\n",
       "      <td>519CAC5EFB113B0E451F77E31541A314</td>\n",
       "      <td>36</td>\n",
       "      <td>FEMALE</td>\n",
       "    </tr>\n",
       "    <tr>\n",
       "      <th>3</th>\n",
       "      <td>224DEFC6F387F61F307846B09F945EB2</td>\n",
       "      <td>34</td>\n",
       "      <td>FEMALE</td>\n",
       "    </tr>\n",
       "    <tr>\n",
       "      <th>4</th>\n",
       "      <td>224DEFC6F387F61F307846B09F945EB2</td>\n",
       "      <td>34</td>\n",
       "      <td>FEMALE</td>\n",
       "    </tr>\n",
       "    <tr>\n",
       "      <th>5</th>\n",
       "      <td>224DEFC6F387F61F307846B09F945EB2</td>\n",
       "      <td>34</td>\n",
       "      <td>FEMALE</td>\n",
       "    </tr>\n",
       "    <tr>\n",
       "      <th>6</th>\n",
       "      <td>224DEFC6F387F61F307846B09F945EB2</td>\n",
       "      <td>34</td>\n",
       "      <td>FEMALE</td>\n",
       "    </tr>\n",
       "    <tr>\n",
       "      <th>...</th>\n",
       "      <td>...</td>\n",
       "      <td>...</td>\n",
       "      <td>...</td>\n",
       "    </tr>\n",
       "    <tr>\n",
       "      <th>522338</th>\n",
       "      <td>BC6D03156B7D879DD7F389C9B90FE508</td>\n",
       "      <td>75</td>\n",
       "      <td>MALE</td>\n",
       "    </tr>\n",
       "    <tr>\n",
       "      <th>522339</th>\n",
       "      <td>BC6D03156B7D879DD7F389C9B90FE508</td>\n",
       "      <td>75</td>\n",
       "      <td>MALE</td>\n",
       "    </tr>\n",
       "    <tr>\n",
       "      <th>522343</th>\n",
       "      <td>018132C688D9CFBAE3DDAF01505243F3</td>\n",
       "      <td>82</td>\n",
       "      <td>FEMALE</td>\n",
       "    </tr>\n",
       "    <tr>\n",
       "      <th>522344</th>\n",
       "      <td>018132C688D9CFBAE3DDAF01505243F3</td>\n",
       "      <td>82</td>\n",
       "      <td>FEMALE</td>\n",
       "    </tr>\n",
       "    <tr>\n",
       "      <th>522345</th>\n",
       "      <td>018132C688D9CFBAE3DDAF01505243F3</td>\n",
       "      <td>82</td>\n",
       "      <td>FEMALE</td>\n",
       "    </tr>\n",
       "  </tbody>\n",
       "</table>\n",
       "<p>455152 rows × 3 columns</p>\n",
       "</div>"
      ],
      "text/plain": [
       "                                    pxid age  gender\n",
       "1       519CAC5EFB113B0E451F77E31541A314  36  FEMALE\n",
       "3       224DEFC6F387F61F307846B09F945EB2  34  FEMALE\n",
       "4       224DEFC6F387F61F307846B09F945EB2  34  FEMALE\n",
       "5       224DEFC6F387F61F307846B09F945EB2  34  FEMALE\n",
       "6       224DEFC6F387F61F307846B09F945EB2  34  FEMALE\n",
       "...                                  ...  ..     ...\n",
       "522338  BC6D03156B7D879DD7F389C9B90FE508  75    MALE\n",
       "522339  BC6D03156B7D879DD7F389C9B90FE508  75    MALE\n",
       "522343  018132C688D9CFBAE3DDAF01505243F3  82  FEMALE\n",
       "522344  018132C688D9CFBAE3DDAF01505243F3  82  FEMALE\n",
       "522345  018132C688D9CFBAE3DDAF01505243F3  82  FEMALE\n",
       "\n",
       "[455152 rows x 3 columns]"
      ]
     },
     "execution_count": 37,
     "metadata": {},
     "output_type": "execute_result"
    }
   ],
   "source": [
    "patients_copy_df[patients_copy_df['pxid'].duplicated()]"
   ]
  },
  {
   "cell_type": "markdown",
   "id": "574b271c",
   "metadata": {},
   "source": [
    "## Check if There are Duplicate Headers"
   ]
  },
  {
   "cell_type": "code",
   "execution_count": 38,
   "id": "beabf65b",
   "metadata": {},
   "outputs": [
    {
     "name": "stdout",
     "output_type": "stream",
     "text": [
      "Empty DataFrame\n",
      "Columns: [pxid, age, gender]\n",
      "Index: []\n"
     ]
    }
   ],
   "source": [
    "print(patients_copy_df.loc[patients_copy_df['pxid'] == 'pxid'])"
   ]
  },
  {
   "cell_type": "markdown",
   "id": "a7a66628",
   "metadata": {},
   "source": [
    "## Dropping Duplicates in Patient ID Column"
   ]
  },
  {
   "cell_type": "code",
   "execution_count": 39,
   "id": "a8e62c58",
   "metadata": {},
   "outputs": [],
   "source": [
    "patients_copy_df = patients_copy_df.drop_duplicates(subset=['pxid'], keep='first')"
   ]
  },
  {
   "cell_type": "markdown",
   "id": "db935067",
   "metadata": {},
   "source": [
    "## Check Results of Dropping Duplicates"
   ]
  },
  {
   "cell_type": "code",
   "execution_count": 40,
   "id": "171ab8af",
   "metadata": {},
   "outputs": [
    {
     "name": "stdout",
     "output_type": "stream",
     "text": [
      "Empty DataFrame\n",
      "Columns: [pxid, age, gender]\n",
      "Index: []\n"
     ]
    }
   ],
   "source": [
    "print(patients_copy_df[patients_copy_df['pxid'].duplicated()])"
   ]
  },
  {
   "cell_type": "code",
   "execution_count": 41,
   "id": "c07868fa",
   "metadata": {},
   "outputs": [
    {
     "name": "stdout",
     "output_type": "stream",
     "text": [
      "<class 'pandas.core.frame.DataFrame'>\n",
      "Int64Index: 67194 entries, 0 to 522342\n",
      "Data columns (total 3 columns):\n",
      " #   Column  Non-Null Count  Dtype \n",
      "---  ------  --------------  ----- \n",
      " 0   pxid    67194 non-null  object\n",
      " 1   age     67192 non-null  string\n",
      " 2   gender  67194 non-null  object\n",
      "dtypes: object(2), string(1)\n",
      "memory usage: 2.1+ MB\n"
     ]
    }
   ],
   "source": [
    "patients_copy_df.info()"
   ]
  },
  {
   "cell_type": "markdown",
   "id": "3e3eb5b4",
   "metadata": {},
   "source": [
    "## Checking for Null Values in the Columns"
   ]
  },
  {
   "cell_type": "code",
   "execution_count": 42,
   "id": "2b7e8b4e",
   "metadata": {},
   "outputs": [
    {
     "data": {
      "text/plain": [
       "pxid      False\n",
       "age        True\n",
       "gender    False\n",
       "dtype: bool"
      ]
     },
     "execution_count": 42,
     "metadata": {},
     "output_type": "execute_result"
    }
   ],
   "source": [
    "patients_copy_df.isnull().any()"
   ]
  },
  {
   "cell_type": "markdown",
   "id": "18addd02",
   "metadata": {},
   "source": [
    "## Adding Sentinel Values to Null Age Columns"
   ]
  },
  {
   "cell_type": "code",
   "execution_count": 43,
   "id": "d787714f",
   "metadata": {},
   "outputs": [
    {
     "name": "stdout",
     "output_type": "stream",
     "text": [
      "                                    pxid   age  gender\n",
      "393580  07B40BDCDDE43445A934A433DC43DB94  <NA>  FEMALE\n",
      "443453  F1D3EB95AC7236488D72529EE47CF3AC  <NA>  FEMALE\n"
     ]
    }
   ],
   "source": [
    "print(patients_copy_df.loc[patients_copy_df['age'].isnull() == True])"
   ]
  },
  {
   "cell_type": "code",
   "execution_count": 44,
   "id": "e40e40be",
   "metadata": {},
   "outputs": [],
   "source": [
    "patients_copy_df.loc[patients_copy_df['age'].isnull(), 'age'] = str(9999)"
   ]
  },
  {
   "cell_type": "code",
   "execution_count": 45,
   "id": "4b4bacbb",
   "metadata": {},
   "outputs": [
    {
     "data": {
      "text/plain": [
       "pxid      False\n",
       "age       False\n",
       "gender    False\n",
       "dtype: bool"
      ]
     },
     "execution_count": 45,
     "metadata": {},
     "output_type": "execute_result"
    }
   ],
   "source": [
    "# Check appointments with a type of inpatient\n",
    "patients_copy_df.isnull().any()"
   ]
  },
  {
   "cell_type": "markdown",
   "id": "a693804a",
   "metadata": {},
   "source": [
    "## Check for Negative/Non-Integer Values in Age Column"
   ]
  },
  {
   "cell_type": "code",
   "execution_count": 46,
   "id": "24bc7b4c",
   "metadata": {},
   "outputs": [
    {
     "name": "stdout",
     "output_type": "stream",
     "text": [
      "Rows with non-integer values in the 'age' column:\n",
      "                                    pxid age  gender\n",
      "350082  34EA00038464CFB19F057B133541643E  -4    MALE\n",
      "352614  5C7C1C8FA68F5DA34D998041D612FE7A  -4  FEMALE\n",
      "356012  293F89A4DC26ECF12219383AC6102820  -3    MALE\n",
      "356372  73F5D5406B40309E77FBC6E90BBF43E3  -4    MALE\n",
      "357218  6104045966FA39B42C7DC869F444D6D4  -1  FEMALE\n",
      "372440  1E9357163FC1CA760D490085ABDB1CE2  -1  FEMALE\n"
     ]
    }
   ],
   "source": [
    "# Check for non-integer values in the 'age' column\n",
    "non_integer_rows = patients_copy_df[~patients_copy_df['age'].astype(str).str.isdigit()]\n",
    "\n",
    "print(\"Rows with non-integer values in the 'age' column:\")\n",
    "print(non_integer_rows)"
   ]
  },
  {
   "cell_type": "markdown",
   "id": "81ef8694",
   "metadata": {},
   "source": [
    "## Convert Negative/Non-Integer Values to Sentinel Values\n",
    "\n",
    "Since str.isdigit() considers negative integers as non-integers, we have to replace them with a sentinel value."
   ]
  },
  {
   "cell_type": "code",
   "execution_count": 47,
   "id": "184c9855",
   "metadata": {},
   "outputs": [],
   "source": [
    "patients_copy_df.loc[~patients_copy_df['age'].astype(str).str.isdigit(), 'age'] = str(9999)"
   ]
  },
  {
   "cell_type": "markdown",
   "id": "01a07c73",
   "metadata": {},
   "source": [
    "## Check if There are Still Negative Values"
   ]
  },
  {
   "cell_type": "code",
   "execution_count": 48,
   "id": "1e4dad94",
   "metadata": {},
   "outputs": [
    {
     "name": "stdout",
     "output_type": "stream",
     "text": [
      "Empty DataFrame\n",
      "Columns: [pxid, age, gender]\n",
      "Index: []\n"
     ]
    }
   ],
   "source": [
    "print(patients_copy_df[~patients_copy_df['age'].astype(str).str.isdigit()])\n"
   ]
  },
  {
   "cell_type": "markdown",
   "id": "928bebb0",
   "metadata": {},
   "source": [
    "## Converting the Age Column Back into Int"
   ]
  },
  {
   "cell_type": "code",
   "execution_count": 49,
   "id": "ec751e4c",
   "metadata": {},
   "outputs": [],
   "source": [
    "patients_copy_df['age'] = patients_copy_df['age'].astype(int)"
   ]
  },
  {
   "cell_type": "markdown",
   "id": "ecb22395",
   "metadata": {},
   "source": [
    "## Check Final Patient Dataset Info"
   ]
  },
  {
   "cell_type": "code",
   "execution_count": 50,
   "id": "52860cda",
   "metadata": {},
   "outputs": [
    {
     "name": "stdout",
     "output_type": "stream",
     "text": [
      "<class 'pandas.core.frame.DataFrame'>\n",
      "Int64Index: 67194 entries, 0 to 522342\n",
      "Data columns (total 3 columns):\n",
      " #   Column  Non-Null Count  Dtype \n",
      "---  ------  --------------  ----- \n",
      " 0   pxid    67194 non-null  object\n",
      " 1   age     67194 non-null  int32 \n",
      " 2   gender  67194 non-null  object\n",
      "dtypes: int32(1), object(2)\n",
      "memory usage: 1.8+ MB\n"
     ]
    }
   ],
   "source": [
    "patients_copy_df.info()"
   ]
  },
  {
   "cell_type": "markdown",
   "id": "d2ea3d00",
   "metadata": {},
   "source": [
    "## Updating the Original DataFrame and CSV with the Changes Made in the Copy"
   ]
  },
  {
   "cell_type": "code",
   "execution_count": 51,
   "id": "4987acb9",
   "metadata": {},
   "outputs": [],
   "source": [
    "patients_df = patients_copy_df.copy()"
   ]
  },
  {
   "cell_type": "code",
   "execution_count": 52,
   "id": "cf001074",
   "metadata": {},
   "outputs": [],
   "source": [
    "patients_df.to_csv('../cleaned_datasets/px_cleaned.csv', index=False) "
   ]
  }
 ],
 "metadata": {
  "kernelspec": {
   "display_name": "Python 3 (ipykernel)",
   "language": "python",
   "name": "python3"
  },
  "language_info": {
   "codemirror_mode": {
    "name": "ipython",
    "version": 3
   },
   "file_extension": ".py",
   "mimetype": "text/x-python",
   "name": "python",
   "nbconvert_exporter": "python",
   "pygments_lexer": "ipython3",
   "version": "3.11.4"
  }
 },
 "nbformat": 4,
 "nbformat_minor": 5
}
