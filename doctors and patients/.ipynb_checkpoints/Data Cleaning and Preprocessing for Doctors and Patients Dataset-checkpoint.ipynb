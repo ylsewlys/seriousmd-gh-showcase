{
 "cells": [
  {
   "cell_type": "markdown",
   "id": "00980678",
   "metadata": {},
   "source": [
    "# `Doctors Dataset`"
   ]
  },
  {
   "cell_type": "markdown",
   "id": "9243311e",
   "metadata": {},
   "source": [
    "## Import\n",
    "Import **numpy** and **pandas**.\n",
    "\n",
    "[**`pandas`**](https://pandas.pydata.org/pandas-docs/stable/index.html) is a software library for Python which provides data structures and data analysis tools."
   ]
  },
  {
   "cell_type": "code",
   "execution_count": 1,
   "id": "8afda4e1",
   "metadata": {},
   "outputs": [],
   "source": [
    "import numpy as np\n",
    "import pandas as pd"
   ]
  },
  {
   "cell_type": "markdown",
   "id": "f9352164",
   "metadata": {},
   "source": [
    "## Reading the Doctors Dataset"
   ]
  },
  {
   "cell_type": "code",
   "execution_count": 2,
   "id": "88a4c297",
   "metadata": {},
   "outputs": [],
   "source": [
    "doctors_df = pd.read_csv(\"doctors.csv\", encoding='ISO-8859-1')"
   ]
  },
  {
   "cell_type": "markdown",
   "id": "d7f59f67",
   "metadata": {},
   "source": [
    "## Doctors Dataset Information"
   ]
  },
  {
   "cell_type": "code",
   "execution_count": 3,
   "id": "21f2f3c1",
   "metadata": {},
   "outputs": [
    {
     "name": "stdout",
     "output_type": "stream",
     "text": [
      "<class 'pandas.core.frame.DataFrame'>\n",
      "RangeIndex: 60024 entries, 0 to 60023\n",
      "Data columns (total 3 columns):\n",
      " #   Column         Non-Null Count  Dtype  \n",
      "---  ------         --------------  -----  \n",
      " 0   doctorid       60024 non-null  object \n",
      " 1   mainspecialty  27175 non-null  object \n",
      " 2   age            20028 non-null  float64\n",
      "dtypes: float64(1), object(2)\n",
      "memory usage: 1.4+ MB\n"
     ]
    }
   ],
   "source": [
    "doctors_df.info()"
   ]
  },
  {
   "cell_type": "markdown",
   "id": "674c9fbb",
   "metadata": {},
   "source": [
    "## Creating a Copy of the Dataset"
   ]
  },
  {
   "cell_type": "code",
   "execution_count": 4,
   "id": "c4248c93",
   "metadata": {},
   "outputs": [],
   "source": [
    "doctors_copy_df = doctors_df.copy()"
   ]
  },
  {
   "cell_type": "code",
   "execution_count": 5,
   "id": "c8286332",
   "metadata": {},
   "outputs": [
    {
     "name": "stdout",
     "output_type": "stream",
     "text": [
      "<class 'pandas.core.frame.DataFrame'>\n",
      "RangeIndex: 60024 entries, 0 to 60023\n",
      "Data columns (total 3 columns):\n",
      " #   Column         Non-Null Count  Dtype  \n",
      "---  ------         --------------  -----  \n",
      " 0   doctorid       60024 non-null  object \n",
      " 1   mainspecialty  27175 non-null  object \n",
      " 2   age            20028 non-null  float64\n",
      "dtypes: float64(1), object(2)\n",
      "memory usage: 1.4+ MB\n"
     ]
    }
   ],
   "source": [
    "doctors_copy_df.info()"
   ]
  },
  {
   "cell_type": "markdown",
   "id": "8f86fbc1",
   "metadata": {},
   "source": [
    "## Checking if Doctor ID column has duplicates"
   ]
  },
  {
   "cell_type": "code",
   "execution_count": 6,
   "id": "4fd8c119",
   "metadata": {},
   "outputs": [
    {
     "name": "stdout",
     "output_type": "stream",
     "text": [
      "Does doctorid column has duplicates: False\n"
     ]
    }
   ],
   "source": [
    "doctorIdHasDuplicates = doctors_copy_df['doctorid'].duplicated().any()\n",
    "\n",
    "print('Does doctorid column has duplicates: ' + str(doctorIdHasDuplicates))"
   ]
  },
  {
   "cell_type": "markdown",
   "id": "6c19512d",
   "metadata": {},
   "source": [
    "### `mainspecialty` column"
   ]
  },
  {
   "cell_type": "code",
   "execution_count": 7,
   "id": "f3c1622f",
   "metadata": {},
   "outputs": [
    {
     "data": {
      "text/plain": [
       "3974"
      ]
     },
     "execution_count": 7,
     "metadata": {},
     "output_type": "execute_result"
    }
   ],
   "source": [
    "doctors_copy_df['mainspecialty'].nunique()"
   ]
  },
  {
   "cell_type": "code",
   "execution_count": 8,
   "id": "397c6a5b",
   "metadata": {},
   "outputs": [
    {
     "name": "stdout",
     "output_type": "stream",
     "text": [
      "['General Medicine' 'Family Medicine' 'Vascular Medicine' ...\n",
      " 'Bone alignment therapy' 'Healot Biomekaniks' 'Allergist']\n"
     ]
    }
   ],
   "source": [
    "print(doctors_copy_df['mainspecialty'].unique())"
   ]
  },
  {
   "cell_type": "code",
   "execution_count": 9,
   "id": "22c15f71",
   "metadata": {},
   "outputs": [
    {
     "name": "stdout",
     "output_type": "stream",
     "text": [
      "Values in mainspecialty column without duplicates: ['ORTHODONTIST/Veneers', 'General Medicine/Occupational Health Physcian', 'Adult Psychiatry and Behavioral Medicine', 'Faye Garciano', 'Child psychiatrist ', 'INTERNAL MEDICINE-ADULT DISEASE SPECIALIST', 'OB-Gyn Ultrasound Subspecialist', 'General Physician, Medical Acupuncturist ', 'Family Medicine, Ophthalmology', 'IM,Surgery,Pedia', 'Psychotherapy, Psychosocial Counseling, Mental Health Consultation, Psychological Assessment', 'Orthopedics/Orthopedic Surgery', 'Need Consultant Of Doctor Before Vaccine', 'Infectiius disease', 'OTOLARYNGOLOGY HEAND NECK SURGERY', 'General Dentistry, Orthodontics, Oral Surgery, ', 'banking', 'Anesthesiology, Pain Medicine', 'Pediatric Hematology and Oncology ', 'Neuropsychological assessment and Neurodevelopmental evaluation, Applied Behavioral Analysis Intervention and Behavioural Support Programs', 'Diagnostic Imaging', 'Otolaryngology, Head and Neck Specialty (ENT-HNS)', 'Therapy', 'Adult and Pediatric General Medicine', 'surgery gallbladder ', 'General Medicine/Aesthetic Medicine/ Cosmetic Surgery/Lifestyle Medicine', 'Specialist', 'Padiatrics', 'General Paractice', ' Pediatrics ', 'Internal Medcine ', 'Internal Medicine-Nephrology (Kidney Diseases)', 'tests', 'Gynecologic Laparoscopy', 'Reconstructive Dentistry', 'Subspecialty ', 'OB-GYN Perinatologist', 'General pediatrician', 'Banking', 'OBGynecology', 'FAMILY MEDICINE ', 'General Ears, Nose & Throat Diseases; Otolaryngology-Head and Neck Surgery', 'Nutrition and wellness, Aesthetic Medicine', 'General prktis ', 'Community health', 'Aesthetic Surgery & Anti Aging Medicine', 'Endocordiology', 'Mrr', 'Pediatric Cardiologist', 'Mental Health, Sleep, Nutrition, Exercise,  Hypertension, Dyslipidemia, Diabetes, Obesity, Addiction (Smoking, Gambling, Drugs, Alcohol, etc) and Cancer Prevention Physician, Therapist, and Coach', 'Industrial construction and ship building ', 'Adult General Medicine', 'Lifestyle and Internal Medicine', 'Diagnostic Clinic', 'Ocular Prosthesis and Specialty Contact Lenses', 'Pediatrics\\n\\nPediatrics', 'Edgardo Ulysses Dorotheo', 'Internal Medicin', 'Hahahahah', 'General Physician/Pediatrics', 'Emergency Medicine,', 'Internal Medicine\\n', 'Internal Mericine', 'Students ', 'Dental Medicine, Periodontics', 'Prosthodontics, Restorative, Oral Surgery, Pediatrics', 'General Physician, Nutrition and Dietetics', 'Foot Corn', 'OB-GYNE ', 'Internal medicine, Covid telehealth', 'sample', 'GENERAL MEDICINE, OBSTETRICS AND GYNECOLOGY', 'Internal medicine rheumatology', 'Medical Representative', 'General Medicine & Child Health', 'Diabetes and Hypertension  Coach', 'IM - Cardiology - Electrophysiology', 'Ophthalmology and ENT', 'wada', 'ORTHOPAEDICS', 'General surgery ', 'Gen. Practitioner', 'Internal Medicine -  Hematology', 'ENT-Head and Neck Surgery Resident ', 'Educational management', 'asthma', 'General Medicine & Optometrist', 'Anesthesia ; General Medicine; Occupational Medicine', 'General and Cosmetic Dentistry', 'Businesswoman', 'Animation', 'fawawf', 'Endocrinolgy', 'Radiation Oncology / Otorhinolaryngology', ' Dentistry', 'Otolaryngology (Ear, Nose, Throat) - Head & Neck Surgery', 'Technician', 'ORTHOPEDIC ', 'sh', 'Adult Congenital Heart Disease', 'General Medicine, Public Health, Family Medicine', 'dwadawd', 'Occupational Medicine, General Medicine, Minor Surgery and Wound Care', 'ENT (Ears, Nose, Throat - Head and Neck Surgery', 'Obstetrics And gynecology', 'General Surgery (Cancer, Colorectal, Breast, and Laparoscopic Surgery)', 'ORL-HNS ', 'Family & Occupational Medicine', 'English Language Studies', 'Internal Mecidine, Pulmonologist', 'Registered Midwife', 'Jennifer Apurillo Baldillo', 'General Practice,  Occupational Medicine', 'Cosmetic Surgery ', 'General Practice/ General Medicine', 'physical therapy', 'Orthopidic', 'GENERAL PRACTICE, PRIMARY CARE', 'Family Medice', 'Pain management', 'General `Physician ', 'OB- GYNE', 'Internal Medicine - Geriatric Medicine', 'Child neurology', 'ENT (Otorhinolaryngology Head & neck Surgery)', 'Diabetes Specialist', 'da', 'general dentistry, orthodontics', 'General Orthopedics, Arthroplasty and Spine', 'Orthodontic/General Dentistry, Surgery, and TMJ', 'Obstetrics and Gynelcology', 'Internal Medicine  - Infectious Diseases', 'General Medicine - Occupational Health Physician', 'GENERAL INTERNAL MEDICINE', 'General Dentistry, Orthodontics , Endodontics, Oral Surgery', 'OBSTETRICS/ GYNECOLOGY', 'Small animals', 'Occupational and Safety Medicine', 'General Medicine, Occupational medicine', 'Medicine ', 'Wound Care Center', 'Asthma', 'studkes', 'Pediatrician Hematologist-Oncologist', 'Cardiovascular Perfusion', 'General Practioner, Pediatrics', 'ENT (otorhinolaryngology) Head and Neck Surgery', 'General Surgery Hepato-Pancreato-Biliary Laparoscopy', 'Ganap', 'Emergency Medicine/ General Medicine/ Ambulatory Medicine\\n', 'im not a doctor', 'Aesthetics Surgery', 'General Pediatrics / Occupational & Industrial Medicine', 'Health Care', 'Family Medicine/ Medical Acupuncture ', 'FPOGS,FPSMFM,FPSUOG', 'Endocrinology, Internal Medicine', 'Dermatology-Hair Transplant', 'Dermatology, Diseases of the Skin, Hair and Nails, Clinical and Aesthetic Dermatology', 'Otolaryngology   Head & Neck Surgery', 'General Pravtitioner', 'Public Health Nursing', 'General Surgery, General Practice', 'OCCUPATIONAL MEDICINE', 'Internal Medicine  \\x97 Hematology', 'Patient - Wrong Entry', 'OB-GYN, Women\\x92s Wellness', 'Pediatrics Developmental Behaviors', 'PEDIATRICS\\n', 'General Medicine, Occupational Health, Primary Care, Internal Medicine, COVID-19, Aesthetic Medicine, Preventive Medicine, Lifestyle Medicine', 'Primary Care, General Medicine, Preventive Medicine, Public Health', 'General and Lifestyle Medicine', 'Cosmetic Surgery and Aesthetics', 'I need Medicine', 'General and Laparoscopic Surgeon ', 'General Medicine / Occupational Medicine', 'General Practitioner - Occupational Health Physician', 'Counseling, Psychotherapy and Psychological Testing', 'Clinic rcapistrano', 'Adult Neurology, General Medicine, Primary Care', 'General Medicine, Veterinary Medicine', 'General dentist practice', 'General Pediatrics, Diplomate', 'General Practitioner, Psychiatry (In Training)', 'PHYSICAL MEDICINE AND REHABILITATION, CLINICAL NEUROPHYSIOLOGY AND MYOGRAPHY', 'General Medicine and Surgery', 'Pedetrician', 'Adult Neurology ', 'emergency medicine', 'sewing', 'Muscle And Bone', 'Pediatrics & Child Health', 'laparoscopy', 'ANESTHESIA/ GENERAL MEDICINE', 'Ear, Nose , Throat-Head and Neck Surgery', 'General Practitioner, Primary Care Physician', 'thalassemia', 'Perioperative Nurse', 'Dermatology Resident', 'General & Laparoscopic Surgery', 'Pateint', 'Aesthetic dentistry', 'Family practice', 'Pulmonary and Internal Medicine', 'Shy caustic  ', 'Ob GYN', 'Primary Care and General Madicine', 'Aesthetic dermatologist', 'HIV', 'Internal Medicine - Rheumatology ', 'Giving birth of pregnant mother', 'Occupational Health, Public Health', 'Laparoscopy', 'Internal medicine, Endocrinology, ENT', 'Interior Design', 'Adult Medicine Specialist', 'Neuro Surgeon', 'Design', 'psychologist', 'Dental Hygiene', 'Orofacial Pain (TMD And Neuropathic pain)', 'Pedia Psychiatrist', 'ENT-HNS( OTORHINOLARYNGOLOGY)', 'General Medicine; Obstetrics and Gynecology', 'SURGEON', 'hR', 'Internal Medicine  Cardiology', 'Orthopedic and spine surgery ', 'OB Gyn ', 'Otorhinolaryngology (Ears, Nose and Throat), ENT-Head and Neck Surgery, ', 'Perioperative Nursing', 'Sports ', 'Ct scan', 'Accountancy', 'General Dentistry, Orthodontics, Endodontics', 'Orthodontics and TMJ Management', 'Hyperbaric Medicine', 'Internal-Medicine- Adult Cardiology', 'Gastroenttology', 'Q', 'Occupational medicine ', 'General Medicine & Ophthalmology', 'broken colarbone', 'opthalmologist', 'Internal Medicine - Adult Disease', 'Pathologist', 'Cosmetic/Aesthetics Dentistry, Orthodontics', 'Snsjsj', 'Internal and Geriatric Medicine', 'Dental Surgery, Orthodontics', 'das', 'bhb', 'General Medicine and Hospital Administration', 'General Dentistry, Minor Oral Surgery, Orthodontics', 'Pediatrics/Internal Medicine/Allergology', 'General Practice - Occupational Health', 'Internal Medicine; Adult Cardiology; Cardiac Electrophysiology and Device Implantation', 'Primary Care | Occupational Medicine ', 'Valdez', 'General Pediatrics and Primary Care', 'Occupational Health and Industrial Medicine; Anesthesiology and Pain Medicine', 'General Medicine, Occupational & Industrial Medicine', 'ENT - HNS(ear,nose,throat head and neck surgery)', 'Psychiatry (Adult, Addiction); DOH Accredited Physician', 'Anesthesiology/Pediatric Anesthesiology/Pain', 'Internal Medicine Clinic Nutritiin', 'General Medicine, General Practice, Primary Care', 'Psychology and Psychiatry', 'Pulmonary & Critical Care', 'General Surgery And Laparoscopy', 'Urology, ', 'Sport medicine', 'Pharma', 'Nuclear Medicine- Thyroid (Radioactive Iodine Therapy)', 'ob-Gyn', 'Fellow, Aesthetic Dermatology, Cosmetic Surgery', 'Pulomonologists', 'Allergology and Immunology', 'Occupational Health Physician, General Practice, Primary Care Physician', 'Prostate', 'obstetrics and Gynecology ', 'General Dentistry, Oral Surgery, TMJ-Orthodontics', 'OPTHALMOLOGIST', 'Internal Medicine-adult Medicine', 'bjj', 'Internist- Adult Disease Specialist', 'Lifestyle Medicine ', 'General and Oncologic Urology', 'Obtetrician', 'General Physician, Surgeon', 'Family medicine,internal medicine', 'Neoro', 'Endourology', 'itty=', 'Medication', 'General Medicine, Emergency Medicine', 'Nuclear Medicine /  Primary Care ', 'Internal Medicine - Adult Cardiologist', 'INTERNAL MEDICINE - CARDIOLOGY', 'Nephroloy', 'Internal Medicine, cardiology', 'Mechatronics', 'General  and Cancer Surgery Laparocopic Surgery', 'Pregnancy', 'mjsbjsf', 'Thoracic and Cardiovascular Surgery, Functional Medicine', 'OB ONCOLOGY', 'Obstetrics- Gynecology ', 'Ob Gyne Specialist', 'Oral Surgery, Orthodontics', 'Otorhinolaryngology - Head and Neck Surgery (ORL/ENT-HNS)', 'Sisnus', \"I'M-CARDIO \", 'What', 'Otorhinolaryngology (Ear, Nose, Throat) - Head and Neck Surgery', 'Dialysis Nurse', 'Psychology\\x92s', 'General Practice, General Medicine, Primary care', 'Internal Meducine', 'La', 'Internal Medicine; General Medicine; Public Health; Primary Care', 'Ear, Nose and Throat, Head and Neck Surgery', 'consultation /family medicine', 'Internal Medicine Pulmonary', 'Ophthalmology\\nCataract and Refractive Specialist', 'Adult and Child Illnesses', 'Pediatrics/ General Medicine', 'internal medisine', 'General Adult Neurology', 'Internal Medicine - Adult and Pediatric Allergy, Asthma, Clinical Immunology and Reproductive Immunology', 'Hsha', 'pedia behavior and development', 'nephrology', 'Nuclear medicine and PETCT ', 'Is There A Free Consultation Here With Medical Certificate?', 'Engrineer', '286324', 'endo', 'HOSPITAL DENTISTRY', 'General Practitioner, Pain Medicine', 'General Medicine, Family Medicine, \\nOccupational Medicine', 'Internal Medicine - Infectious Disease', 'My Son Has Cough And Phlegm', 'Family medicine Diabetologist', 'Adult and Pediatric Diseases', 'Aesthetic medicine, Cosmetic dermatology', 'asthmatic', 'Small, Avian and Exotic Medicine', 'Internal medicine - Cardiology', 'Internal Medicine, Hematology', 'Ob Gybe', 'xx', 'Adult Medecine and Obstetrics', 'Medical Music Therapy', 'GP & Orthodontic & Esthetic', \"Children's Diseases\", 'Internal Medicine - Philippine College of Physicians, Diplomate', 'CLINICAL NUTRITION', 'Muscle pain', 'General Medicine and Skin Health', 'Urologic Oncology/Urology', 'General Practitioner, Pediatrics Junior Consultant ', 'Med sec/midwife', 'Pediatrician/General Physician', 'General Ob Gyn', 'Oral Surgery, Cosmetic Dentist, Endodontist', 'Family and Occupational Medicine Resident', 'Internal Medicine - Interventional Cardiology ', 'dr', 'Obstetrics-Gynecology ', 'optical', 'Occupational, Speech and Physical Therapies', 'Adult Pulmonology, Lung Masses', 'Ear, Nose Throat - Head and Neck Surgery', 'Surgery ang Gynecological care', 'Neurology - Diseases of the Brain, Spinal Cord, Nerves and Muscles', 'Calvin Smith', 'Colon, Rectal, and Anal Surgery', 'Medical Certificate', 'General Practitioner; Internal Medicine', 'Tonsil surgery', 'Aesthetic Dermatology ', ' General Pediatrics', 'Orthopedic Surgery - Sports Medicine and Joint Reconstruction Surgery', 'Christine Paredes', 'Pineapple Processing', 'Pulmonogy', 'asdas', 'Internal Medixine', 'OBGYn', 'Endocrine', 'Family and Community Medicine (in training) | Occupational Safety & Health Physician ', 'N/A ', 'trial', 'Internal Medicine - Clinical and Invasive Cardiology', 'Internal Medicine, OB-Gyn, Pediatrics, Surgery, ', 'Pediatrics and Addiction Medicine', 'Urologist ', 'Pedia Infectious Disease', 'sir', 'Oliver Delgado Castro', 'yest', 'Obstetrician-Gynecologist (OBGYN)', 'Internal Medicine - Adult Infectious Diseases', 'PULMONARY MEDICINE', 'Orthopedics / Orthopaedics, General Orthopaedics', 'Endcronology', 'Internal Medicine  -Adult Diseases Specialist', 'High bloo & Cholesterol ', 'Galactumanan', 'Mental Disability', 'Neuroloy', 'mental disability', 'Infectious Desease', 'General Medicine (Primary Care)', 'Enternal medicine', 'General Surgery, Surgical Oncology', 'Rehab Med', 'General Family and Adult Medicine', 'it', 'Optal', 'mb', 'ALLIED MEDICINE', 'General Cosmetic Surgery', 'STAFF', 'Cooking', 'Intrernal Medicine ', 'PEDIATRIC GASTROENTEROLOGY, HEPATOLOGY & NUTRITION', 'Primary Care Physician / General Practitioner', 'Physical Medicine & Rehabilitation ', 'General Orthopedics and Trauma', 'Internal Medicine - Clinical Nutrition', 'Pediatric and Adult Allergy, Asthma and Clinical Immunology', 'General Dentistry and orthodontics ', 'hjikjjbh', 'Aesthetic Dermatologist & Anti-Aging Medicine', 'parañaque Manila', 'Nursing, Onco', 'General Medicine, COVID Homecare', 'Esthetics', 'Internal Medicine, Adult Cardiology, Vascular Medicine', ' Medical secretary', 'Internal Medicine - Gastroenterology ', 'Poisoning/Toxicology ', 'fever', '   Cardiologist', 'Community Growth Manager', 'Periodontics and Implant Dentistry', 'General Medicine, General Practitioner, Preventive Medicine and Public Health', 'industrial engineer', 'Internal Medicine, Infectious Diseases ', 'etc', 'Emergency Medicine Resident', 'General Physician, Covid-19 suspect/confirmed', 'Urologic Surgery ', 'OB-GYN SONOLOGIST', 'internal medicine, Family Medicine, General Medicine', 'Pediatric Neurology, General Pediatrics', 'ENT-HNS /OTOLARYNGOLOGY-HEAD AND NECK SURGERY ', 'Internal Medicine - Pulmonary Medicine ', 'Pediatric Neurology | General Pediatrics | Stroke', 'Not A Doctor!', 'Orthopedics Surgery', 'Ndb', 'Familu Medicine', 'Emergency Nursing', 'plastic surgery', 'General Surgery/ TCVS ', 'General Surgery, Aesthetic Medicine', 'Operations Management', 'Internal Medicine | Adult Disease Specialist', 'clerk', 'AESTHETIC AND ANTI-AGING MEDICINIE', 'Exercise and Rehab', 'Internal m.', 'Gastrologist', 'hhhbb', 'Mastery Surgery', 'Internal Medicinr', 'Internal Medicine-Adult Pulmonary Medicine ', 'General Medical Physician', 'General Practitioner, Primary Care, Preventive Care', 'allergy', 'Radiologic Technologist', 'General Pediatrics and Family Medicine', 'IM - Adult Cardiology', 'Otolaryngology (Ears, Nose and Throat) Head and Neck Surgery', 'Fm', 'Otolaryngology ( Ears, Nose, Throat- Head and Neck Surgery)', 'Hospital Dentistry, Orthodontics, Endodontics, Periodontics', 'General Surgery; General Medicine', 'GENERAL OB GYN', 'Pediatrics Neurology', 'Sorgeon', 'secretry', 'STI Venerrheal Diseases', 'Adult & Pediatric Medicine', 'immunologist', 'Dev', 'drx', 'Occupational Health Physician; General Medicine', 'Pediatician', 'Radiology family medicine ', 'Internal ', 'OR', 'Palliative Care, Hospice Care, Home Care, Family Medicine', 'General Practice / Internal Medicine', 'General Medicine, Occupational Safety and Health (OSH) Medicine', 'Obstetrics And Gynecology, Reproductive Endocrinology And Infertility ', 'Bpo', 'Pharmaceutical Medicine', 'Breast Surgery & General Surgery', 'General Medicine, Primary Care & Public Health', 'Infectious Disease, Allergology', 'Medical Oncology-Internal Medicine', 'General Practitioner/General Medicine', 'General Medicine-General Surgery', 'General Medicine /Aesthetic Medicine', 'PRIMARY CARE', 'General Medicine; Prevention Medicine', 'Tourism', 'General Surgery (Thyroid, Breast, Gallbladder, Hernia, Appendix, Colon, Hemorrhoids)', 'Follow up check up', 'General Practitioner, Occupational Health Practitioner', 'General Medicine-Dermatology', 'bells palsy', 'Pediatric Surgery ', 'neurologist', 'Derma specialist', 'GENERAL MEDICINE/PRIMARY CARE', 'Primary Care Physician / General Physician', 'G-CSF', 'Consulting Services and Construction', '0', 'Medical Oncology (Cancer Specialist)', 'Internal - Pulmonologist', 'Skin health physician', 'Manual, Sports, Orthopedic Rehab', 'General Medicine/Family Medicine/Preventive Medicine', 'Obstetrics & Gynecology ', 'DERMA', 'Consult For Result Sperm Result', 'Pediatrics/ Occupational Health Physician', 'Ophthalmology Otorhinolaryngology Head and Neck Surgery', 'Ob Sonoogist', 'Health Optimization Medicine, Bioidentical Hormone Balancing (Male and Female), Nutritional Medicine', 'General Pediatric ', 'JM', 'ObGyne- Perinatology', 'Aesthetic Derm', 'Famiy Medicine', 'Radiology / Nuclear Medicine', 'General Medicine, General Physician, Primary Medicine', 'General Physician, Occupational Health Physician', 'Dra. beverly', 'Na ', 'Surgeru', 'Internal Medicine\\nPulmonary and Critical Care Medicine', 'Gen Practice', 'Adult Pulmo', 'Dx', 'General Medicine, General Physician, Primary Care', 'Physical and Rehabilitation Medicine ', 'E.g', 'Dra.Ma.Isabela Vilvar', 'Neurology, Psychiatry', 'General Practitioner/ Primary Care', 'Nuclear Medicine ', 'n.a', 'Jdieie', 'General Practitioner Medicine', 'N.A', 'Ob gynecologist', 'Family Medicine, Internal Medicine (in training), General Medicine, Public Health', 'ENt', 'hba1c', 'suzara', 'orthodontics and esthetic dentistry', 'pneumonia', 'allergology', 'MD - General Practitioner', 'It', 'Internal Medicine and Surgery', 'NECK', 'werwer', 'general physician ', 'Physical & Rehabilitation Medicine', 'Multispecialty Clinic', 'Urologic Surgeon / Urology', 'Bb', 'Fertility', 'Internalmedicine', 'Opthalmologists', 'Shaman', 'Anesthesiologists And Pain Management', 'Family Medicine, Adult Medicine, Occupational Medicine', 'Neurosurgery spinal', 'dzcdzcdcz', 'Nutrition-Dietetic, Emergency Medicine', 'Multi-Specialty Clinic & Rehabilitation Center', 'Internal Medicine - Nephrology ', 'Psychological First-Aid', 'Adult and Pediatric General Practitioner', 'Internal Medicine-  Adult Cardiology', 'Oncology -gynecology', 'GENERAL AND LAPAROSCOPIC SURGERY', 'Home Physical Therapist ', 'to motivate', 'Speech Pathology', 'General Dentistry, Oral Surgery, Periodontics, Dental Implantology', 'Family Medicine and Occupational Medicine; Technical Health and Safety, Life and Mental Health Coach, Process Improvement, Workplace Legal Health Industry Expert, Accredited OSH Consultant & Speaker', 'W', 'Sugar', 'Developmental Pediatrician', 'fertility', 'Ears, Nose and Throat', 'gen', 'Obstetrician - Gynecologist, OBGYN', 'Twst', 'Aesthetic & Pathologic Dermatology', 'Genetics', 'Primary Care Physician, General Practitioner, General Medicine', 'Obstetrics and Gynecology (OB-GYN)', 'Small Animal ', 'Obstetrics And Gynecologist', 'Engine Department', 'Foot and Ankle Surgeon', 'General Medicine, Primary Care, General Practitioner', 'Obstetrics and Gynecology (Ob-Gyn)', 'Poisoning, Snake Bites, Cobra Envenomation, Clinical Toxicology, HAZMAT Life Support, Family Medicine, Primary Medicine', 'General  Practice', 'Internal Medicine - Adult Cardiology - Vascular Specialist', 'Internal Medicine Cardiology', 'Derma1', 'Anesthesiology, General Practitioner', 'General Medicine - Adult and Pedia', 'General Medicine, Obstetrics & Gynecology, Public Health, Primary Care', 'General Practitioner, Primary Care & Occupational Medicine ', 'Primary Care Physician (Adult & Children Diseases)', 'Internal Medicine, Adult Diseases', 'Internal medicine, gyne', 'Mental Health  & Psychotherapy', 'Pediatrics and General Practitioner', 'OBSTETRICIAN gynecologic ', 'OBSTETRICIAN AND GYNAECOLOGY ', 'Internal Medicine - Diabetes, Thyroid and General Endocrinology, ', 'Family Medicine and Occupational Medicine', 'Ocology', 'Internal Medicine - Infectious and Tropical Diseases', 'DERMATOLOGY, PEDIATRICS,', 'General PEDIATRICS', 'Advanced Orthopaedic Trauma', 'ONCOLOGY', 'gynecology', 'Nutrition Therapy', 'Sugery', 'Asksbdkdnd', 'TMJ MANAGEMENT, LASER DENTISTRY', 'General Practitioner, Public Health, Primary Care, TB and Drug-Resistant TB', 'My medication', 'General Medicine / General Practitioner', 'Bible Translation ', 'Gastro ', 'PRIMARY CARE MEDICINE', 'OB-gyn', 'Pediatrics, Pediatric Cardiology', 'Ears Nose Throat - Head and Neck Surgery', 'Clinical and Cosmetic Dermatology / Occupational MD - General Med ', 'Internal Medicine - Cardiology/Cardio-Oncology', 'General Medicine/Primary Care Physician ', 'Production', 'aesthetic', 'Dog bite vaccine', 'Counseling, Positive Psychology, Strengths Coaching ', 'Medical abstract', 'nejdhdjdjdh', 'Internal Medicine | Nephrology', 'Developmental pedia', 'Adult Specialist', 'no', 'Family Medicine, Lifestyle Medicine', 'General Phycians ', 'CARDIOVASCULAR', 'Sickness', 'Secretary medical ', 'pediatric nurse', 'Pediatric Gastroenterology, Hepatology, and Nutrition', 'Shshaha', 'OBSTETRICIAN GYNECOLOGY', 'Family and Community Medicine, General Practice, Adult and Child Medicine', 'General Medicine, Aesthetic Medicine', 'INTERNAL MEDICINE-NEPHROLOGY', 'Dentist ', 'PATIENT', 'General Family Medicine', 'Dermatologist (Skin)', 'Network Security and Network Infrastructure ', 'Hematology ', 'k', 'Comprehensive Ophthalmology: Cataract, Eye Diseases, Microsurgery and LASER', 'General Medicine, Primary Care, Family Medicine, Lifestyle Medicine', 'Integrative and Lifestyle Medicine', 'Small animal practice ', 'General Pediatrics & Pediatric Hematology', 'Ear, Nose and Throat- Head and Neck Surgery', 'Cosmetic Dentistry, Orthodontics, Surgery, General Dentistry', 'OBGYN, Family Medicine', 'Pediatric Dentistry and Orthodontics', 'Pedia Derma', 'Cbc', 'Skin Care', 'Aesthetician', 'Internal Medicine: General Medicine', 'INTERNAL MEDICINE ADULT CARDIOLOGY', 'Rehabilitation Medicine, SpineCor Pediatric and Adult Brace Provider', 'Internal Medicine General Medicine', 'Neurology/Parkinson\\x92s disease and movement disorders ', 'Internal medicine, general practice', 'guycvujb', 'Endocrin', 'Internal medicine, infectious disease & tropical medicine ', 'Cardio ', 'General surgery, Minimally Invasive surgery', 'Allergy , Asthma, Immunology', 'Massage', 'General Practitioner - Adult Medicine', 'Edocrinology', 'Behavioral & Developmental', 'Occupational Health, Primary Care, Public Health', 'Encology', 'Pediatric Dentistry, Esthetic Dentistry, General Dentistry', '??', 'Internal Medicine, Occupational Health', 'General Physician / 09559301258', 'General Medicine/Lifestyle Medicine', 'General Medicine, Primary care, Occupational Health Physician', 'Surgical Resident', 'Pulmonology - Internal Medicine', 'DCFM', 'Obstetrician & Gynecologist ', 'General Practitioner, Professor', 'Religion ', 'Alicia M. Gonzalez', 'Lymphatic Drainage massage therapist', 'General Medicine; Aesthetics And Dermatology', 'Teaching', 'General Practice,  General Medicine', 'General Medicine, Lifestyle Medicine', 'Small animal medicine and surgery ', 'General Medicin, Anesthesiology', 'Skip', 'Otolaryngology-Head and Neck Surgery (ENT-HNS)', 'Family Medicine (Primary Care practice in Mental Health, Hypertension, Diabetes, Sleep)', 'General Medicine, Occupational Health and Safety', 'Not A Doctor', 'OBSTETRICS & GYNECOLOGY ', 'Ob-Gynecology / Ultrasound Subspecialist', 'General Medicine, Primary Care, Occupational & Industrial Medicine', 'Internal Medicine- Pulmonology', 'Board Certified Pediatrician', 'Primary Care/General Medicine/Family Medicine/Preventive Medicine', 'PULMONOLOGY AND ADULT MEDICINE/ INTERNAL MEDICINE ', 'Emergency, Critical Care, Internal Medicine', 'Plastic, Reconstructive, and Aesthetic Surgery', 'General Medicine (Adult and Pediatric)', 'Pulmonary and Neurology', 'Internal medicine, General Medicine', 'OBSTETRICIAN AND GYNECOLOGIST', 'Family Mericine', 'Obgyne and Infertility', 'Alaxan', 'General physician ', 'Eye', 'Endocrinology ', 'General Medicine, 1 year experience in Primary Health Care', 'Medical certificate ', 'General Medicine and Occupational Medicine', 'General/Adult Psychiatry', 'General dentistry ', 'Otorhinolaryngology Head and Neck Surgery ', 'Psychiatry Resident', 'Industrial Engineering', 'Internal Medicine (Adult Disease Specialist)', 'Ear Nose Throat, Head and Neck Surgery', 'Advanced Laparoscopic Surgery/ General Surgery', 'Medico Legal', 'Tech support', 'Ears, Nose Throat - Head & Neck Surgery', 'Internal/Adult Medicine', 'General/Cancer Surgery', 'General Medicine\\nInternal Medicine\\nPulmonology and Critical Care Medicine', 'General/ Emergency', 'Internal medicine-diabetes, thyroid and metabolism', 'Developmental Pedia', '515828', 'Adult Cardiology -Internal Medicine', 'Psychosocial Counseling, Psychological Assessment, Mental Health', 'secretary ', 'initial psychological assessment, consulting, counseling and psychotherapy', 'hhh', 'qqq', 'general physician, primary care', 'Hemodialysis Doctoe', 'GENERAL MEDICINE (Adults and Children Diseases) ', 'General Physician\\nOccupational Health Physician', 'Internal Medicine-Adult Cardiology ', 'Occupational Medicine and Hypertension Specialist', 'Occupational Health Medicine / General Medicine', 'Pre-natal', 'General Medicine, Sport Injury Prevention and Therapy', 'Pain Medicine (pain management)', 'COSMETICS, ORTHODONTICS, GENERAL ', 'Cancer Surgery and General Surgery ', 'Ophthalmology | Lifestyle Medicine', 'Internal Medicine (Adult Diseases)', 'Companion animal medicine', 'dfghdfjh', 'Hemodialysis Center', 'General Surgery and Minimally Invasive Surgery', 'Aesthetics and General Medicine', 'Diarrhea', 'Psychometrician', 'Ortho/ surgery', 'NEPHROLOGY', 'Counseling Psychology, Mental Health Counseling', 'Medical Acupuncture', 'ENT (Otorhinolaryngology) - Head and Neck Surgery', 'General Medicine | Adult Neurology Resident', 'Orthopedic bone', 'Bbb', 'Sales ', 'General Medicine Primary Care, Health and Wellness Nutrition, Weight Loss Management', 'Benoza', 'General Dentistry, Oral Surgery, Orthodontics', 'cardiologist ', 'Tele Consult', 'Counseling & Psychotherapy', 'OM', 'Clinical, Aesthetic & Surgical Dermatology', 'Counseling/ Psychotherapy', 'Medical assistant', 'Primary care ', 'Primay Care Phycisian', 'Dental Implants', 'Mental Health Services', 'Lung', 'Occupational & Industrial Medicine, Hypertension Specialist, Primary Care', 'Neurology and Psychiatry ', 'Dentistry, Implantology, Oral Surgery, Orthodontics, Endodontics, Prosthodontics, Cosmetic Dentistry', 'Psychiatry, Mental Health', 'Psychological Counseling and Therapy', 'Internal Medicine, Aesthetic Medicine', 'Exotic', 'General Medicine Practitioner', 'General Medicine and Occupational Health ', \"Hormone Health, Women's Health, Functional Nutrition, Gut Issues\", 'Preventive Medicine & Public Health', 'General Medicine, Primary Care.', 'Interal Medicine,Gastroenterology,Digestive Endoscopy', 'Clinical Psychology | Psychotherapy | Psychological Testing | Mental Health Speaker', 'Obygyn', 'Primary Care & General Medicine', 'LLala', 'Primary Physician', 'General Medicine, lifestyle medicine, occupational health medicine', 'Internal Medicine / Adult Disease Specialist', 'Genera Dentist', 'Immunologys', 'Primary Care, Public Health', 'FAMILY /GENERAL MEDICINE', 'Vaginal bleeding', 'Dentistry, Implant Dentistry, Orthodontics, Cosmetic Dentistry, Oral Surgery, Prosthodontics, Endodontic Dentistry ', 'General, Laparoscopic, Cancer Surgery', 'Jajan', 'General Medicine, Nutrition and Dietetics', 'Physical therapy ', 'Internal Medicine- Neurology', 'jana', 'Occupational Health, Anesthesiology', 'hdh', 'Joshua Bacolod', 'BONE ALIGNMENT', 'INTERNAL MEDICINE CARDIOLOGY', 'Plastic, Aesthetic and Reconstructive Surgery', 'enen', 'Integrative Medicine/Lifestyle Medicine', 'Recovery-Oriented Addiction Medicine', 'Psychiatry and Internal Medicine', 'Brain and Spine Surgery', 'General Medicine, General Pediatrics', 'Guidance and Counseling', 'Ear, Nose, Throat (ORL) - Head and Neck Surgery', 'Emergency Medicine/ Occupational Medicine', 'Eye Refraction, Optical Services and Products', 'Cosmetic Surgery, Aesthetic and Anti-Aging Medicine', 'Ob Gynecology', 'Urology ', 'js', 'Bone alignment therapy', 'Healot Biomekaniks', 'FOLLOW UP', 'Oral Surgery and Esthetics', 'Otolaryngology-Head and Neck Surgery (Ears, Nose, Throat)', 'Counseling, Stress Management, Anxiety Management, Depression, Behavioral Modification, Assessment ', 'General Obstetrics And Gynecology', 'General Medical Practioner', 'General Medicine, Primary Care, Rehabilitation Physical Therapy', 'MD, General Practitioner', 'General Practitioner\\nPrimary Care Physician', 'Laboratory aide', 'Snsnd', 'Aesthetic, Plastic, and Reconstructive Surgery', 'AESTHETIC NURSE ', 'Occupational Medicine and General Practice', 'Primary Care and General Medicine ', 'Animal bite', 'Primary Care, Family Medicine/Integrative Medicine', '\\x85', 'GENERAL ORTHOPEDICS AND TRAUMATOLOGY', 'Small Animal Medicine ', 'Orthopaedic and Spine Surgery', 'Psychology, Psychotherapy, EAP, Counselling', 'Neurology (Adult)', 'Psychometrician, General Physician', 'Depression, Anxiety', 'Yu', 'OtoRhinoLaryngology-Head & Neck Surgery', 'Workplace Psychology', 'Cardiothoracic Surgery', 'General Practice, Public Health', 'Ears,nose,throat-Head and Neck Surgery', 'General Practitioner; Pediatrics', 'Psychotherapy, Counseling, Psychology', 'Ophthalmology SPCMC', 'Wrong Entry', 'General Medicine, Occupational Health Medicine, Lifestyle Medicine', 'Obstetrician And Gynecologist', 'Fermont Base', 'Ear, Nose,Throat-Head and Neck Surgery', 'Orthodontics, Cosmetic Dentistry, Periodontics, Pedodontics, Surgery, General Dentistry', 'surgical', 'Internal Medicine- Adult Nephrology', 'IM trained', 'TMJ-Craniodontics', 'Ears,Nose,Throat-Head And Neck Surgery', 'Adult & Child Allergy, Asthma & Clinical Immunology', 'General and Laparoscoopic Surgery', 'Occupational Medicine/General Medicine', 'Family mesicine', 'General Dentistry, Orthodontics, Esthetic Dentistry', 'INTERNAL MEDICINE - PULMONOLOGY', 'Juan Rafael', 'Partner Visa', 'Family Medicine  OH Pysician', 'Internal Medicine and Medical Oncology', 'Marlon Arcegono', 'General Dernatology', 'Developmental pediatrician ', 'Adult & Pediatric Optometry, DPA Certified', 'Community and family medicine ', 'For check up', 'Therapeutic sessions to help clients cope with Stress, Burnout, Interpersonal conflict,  Anxiety, Mood disorders, Grief, Low self-efficacy, Self-harm behavior etc.', 'Cosmetic Surgeon, Regenerative Specialist, Functional and Aesthetic Gyneologist, Obstetrician', 'Check up', 'Refraction', 'Obstetrics and Gynecology (OBGYN), Reproductive Endocrinology & Infertility', 'General Adult And Child Medicine', 'Laboratory Medicine', 'Obsterics- Gynecology', 'Eye Doctor', 'General Surgery/Laparoscopic Surgery/Cancer Surgery', 'Internal Medicine / Adult Cardiology - Interventional Cardiology', 'Otolaryngology ', 'Family Medicne', 'Machinis', 'Generap Psychiatrist', 'Jehejejej', 'Nonde', 'education', 'Dentistry, General Medicine', 'Obstetician', 'medical physicists', 'General Physician / 09368241461', 'Doctor Of Optometry', 'OB-Gynecologist', 'Obstetrics and gynecology ', ' aesthetics', 'Hand and Orthopedic Surgery', 'Otolaryngologist - Ear, Nose, throat, Head and Neck', 'All', 'Doctor of Veterinary Medicine', 'Depression and Anxiety', 'Psychometrician & Psychologist', 'Counseling, Coaching', 'Facial ', 'Foot', 'Intergumentary', 'Electrophysiology/ Cardiologist', 'MEDICAL DOCTOR & BREAST SPECIALIST RADIOLOGIST', 'Gennielene G Lazaro', 'Gennielene G Lazaro ', 'Internal Medicine, Gastroenterology, Therapeutic Endoscopy', 'Primary Care Physician ', 'Orthopedic Surgeon ', 'OB Gynecology', 'ENT-Head & Neck Specialist', 'Small animals ', 'jsjsjsja', 'vessel', 'Dental medicine', 'Clinical and Cosmetic Dermatology', 'Counseling/Psychotherapy through Expressive Arts for children (4-12), adolescents (13-17), and young adults (18-30)', 'Looking For A Fertility Doctor', 'E N T', 'Registered Psychologist', 'Medical Oncology & Internal Medicine', 'GRIEF COUNSELING,  MARITAL/COUPLE/FAMILY COUNSELING', 'Psychotherapy, Counseling', 'Licensed and Registered Psychologist', 'Obstetrian and Gynecologist', 'Diabetes doctor', 'fdd', 'Speech And Language Pathology', 'Periodontics and Dental Implants', 'Obstetric Gynecologist ', 'Neurologist/Sleep Medicine', 'General physician/ primary skin health physician / dermatology', 'Internal Medicine-Gastroenterology ', 'Inject anti rabies', 'Mental Health / Addiction Medicine / Medico-Legal / General Medicine (Primary Care)', 'Family Medicine (Adult and Children Diseases)', 'GENERAL  MEDICINE', 'Nephrologu', 'Dialysis', 'Enternal Medicine', 'Fellow in Internal Medicine', 'Krizelda Timbang', 'Primary Care/General Practice', 'Adult and Child General Medicine, Occupational Health Physician', 'Orthopaedic Surgery ', 'Otolaryngology - Head and Neck Cancer Surgery / ENT / Diseases of Ears, Nose, and Throat', 'Cosmetic-Plastic Surgeon', 'Pulmonologist-Internist', 'Dental surgery, Orthodontics ', 'Gastroenterologist ', 'General Pediatrics and Hematology', 'Luisa marie s cruz', 'Family Medicine/Occupational Health', 'Rehabilitation & Physical Therapy', 'visual problem', 'Breast Oncology and General Surgery', 'General Physician, 1st Year - Practice-Based Family Medicine Resident ', 'Tcvs', 'Business ', 'Pediatrics and Adult Primary Care', 'Orthopedics-- Muscle & Bone pain (Back, Extremities, etc),  Lumps (bukol), Fracture', 'General and Emergency', 'Not applicable ', 'gastroenterology', 'ghbb', 'ERN', 'Internal Medicine, Pulmonary and Critical Care Medicine ', 'Nerves', 'Occupational and Industrial Health', 'General Dental Medicine', 'Medical clearance for foot sprain', 'Online or teleconsult need medical clearance', 'Endocrinology, Internal Medicine ', 'Trained Diabetes Educator', 'Military', 'OB gynecologist', 'Bacteria', 'General Medicine/ Primary Care', 'General Dentistry, Orthodontics, Oral Surgery', 'ObGYN', 'General Dentistry, Orthodontics, Oral Surgery and Implant', 'General Dentistry, ', 'General Medicine, Aesthetic Dermatology', 'DOH-Accredited Physician for Drug Dependency Evaluation', 'Dermatology and Aesthetic Medicine', 'Diplomate of Philippine Pediatric Society; Diplomate in Pediatric Nephrology, Philippine Society of Nephrology', 'General Surgery And Cancer Specialist', 'Specialist pedia hema', 'Multispecialty', 'pulmonologist', 'Pediatris', 'Internal Medicine | General Medicine', 'AESTHETIC SURGEON', 'Family Psychology', 'General Pediatrics; Adult and Pediatric Allergy and Immunology', 'Marketing', 'Herrera', 'emergency', 'Resting', 'Maxillofacial Surgery', 'Otorhinolaryngology (ENT) - Head & Neck Surgery', 'Obygene', 'Line leader ', 'Small Animal Practice ', 'Ultrasound', 'PRIMARY CARE PHYSICIAN', 'OB GYNE, Nutritionist Dietitian', 'General Doctor', 'Eye Skin Disease', 'Pediatric Speech Pathologist', 'Adult and Child General Medicine, Primary Care', '2', 'General Medicine, Lifestyle Medicine, Primary Care, Adult & Child Diseases', 'Nothings ', 'Public Health and General Practice', 'General Medicine, Health And Wellness , Integrative Medicine', 'Adult & Pedia Medicine', 'Ears,Nose, throat, Head and Neck Surgery', 'Ears Nose Throat- Head and Neck Surgery', 'Patent', 'medicine ', 'Neprology', 'Pedia- pulmonologist', 'Plastic, Reconstructive, Aesthetic and Burn Surgery ', 'Primary Care, General Practice', 'Mother', 'DIABETOLOGY', '\\x97-', 'need a demtology', 'Child, Adolescent & Adult Psychiatry & Behavioral Mdicine', 'Diplomate in Internal Medicine / Adult Disease Specialist', 'IM - Infectious Diseases', 'General Orthopedic Surgery ', 'CLINICAL OPTOMETRY', 'Ob and ear', 'Pedia Nuero ', 'Community and Family Medicine', 'General Medicine, Obstetrics and Gynecology ', 'Holistic-Integrative Medicine/Lifestyle Medicine', 'Adult and Children ', 'Dermatology, General Practitioner', 'PATHOLOGY', 'Family Medicine Adult Medicine', 'Veterinary ', 'MeFocal cert', 'Pulmonologist, Cardiologist and Internal Medicine', 'Otorhinolaryngology- Head and Neck Surgery (ENT-Head and Neck Surgery)', 'General Medical Practice', 'cxxxc', 'General practice ', 'Medical Aesthetics ', 'General Surgery Resident', 'skin', 'Templora Dermtologica', 'General Medicine and Primary Healthcare', 'General Pediatrics, Occupational Health', 'Medicinr', 'Dermatology and Family Medicine ', 'dermatolog', 'Dentisrty', 'Pediatircs', 'General Medicine, Preventive Medicine, Public Health', 'Family Medicine / Internal Medicine', 'bsn', 'vv', 'Pediatric Therapy', 'small animal medicine', 'General Practitioner with training in Orthopedics and Traumatology', 'reproductive endocrinology', 'Adult and Child Medicine, Occupational Health Physician', 'orthopedic surgeon', 'Internal Medicine; General Medicine', 'Mental health', 'Clinical psychologist', 'Gen Prac', 'LIFESTYLE MEDICINE SPECIALIST,FAMILY MEDICINE - PBRTP', 'General Practitioner, Primary care & Public health', 'GENERAL / OCCUPATIONAL MEDICINE', 'Orthopedic Surgery and Trauma', ' Thoracic and Vascular Surgery', 'Endocrinology,  Diabetes and Metabolism', 'Psychology, Mental Health', '--', 'Primary Care ', 'Pshyciatry', 'Occupational  Medicine', 'Pediatric Hema-Onco', 'Internal Medicine-Adult Disease Specialist', 'ORL-HNS (ENT-HNS)', 'Interventional Gastroenterology and Liver Diseases; Interventional Endoscopy- Endoscopic Retrograde Cholangiopancreatography (ERCP); Advanced/Interventional Endosonography (EUS); Endoscopic Surgery', 'Internal Medicine - Endocrinology ', 'General Medicine, Radiology', 'Occupational & Preventive Medicine', 'General dentistry, ', 'General Medicine, Primary Care, Wound Care', 'Adult Diseases, Internal Medicine', 'CARDIOLOGIST', 'Fam', 'Otorhinolaryngology- Head And Neck Surgery', 'General Medicine, General Physician', 'General Practitioner, Primary Care & Public health', 'General and cancer surgery', 'General & Occupational Medicine', 'Bsbs', 'Internal Medicine, Cardiology', 'Family Medicine, Occupational Medicine', 'General Practitioner Dentist', 'Reproductive', 'IM - Adult Cardiology and Vascular Medicine', 'to', 'Obstetrics and Gynaecology Infertility ', 'Work-Related Health, Family Health, Child Health, Adult Health, and School Health.', 'Cardiac, Vascular and Thoracic Surgery', 'ObGyn ', 'Medical Coordinator', 'Genreal Pediatrics', 'On', 'Bbbb', 'anthony piano', 'diabetes and hypertension', 'Sugar level', 'Food Industry', 'IM - Hematology', 'Wound Care Ambulatory Unit', 'General Surgery, Minimally Invasive Surgery, Laparoscopic Surgery ', 'hah', 'General, Orthodontics, Esthetic Dentistry', 'Internal Medicine - Functional Medicine', 'nurse', 'MD, FPCP Diplomate, Philippine Society of Nephrology', 'Ndhdbehbsjshs', 'Pediatrics/Neonatology ', 'endocrinoly', 'General Surgery | Laparoscopic Surgery', 'General Medicine | Occupation Health Physician', 'Oral & Maxillofacial surgery', 'Rheumatology - Internal Medicine', 'IM-CARDIOLOGY', 'Family Medicine, Primary Care', 'Internal Medicine-Adult Pulmonary Diseases', 'Family Medicine, Hospice and Palliative Care, Palliative Care ', 'Infectious disease ', 'General Pediatrics and Medicine', 'Internal Medicine - Medical Nutrition', 'Physical Medicine and Rehabilitation ', 'Internal Medicine- Endocrinology, Diabetes, Thyroid/Goiter and Metabolism', 'General Practice-Primary Health Physician ', 'General pedia', 'Internal Medicine- Diplomate', 'Family Medicine (Children and Adult Medicine)', 'General Medicine Internal Medicine Lifestyle Medicine Preventive Medicine Primary Care', ' Adult Cardiology', 'Aesthetic Dentistry, Laser Dentistry', 'GENERAL PRACTITIONER ', 'Internal Medicine, General Medicine, Endocrinology, Diabetology', 'Neuro Doctor', 'Surgery and General Medicine', '222', 'Mm', 'Nephrology ', 'Radiology/ General Physician ', 'General Dentistry, Orthodontics, Surgery, Pediatrics ', 'General Practitioner, Surgery', 'Internal Medicine & Medical Oncology', 'Emed', 'General Ent', 'Primary Care Physician - General Practitioner', 'Internal Medicine / Adult Nephrology', 'Ears, Nose, Throat - Head and Neck Surgery (ENT-HNS)', 'General Medicine and Neurology', 'ear', 'Internal Medicine, HIV Primary Care, Transgender Health', 'Gygghh', 'Orthopedic Surgery and Sports Medicine', 'Obstetrics & Gynecologist', 'ophthalmologist ', 'Eye Care Specialist', 'General Practitioner - Occupational Health', 'Orthodontics, Prosthodontics and Cosmetic Dentistry', 'Internal Medicine Pulmonary Diseases', 'Hshhs', 'Ears, nose, throat- head and neck surgery', 'Oral Surgery - Dental Implants', 'General Cosmetic Surgery and Occupational Health', 'Nuerologist', 'General Practitioner\\nPreventive Medicine\\nPrimary Care', 'Holistic Medicine & Nutrition', 'General Medicine/General Practitioner', 'Hips pain', 'General Practictioner', 'Breast Cancer', 'gastroentorology', 'Nutrition Care', 'Internal Medicine- Adult Interventional Cardiology ', 'Occupational Health Physician/ General Medicine', 'Obstetrician Gynecology', 'ENT (Otorhinolaryngology) - Head and Neck surgery', 'Primary healthcare', 'Ears, Nose, Throat ENT - Head and Neck Surgery', 'Occupational Health Physician ', 'Gastroenterology, Internal Medicine', 'Multispecialty & Diagnostic Clinic', 'Hsjsks And My', 'NS', 'Skin medicine', 'General Medicine, Primary Care, ', '. ', 'Allergylogist ', 'Colorectal Surgery & Proctology | General Surgery', 'Dogs and Cats', 'Head and Neck Surgery', 'FAmily', 'Diplomate in Internal Medicine | Adult Diseases', 'allegologist', 'Orthopedic surgey', 'Thoracic, Cardiac And Vascular Surgery', 'anesthesiology', 'Information technology ', 'Pediatrics, General Medicine, Primary Care', 'General Practitioner / Certified Family Physician', 'Davao del Norte Hospital - IGACOS Zone', 'Internal Medicine - Diabetes Specialist ', 'General Surgery, General Medicine', 'Fellow, Obstetrical and Gynecological society', 'General Medicine - Pediatrics', 'Xisis', 'ENDOCRINOLOGY ', 'General and Laparoscopic Surgery ', 'General Medicine- Anesthesiologist', 'Obstetrician/Gynecologist ', 'Craniodontic TMJ, Airway and Dental Sleep Medicine', 'General Dentistry, Orthodontics, Oral Surgery, Endodontics, Pediatric Dentistry', 'Vision Therapy/ Behavioral Optometry', 'Aesthetic Physician', 'hepa', 'Otorhinolaryngology (Ear, Nose, & Throat [ENT]) - Head & Neck Surgery', 'General Dentistry,Orthodontics,Cosmetic Dentistry, Surgery, Pediatrics', 'Internal Medicine - Critical Care Medicine', 'Physical Medicine and Rehabilitation | Physiatrist', 'Cancer Surgery', 'Primary Care, Family Medicine, Occupational and Industrial Medicine', 'Allergy, Asthma, General and Reproductive Immunology', 'Otorhinolaryngology (ENT) Head & Neck Surgery', 'Allen Marquez', 'Teeth', 'Primare Care Physician', 'Pediatrics/ Occupational Health and Safety', 'ENT, Family Medicine', '131375', 'Occupational Health Physican', 'Chiro', 'Cosmetic', 'Adult And Pediatric Emergency Medicine', 'General physician/ General Surgery', 'Orthopedic & Spine Surgery ', 'Prevention', 'Azarraga', ' General Practitioner', 'Orthopedis Surgery', 'FireFighter', 'Nephrology,Internal Medicine', 'Breast CA', 'IM - Nephrology', 'Aesthetic Derma and Anti Aging Medicien', 'Rehabilitation  Medicine ', 'Pediatric Interventional Cardiology', 'Orthopedic Specialty', 'Internal Medicine - Nephrology & Hypertension', 'Internal Medicine - Adult Oncology ', 'Palliative', 'IM-Pulmonology', 'Physical Medicine and Rehabilitation and Pain Medicine', 'Gastroenterology-Hepatology', 'Orthodontics, Oral surgery', 'NERVE THERAPY', 'Felipe Tiaba', 'Gastroentris', 'nephro', 'Maxillofacial', 'OB-GYN, DPOGS', 'DIPLOMATE, PHILIPPINE BOARD OF OTORHINOLARYNGOLOGY- HEAD AND NECK SURGERY', 'Colorectal surgeon', 'Adult & Child Physician', 'Patients ', 'hkskjlk', 'Adult and Child', 'aesthetic dermatology', 'c', 'Infectious Diseases, Internal Medicine', 'Contact lens', 'Pediatrics neurolgy', 'Regina capulong', 'medcert', 'vaccination, deworming ', 'internal Doctor', 'Mental Health, General Practice with training in Psychiatry', 'Orjto', 'Mental Health and General Medicine', 'Obestetrics and Gynecology', 'obstetrics And Gynecology', 'Palliative and Hospice Medicine', 'General  Physician ', 'TMJ-Occlusion, Orthodontics, Esthetic Dentistry', 'Internal Medicine, Family Medice', 'INternal', 'Mental Health Practitioner', 'Internal Medicine-Adult Disease', 'Makati med', 'Primary Care Physician / General Medicine', 'Mr.', 'Oral Surgery, Orthodontics, Cosmetic Dentistry', 'physician surgeon', 'Interal medicine ', 'Pain Management, Anesthesiology', 'Occupation therapy', 'Occupational Medicine; General Medicine', '\\nOrthopedic Surgery', 'mr', 'Family Medicine, Surgery, Internal Medicine, ', 'ENT Head & Neck Surgery (Otorhinolaryngology) ', 'small animals', 'Pediatric pulmonologist ', 'Ears, Nose, Throat-Head and Neck Surgery', 'Internal Medicine, Endocrinology and Infertility', 'Pediatric OT', 'Rheumatology ', 'Obstetrics and Gynecology; OB Gyn Ultrasound Subspecialist', 'Anesthesiogy', 'HPN Specialist', 'Machines', 'General Dentistry, Orthodontics, Cosmetic Dentistry, Oral Surgery', 'General Medicine, Primary Care, OBGYN', 'General Ophthalmology ', 'Occupational And Industrial Medicine', 'Rheumatology - Internal Medicine ', 'Gastroenterology ', 'Mental Health;  General Practice - with Training in Psychiatry', 'Internal Medicine, Rheumatology', 'Internal Medicine -Adult Cardiology-Hypertension Specialist', 'occupational Health', 'Secretary ', 'Lupus', 'ENT - Head & Neck Surgery', 'aaa', 'General and Aesthetics', 'Dental Provider ', 'Family Medicine, Adult Medicine', 'J', 'General Practitioner-Occupational Medicine', 'Restorative Medicine', 'Pediatrics neurology', 'Family Medicine & Birthing Home', 'Interventional Cardiology / Internal Medicine', 'Internal Medicine (Adult Diseases) - Gastroenterology', 'Pediatric Optometry', 'Technical support Representative ', 'Ocular Disease', 'Veterinary Service', 'OB/Gyn', 'Fsmily Medicine', 'Obstetrics-Gynecology, Internal Medicine, General Surgery, Pediatrics', 'DENTAL', 'General Medicine | Primary Care | Pathology Resident', 'Pediatrics and Child Neurology', 'General Medicine, Family Medicine, Preventive Medicine', 'Consultancy', 'Internal medecin', 'GENERAL Pediatrics', 'Cruz', 'Family Medicine, CFP', 'Temporo-Mandibular Joint Disorder (Orofacial Pain)', 'SSurgery', 'IMMKMLKSMDLKMS', 'Ids', 'User', 'Dentistry-Orthodontics ', 'Maternal & Child', 'Aesthetic Medicine, Occupational Health and Safety Physician', 'Reproductive Endocrinology and Infertility ; Gynecologic Endoscopy', 'Internal Medicine / Kidney Diseases / Hypertension', 'Cardiothoracic and Vascular Surgery', 'Sexual Health', 'Internal Medicine -  Endocrinology, Diabetes, Thyroid, Hormone Disorders and Metabolism', 'Internal medicine,kidney stone specialist', 'INTERN', 'FAMED', 'Urogynecology, Advanced Gynecologic Laparoscopy, Obstetrics and Gynecology', 'Developmental and Behavioral Pediatrician', 'NURSING', 'General practioner', 'General Surgery / Thoracic & Vascular Surgery', 'Family Medicine/ObGyn', 'OB-gyne', 'Gen Medicine', 'FAMILY PRACTICE', 'AGREE', 'Primary Care Practitioner', 'WOMEN HEALTH', 'Wound Specialist', '12', 'Otolaryngology head and neck surgery', 'Oriental Medicine', 'Internal Medicine-Gastroenterology and Digestive Endoscopy', 'Electronic s', 'surgry', 'Psychiatric', 'School check up', 'sdf', 'Dentistry, Orthodontics', 'Internal Medicine - Diabetes, Thyroid and Endocrinology', 'Optical', 'General Physician/ Occupational Health physician', 'Radiologist', 'General Medicine | Occupational Medicine', 'pathology', 'Occupational and General Medicine', 'Genera', 'Addiction', 'psychiatrist', 'Special', 'Genera Pediatrics', 'Emergency room', 'obsetitric gynacology', 'OBGYN, OCCUPATIONAL HEALTH AND SAFETY PHYSICIAN', 'Hospital Pharmacy', 'medical secretary', 'Aesthetic and Anti-aging Medicine', 'Me', 'MEDICINA GENERAL', 'Ears, Nose, Throat Diseases-Head & Neck Surgery', 'Cardio Vascular', 'General Dentistrry', 'Chiropractor', 'Holistic', 'Med Tech', 'General Thoracic Surgery', 'Help', 'OBGYN / Obstetrics and Gynecology / Womens ultrasound', 'Medical Technology', 'Internal Meds', 'Pediatrics, Occupational Therapy, Speech Therapy, Physical Therapy, SPED', 'Thoracic and Cardiovascular Surgery, General Surgery', 'Internal medicine, Pediatrician, OB', 'MEDINICE', 'Aesthetic and Dermatology', 'P', 'G.P.', 'In-Home Senior Health', 'Rehabilitation Medicne', 'Major in Genetics', 'Acupuncturist', 'Cardiothoracic surgery', 'Dhjdu', 'Your Health Is Our Priority', 'Internal Medicine / Pulmonary & Critical Care', 'PEDIATRIC', 'Adult Infectious Disease ', 'Primary Health Care for Women and Children', 'Patient care', 'Internal Medicine - Pulmonary Medicine - Crical Care Medicine', 'Manual Therapy', 'Obstetrics And Gynecolog', 'TEACHING', 'Cardiac Rehab', 'Social Work', 'Internal Medicine/ Pulmonary', 'Functional', 'Anatomic and Clinical Pathologist', 'Speech and Language Pathology', 'Birthing Clinic', 'Physical Tharapy', 'Ob Gynaecologist', 'General and Laparoscopic Surgeon                    Occupational Medicine Specialist', 'Associate In Computer', 'Otorhinolaryngology - Head and Neck Surgery /ENT / Diseases of the Ears, Nose, Throat', 'Obstetrician- Gynecologist', 'Intern Medicine', 'Bed Making', 'legs', 'afsf', 'SCRIBE', 'General and Laparoscopic Surgery   |   Gallbladder, liver, pancreas, gastrointestinal, thyroid, breast, tumor, appendix, hernia, hemorrhoids, fistula, circumcision, chemocath insertion, ultrasound', 'General Dr', 'medcine', 'Oral Implantology & Surgery,Orthodontics,Endodontics,Prosthodontics', 'Internal Medicine- Adult Cardiology/ Vascular Specialist', 'IT SPECIALIST', 'Loves Kids', 'Internal Medicine & Cardiology', 'ob-gyne', 'Quality Services', 'Rehabilitation Therapiat', 'Hjj', 'Cardiologue', 'Kids Care', 'Iridologist', 'ONLINE KONSULTA', 'CARDIO', 'INTERNAL MEDICINE-Geriatrics ', 'IM-PULMONARY MEDICINE', 'Truma', 'Osteo', 'Ent Head And Neck Surgery', 'Omomi', 'b', 'GeneralSurgery', 'Hematology/Internal Medicine', 'General Medicine - Occupation Health', 'L', 'General Peds', 'Neurology And Psychiatry', 'RN/A', 'Familu', 'Adult and Pediatric Asthma, Allergy and Immunology Specialist', 'diabetologue', 'General Medicine Family Medicine', 'Rehabilation Medicine,', 'PGI', 'OBSTETRICIAN GYNECOLOGIST', 'gaga', 'Pediatrics-Infectious Disease', 'Natural Medicine', 'Retired', 'AAAAAAAAAAA', 'AAA', 'Thoracic Cardiovascular Surgery', 'INTERNIST-PULMONOLOGIST', 'Internal Medicine - cardiology', 'Internal Medicine-Pulmonary and Critical Care Medicine', 'Yg', 'Internal surgery', 'Internal Medicine, Family Medicine', 'Liver, kidney and pancreas transplant', 'Surgical Oncology, Breast Surgery', 'veterinary', 'General Medicine / Public Health', 'Cardiologist.', 'ADDICTION MEDICINE', 'Anesthesiologu', 'Internal Surgery', 'Sugeon', 'dental medicine', 'ortho', 'E-Med, Nephrology', 'Rheumatology and Autoimmune Diseases', 'Me :)', 'Breeding Uroplatus', 'Absenos', 'zzz', 'nnnnnn', 'cfvhgbjnk', 'Asistant', 'Cardiology / Internal Medicine', 'Internal Medicine-', 'Com', 'Emergency Medicine, Pediatrics', 'Interventional cardiologist', 'AS', 'nope', 'DVM', 'Minimally Invasive and Laparoscopic Surgery', 'Internal Medicine/pulmonary', 'Inetrnal medicine', 'adasd', 'Sports', 'Swine Medicine', 'degree', 'Aaa', 'Yy', 'Family Dentist', 'Physiatry', 'Internal Medicine, Diabetes, Thyroid, Hormone Disorders', 'oral', 'lkjsadlfkj', 'kdsjflkfdsjg', 'veterinary medicine', 'Venereologist', 'Renal', 'acctg', 'IM Nephrology', 'General Surgery, Adavanced Laparoscopic Surgery', 'Internal Medicine - Adult and Interventional Cardiology, Adult Critical Care Medicine', 'Child Health', 'Hypatobillary', 'General Surgery, Thoracic Surgery', 'Hepatobiliary Surgery', 'General Medicine - Occupational Medicine', 'Dermatology - Diseases of the Skin, Hair, and Nails', 'Ear, Nose, Throat & Head And Neck Surgery', 'mental health', 'Internal medicine-Cardiology', 'Obstetrics- Gynecology', 'EARS, NOSE THROAT, HEAD AND NECK SURGERY', 'Asthma & Allergy', 'OB-GYNECOLOGY & UROGYNECOLOGY', 'Family Medicine- Resident Physician', 'Internal \\x96 Pulmonary Medicine', 'IM-Nephrologist', 'Lifestyle Medicine Specialist', 'Orthopedic Surgery/ Trauma Surgery/ Spine Surgery', 'Orthopedic & Spine Surgery', 'Pulmonary Medicine, Internal Medicine', 'PEDIATRIC NEUROLOGY', 'Internal Medicine/Adult Pulmonary Specialist', 'Ophthalmology-Otolaryngology', 'Obstetrics -Gynecology', 'Child Neurology and Neurodevelopment', 'Otorhinolaryngology - Head And Neck Surgery', 'Internal Medicine / Gastroenterology', 'OBG', 'Orthopedic  Surgery', 'Healthcare', 'General & Special Needs Dentistry', 'opthalmology', 'Pediatrics Cardiology', 'BDS, FICCDR', 'Ophthalmology - Orbit & Oculoplastic Surgery', 'Pediatricsweh', 'Neurology- Psychiatry', 'Urologic Surgery and Kidney Transplantation', 'Hearing, balance, ears', 'Lifestyle Medicine, Primary Care', 'Specialist Physiotherapist', 'Ship handling', 'Ophthalmology - Cataract, Laser & Microsurgery of the Eye', 'Sleep Specialist', 'Anethesiology', 'Gh', 'Anesthesia, General Practitioner', 'Periodontology', 'OBGyn', 'Occupational Health; Family Medicine', 'Otorhinolaryngology-Head and Neck Surgery (or ENT-HNS)', 'Ear Nose Throat Head & Neck Surgery', '(ENT-HNS) Ear Nose Throat, Head and Neck Surgery', 'ENT-HEAD AND NECK SURGERY', 'TMJ Dentist', 'ENT-Head and Neck Surgery/ Sleep Medicine', 'ENT (Ears, Nose and Throat)', 'internal medicine, diabetes', 'Ear,Nose and Throat - Head and Neck Surgery', 'Internal Medicine - Neurology ', 'INTERNAL MEDICINE-CARDIOLOGY', 'Anti-Aging and Regenerative Medicine', 'Ear, Nose. Throat- Head and Neck Surgery', 'Specialty 1', 'General and laparoscopy Surgery', 'Cardiology - Internal Medicine', 'Adult Medical Specialist', 'cosmetics', 'Emergency Medicine, General Medicine and Surgery', 'General Medicine & Skin Diseases', 'Comprehensive Sex Education / Wellness Specialist', 'Urology and Transplantation', 'Endocrinology and Metabolism', 'Internal Medicine-Diabetes', 'General,  Cancer and Laparoscopic Surgery', 'Otorhinolaryngology (Ear, Nose, Throat)- Head and Neck Surgery', 'nuero', 'neurosurgery', 'Family Medicin', 'Adult Cardiology and Internal Medicine', 'EAR, NOSE, THROAT, HEAD and NECK SURGERY (ENT-HNS)', 'PSYCHOTHERAPY', 'Sleep Medicine/Sleep Studies (Polysomnographer)', 'Obstetrician -Gynecologist', 'I.T', 'General and Cancer Surgery | Laparoscopic Surgery', 'PHYSICAL MEDICINE AND REHABILITATION', 'Aesthetic Dentistry', 'Internal Medicine / Diabetology / Goiter / Endocrinology', 'Internal Medicine, Infectious Diseases', 'Internal medicine, family medicine', 'Adult Cardiologist', 'Pain Medicine ', 'Radiation Oncology/ Oncology', 'Medical oncologist', 'Otorhinolaryngology - head and neck surgery', 'Veterenary Medicine', 'Internal Medicine/Endocrinology', 'Internal Medicine - Nephrology (Kidney Specialist)', 'Obstetric', 'Advanced Minimally Invasive and General Surgery', 'mental illness', 'Narcology', 'Hepatobiliary and Pancreas Surgery, Advanced Cancer Surgery, Laparoscopic and Robotic Surgery', 'Intensive Care', 'Interventional Radiology / Interventional Neuroradiology ', 'Cosmetic , Implants', 'Geriatric Nursing', 'Est qui minim et au', 'Family and Palliative Medicine', 'Pediatric Dermatology', 'Cosmetic Dentistry And TmjA Disorder', 'Hull Engineering', 'General Surgey', 'Medical Surgical', 'Family Medicine / Neurotoxicology', 'Theraphy', 'OB-GYN/ Integrative Medicine', 'Health And Beauty', 'General Dentistry, Aesthetic Dentistry', 'Chiropracter', 'Ears Nose Throat  -  Head & Neck Surgery', 'Multi Specialty', 'Pediatrics - Hematology & Oncology', 'oral Surgery', 'Internap Medicine', '43', 'Peadiatric', 'INTERNAL MEDICINE - ADULT INVASIVE CARDIOLOGY - PERIPHERAL VASCULAR INTERVENTION', 'Venipuncture', 'Internal Medicine - Diabetology', 'fdgf', 'ertryty', 'Medical', 'Comprehensive Ophthalmology ', 'Internal MEDICINE', 'Internal Medicine & Diabetology', 'Aesthetic, Dermatology', 'Spine Surgeon', 'BDS', 'sdaf', 'sdfsda', 'Infectious Disease and Tropical Medicine', 'Orthoodntics', 'Otolaryngology (ENT)', 'Internal medicine,', 'Hospital Management', 'Pulmonary & Physical Medicine', 'Internal Medicine & Adult Diseases', 'DNA', 'Canine and Feline Internal Medicine and Surgery', 'Ophthalmology/Optometrist', 'IM - Pulmonary and Sleep Medicine', 'Medicine and Surgery', 'gastrology', 'Ttt', 'Adutl Infectious Diseases', 'Diagnostic Laboratory', 'Ob Gune', 'Obstetricsgynecology', 'General Psychiatry ', 'Oral Surgery&Implantology, Craniodontics TMJ-Airway, Periodontics', 'INTERNAL', 'Pediatrics and Lactation', 'COVID', 'INERNAL MED', 'Tropical Medicine And Infectious Diseases', 'Internal Medicine-Endocrinology, Diabetes and Metabolism', 'Surgery - general, laparoscopic and cancer surgery', 'Internal Medicine - Medical\\nOncology ', 'Orthopedic Surgery :', 'Emotional', 'Psychiatry and Behavioral Medicine', 'Aesthetic and Anti aging', 'Information System', 'CONSULTANT GENERAL SURGEON', 'Psychistry', 'Allergy, Asthma, General & Reproductive Immunology', 'Ghhhhj', 'Internal Medicine, Surgery,family Medicine', 'OCULAR HEALTH', 'Adult Neurologist, Neurocritical Care and Trauma Specialist', 'GenDentistry', 'Internal Medicine & Nephrology', 'Adult Interventional Cardiology', 'Mustache removal', 'MD, MPH', 'Medical and Aesthetic Dermatology', 'Computer Science And Technology', 'Vascular surgery', 'Osteopathy', 'Derma Clinic', 'Gsu', 'Aesthetic and Anti-aging specialist', 'fhhhf', \"'><img src=x onerror=prompt(1)>\", 'Fellow - Philippine Dermatological Society', 'Internist and Endocrinologist', 'Ophthalmologists', 'Orthodontics and implant dentistry', 'Obstetrics/Gynecology', 'Pediatric Cardiology/Pediatrics', 'Programmer', 'Pediatrics | Primary Care', 'man', 'Things', 'Internal Medicine- Endocrinology, Diabetes and Metabolism', 'Sports Rehab', 'ENT - HNS', 'PEDIATRICS / ANTI AGING', 'ophthalmology/ otorhinolaryngology', 'REHABILITATION MEDICINE', 'Urology, General Surgery', 'Spine & Orthopaedic Surgery', 'IM-Gastroenterolgy', 'Ophthalmology - Eye Doctor', 'Chinese Medicine', 'Otorhinolaryngology- Head & Neck Surgery', 'Internal Medicine, Pulmonology', 'Child and Adult medical consults', 'bbbb', 'CLINICAL CARDIAC ELECTROPHYSIOLOGY', 'Orthopaedic Spine Surgery ', 'GENERAL  SURGERY', 'Ophthalmology, Facial Cosmetic Surgeon', 'Family Medcine', 'General Laparoscopic & Cancer Surgery', 'Adult Rheumatology', \"Adult and Children's Diseases/Functional/Integrative/Complementary Medicine\", 'Physical Therapy | Strength and Conditioning', 'Surgery,Family Medicine', 'Ear, Nose & Throat - Head and Neck Surgery', 'occupational medicine', 'Cardiac surgery', 'Adult Neurology and Psychiatry', 'General practitione', 'Legal Medicine And Forensic Medicine', 'Otorhinolaryngology - Head and Neck Surgery ', 'Otolaryngolgy', 'Legal Medicine', 'OB-GYN, Family Medicine, Integrative Medicine', 'Surgical Oncology, General Surgery', 'Refraction ', 'General dentistry & Orthodontics', 'Internal Medicine  ', 'Genrela Dentistry Practicing Orthodontics And Esthetic Dentistry', 'Obstetrician/ gynecologist', 'abbb', 'Pulmonology ', 'hospital management', 'aesthetic medicine', 'Internal - Pulmonary Medicine', 'Diplomate and Fellow in Internal Medicine - Certified Hypertension Specialist / Diplomate and Fellow in Family Medicine - Palliative Care Specialist', 'Obstertric & Gynecology', 'Orthodontics, Cosmetic Dentistry', 'Leading You To True Health', 'ENT-Head and Neck Surgeon/ Rhinoplasty Surgeon', 'Obstetrics&Gynecology', 'Peidatrics', 'immunity', 'aaaaaaaaaaa', 'Internal Medicine-Endcorinology', 'Fellow, Philippine Obstetrical & Gynecological Society', 'SURGUYYY', 'Department of Internal Medicine', 'General dentistry, Orthodontics', 'Urologic Surgeon', 'Neonatalogist', 'Ear, Nose, Throat, Head, Neck Surgery', 'Lactation Support', 'cardiac', 'SolSee', 'ggg', 'Urologic surgeon', 'VA', 'Integrative Medicine and Lifestyle Medicine', 'Family and community medicine', 'super saiyan', 'isiwiwiw', 'extraction', 'INTEGRATIVE MEDICINE', 'dermetologist', 'Db', 'Family  medicine', 'General practicioner', 'Ll', 'Astronomer', 'Paladin', 'Aesthetic and Integrative Functional Medicine', 'Family Medicine - Diabetology', 'Cosmetic and Implant Dentistry', 'Family Madicine', 'ENT (Otolaryngology)  - Head & Neck Surgery', 'Otorhinolaryngologist Head and Neck Surgeon', 'as', 'TMJ - Ortho', 'Geral', 'Genitourinary and Reproductive Medicine', 'Internal Medicine - Lung Disease Specialist', 'Orthodontics,Endodontics', 'General and Cancer Surgeon', 'Child and Adult Psychiatry', 'Alternative and Integrative Medicine', 'General and Basic Laparoscopic Surgery', 'Oral & Maxillofacial Surgery', 'Cardiac Surgery', 'internal Medicine, General Oncology', 'PATHOLOGIST', 'psychiatric', 'Plastic Surgery, Reconstructive and Aesthetic Surgery, Burns Surgery', 'Occupational Medicine / General Practice', 'Pain and Anesthesia', 'Primary skin-health care', 'Ophthalmology - Diseases and Surgery of the Eye', 'Family medicines', 'General, Cancer & Laparoscopic-Robotic Surgery', 'Primary  Care', 'OB-GyN', 'therapy', 'internal blah', 'Cellular Nutrition', 'Family Medicine, Health Science', 'Orthodontist and  Oral Surgeon', 'General Surgery and Cancer Surgery/Breast Cancer Surgery, Laparoscopic Cholecystectomy, Thyroid Surgery', 'Otorhinolaryngologist-Head & Neck Surgery/ENT', 'General Surgery, Neurosurgery', 'Vascular Medicine', 'Otolaryngologists', 'Acupunturist1', 'Orthopaedic Sports Medicine', 'Masters of Science in Preventive & Regenerative Medicine', 'Anti Aging and Regenerative Medicine', 'Obstetrics &Gynecology', 'HPB Surgery', 'docmark_coli@yahoo.com', 'Software Developer', 'Family and general dentistry', 'Family dentistry', 'Urology, Endoscopic Urology, Laparoscopic and Minimally Invasive Urology', 'orthodontist ', 'Entrepreneurship', 'Pediatrics0112344', 'Traditional Chinese Medicine Acupuncture', 'Ear Nose Throat - Head & Neck Surgery (ENT-HNS)  Rhinoplasty and Facial Plastic Surgery', 'general dentistry,orthodontics ', 'Obstetrician/Gynecologist', 'Aesthetic Dermatologist and Cosmetic Surgery', 'General Dentistry/Orthodontics', 'Clinician', 'jj', 'Aesthetic, Occupational Medicine', 'Hematology - Internal Medicine', 'esthetic ', 'General Pediatrics and Adolescent Medicine', 'Oftalmo', 'Medical Informatics', 'ob-Gyne', 'obstetrics gynecology', 'Fellow Philippine Academy of Family Physician', 'Critical Care', 'Orthopaedic surgeon', 'Internal Medicine of Pokemons', 'Exterior Medicine', 'Child Neurology and Epilepsy Specialist', 'Ophthalmologist with Otorynlogist', 'General Surgery and Surgical Oncology', 'Internal Medicine-Adult Cardiology- Heart Failure', 'Medical acupuncture', 'General Orthopedids', 'Internal Medicine- Hematology', 'Obsteitrics and Gynecology', 'Internal Medicine, Nephrology, Kidney Diseases, Dialysis, And Transplantation', 'wqeqwe', 'DMD ', 'Cosmetic surgery', 'Dermatologist | Dermatology | Adult & Pediatric Conditions of the Skin', 'pediatrics. family medicine', 'Child and Adult Diseases', 'Orthopedic Surgery + Traumatology', 'General Opthalmology', 'Family Medicine and School Health', 'General Cancer and Laparoscopic Surgery', 'Family Medicine/ Ambulatory Diabetes Care', 'TMJ Specialist , Orthodontist', 'Othodontics', 'General Dentistry, Orthodontics, Implants', 'Internal Medicine, Concierge Medicine', 'General and Cancer Sirgery', 'orthopaedic surgery', 'OB-GYNE, publoic Health', 'General Medicine-EMS', 'General Orthopaedics and Trauma Surgery, Arthroscopic Shoulder Surgery and Arthroplasty', 'Inte', 'Obstetrician gynecology', 'Interventional radiology', 'Radiation Oncologist', 'Child and Adult Medicine', 'ef', 'Electronic', 'General Practian', 'Internal Medicine- Rheumatology', 'MainSpecialty', 'Laparoscopic Surgery', 'Internam Medicine', 'IMTERNAL MEDICINE', 'general desntistry', 'Adult Cardiology - Interventional Cardiology', 'Skin Health Specialist', 'Primary health Care', 'PHY', 'IM - Rheumatology', 'kirurgji', 'In', 'Adult Cardiology, Electrophysiology and Pacing', 'zxczcxcxzcxz', 'Internal Medicine Adult Cardiology', 'Facial', 'Diagnostic', 'ABCD', 'ET&T', 'Orthopeadics', 'Obstetrics and Gynecogy', 'Rrr', 'event coordinator', 'Anesthesiology and Family Medicine Resident', 'Periodontics and Implant dentistry', 'General medichine', 'Chriopractic', 'General Surgery; Urology', 'Obstetrics and gynaecology', 'Occupation Medicine', 'Family Medicine, Palliatve Medicine', 'primary care', 'Medico-Legal Practice', 'Cardiologist and Consulting Physician', 'Optah', 'ENT HEAD AND NECK SURGERY, Voice Surgery', 'OPTH', 'main', 'Pre Hospital Care', 'F?s????e?ape?t??', '3D', 'School Nurse', 'Internal Medicine - Adult Cardiology - Echocardiography', 'urolo', 'AESTHETIC MEDICINES AND SEXUAL PROBLEMS', 'Orthopaedic Surgery and Trauma, Hip And Knee Surgery', 'General and Cancer Surgery (Thyroid, Breast, Gallbladder, Hernia, Appendix, Colon, Hemorrhoids)', 'Neurology Psychiatry', 'geberal , Orhtho, Implant', 'Gynea', 'PLASTIC SURGERY', 'Diabetes - Internal Medicine', 'Community Health Nursing', 'Psyciatry', 'Orthopedic Spine and Scoliosis Surgery', 'Internal Medicine/ Diabetes/ Thyroid/ Metabolism/ Endocrine Diseases', 'INTERNAL MEDICINE/PULMONOLOGY', 'Ear, Nose, Throat Head & Neck Surgery', 'PMR', 'Spine Diseases and Surgery', 'cabs', 'SPECIALTY', 'International Medicine', 'MHA', 'aoeu', 'Mycological', 'Internal Medicine Gastroenterology  and Nutritional Diseases', 'ooooo', 'Internal Medicine-Diabetology', 'General practitioners', 'Medicine General', 'InstaSmile Dental Clinic', 'MIS, General and Cancer Surgery', 'Orthopaedics Surgery and Traumatology', 'IDK', 'Ear Nose And Throat-Head And Neck Surgery', 'Aesthetic medicine', 'physical medicine and rehabilitation', 'Bio-energetic Screening', 'Developmental-Behavior Pediatrics', 'CARDIOTHORACIC SURGERY', 'Optometrist, Contologist', 'a/a', 'General Family Clinic', 'clinical psychologist', 'Internal Medicine - Gastroenterology - Obesity Medicine', 'Pharmaceutical', 'Colorectal', 'Orthodontics, Pediatric Dentistry', 'Conference', 'Internal Medicine, Medical Oncology', 'Muscular Hypertropgy and Conditioning', 'occupational medicne', 'Surgical', 'Pediatrics, Medicolegal', 'Orthopaedics & Traumatology', 'sugery', 'Addicion Medicine', 'Ayurveda Paediatrician', 'genral dentistry', 'Dental Implantologist', 'Microblading', 'Fellow, Philippine College of Surgeons, Inc', 'Commercial', 'Sport Med', 'OB-GYn', 'Aesthetics And Dermatology', 'Pediatric Nephrology', 'Orthopedics & Sports', 'Doctor Of Chiropractic', 'Occupational Safety And Health Physician', 'Med Student', 'OBSTETRICIAN-GYNECOLOGISTS', 'Urology test', 'INTERNAL MEDICINE PULMONOLOGY', 'General Medicine for Adults \\x97 Thyroid Diseases', 'IT for Doctors', 'Pediatrics Neonatology', 'General & Endocrine Surgery', 'Thoracic And Cardiovascular Surgery', 'Neurology-Psychiatry', 'NerveTherapy', 'Otolaryngologist', 'pulmonary medicine', 'Internal Medicine; Lifestyle Medicine', 'Human Resource Management', 'ophtha', 'Surgery (& More)', 'Internal Medicine (IM/ Adult Medical Specialist)', 'ya', 'Esthetic/Cosmetic Dentistry, Implants & Orthodontics', '1', 'MainS', '1231', 'Physical Rehabilitation & Medicine', 'physical rehabilitation', 'Physical medicine and rehabilitation', 'Internal Medicine/ Cardiology', 'General Surgery And Diving Medicine', 'Doctor', 'Hospice and Palliative Medicine ', 'Orthodontics, Implant Theraphy', 'Diplomate Philippine Pediatric Society', 'Urology, Kidney Stones, Urologic Cancers and Prostate Specialist, Endourology and Laparoscopic Urology', 'Endocrinology (test)', 'Otolaryngology- Head And Neck Surgery', 'Gyenacology', 'Neurology -Vascular(Stroke)', 'Medical Officer', 'Orofacial pain and TMD', 'Oto Rhino', 'RADIOLOGY AND IMAGING', 'Cataract & Refractive Surgery', 'Nutrition & Fitness', 'chiro', 'SPORTS INJURY', 'Physics', 'Oral And Maxillofacial Surgery', 'Orthopedics - Oncology & Spine Surgery', 'Vision Problem', 'Pediatrics - Pulmonology ', 'MEDICINE', 'specializzando in igiene e medicina preventiva', 'Post grad intern', 'Internal Medicine - Endocrinology, Diabetes And Metabolism', 'Cosmetic Dermatologist', 'OBGYN - Infectious Diseases', 'Applied Behavior Analysis', 'General Dentistry, Orthodontics, Surgery', 'Internal Medicine - ENDOCRINOLOGY, Diabetes, Metabolism, Osteoporosis, Thyroid, Pituitary, Adrenal & Other Hormonal Disorders', 'General Surgery, Laparoscopic Surgery', 'General optometry', 'Neurology | Internal Medicine', 'General Surgery and Cancer Surgery ', 'Diagnostic & Therapeutic Nuclear Medicine', 'Rehabilitation Sciences', 'PT', 'Neurology - Pain Management', 'system analysis', 'Muscluloskeletal Rehab', 'INTEGRATIVE MEDICINE & NATUROPATHY / FAMILY MEDICINE', 'pediatric, er nurse, woundcare nurse', 'OB-GYN/ General Practice in Female Reproductive Health', 'Surgery: General Surgery', 'Dental Implant,Oral Maxillofacial Surgery, Orthodontics and TMJD', 'Rural Health Physician', 'Obstetrics and Gynecology - Reproductive Medicine and Surgery', 'family medicene', 'NORMAL DELIVERY and WELL BABY', 'Pediatrics and Clinical Genetics', 'HIV Counseling and Care', 'DIABETES EDUCATION', 'Internal Mediciine', 'Interventional Cardiology/ Adult Cardiology/ Internal Medicine ', 'MCH', 'MDS', 'Internal Medicine \\x97 Emergency Medicine', 'Kidney Transplant and Vascular Surgery', 'Adult & Pediatric Allergy, Asthma, and Immunology', 'Skin Health and Aesthetic Dermatology', 'Dental & Dermatology\\t', 'Facial Plastic Surgery', 'HACKING', 'Integrative Medicine, Functional Medicine', 'internal Medicine- Endocrinology', 'gy', 'Worker', 'Comprehensive Ophthalmology, Laser and Cataract Surgery', 'Radiology; Lifestyle Medicine', 'internal Medicine, Family Medicine', 'Internal Medicine - Oncology', 'Large Animal', 'Diplomate in Anesthesiology', 'MBA', 'Ophthalmologist - Retina Specialist', 'obstetrics & gynecology', 'Internal Medicine-Interventional Cardiology', 'oncology', 'Interventional Radiologist', 'Implant', 'Her', 'Family Medicine, Occupational Medicine, Lifestyle Medicine', 'oncologist', 'ENT- Otorhinolaryngology, Head and Neck Surgery', 'Internet', 'ENT- Otolayngology', 'Family doctor', 'Addiction Psychiatry, Psychotherapy, Lifestyle Medicine', 'awf', 'asdf', 'Shejsjj', 'Early Childhood Development | Primary Care', 'Elecrical', 'Neuro oncology', 'Respiratory', 'General Surgery, Cancer and Laparoscopic Surgery', 'Internal Medicine Specialist', 'pediatic', 'gyno', 'RPh', 'dd', 'bba', 'x', 'Ob-Gy', 'Occupational Medicine and Dermatology', 'Agnes Atas', 'CARDIOLOGY AND VASCULAR MEDICINE', 'general Physician', 'Ob-Gyne / Reproductive Medicine', 'e. g', 'All Around', 'INFECTIOUS DISEASES', 'Internal Medicine-Adult Kidney Disease Specialist', 'Sto.Nino Hospital', 'Technical', 'endocrinologist', 'Sociology', 'core', 'TMJ non-functional and orthodontics', 'TMJ non-functional orthodontist and prosthodontics laboratory', 'General Pediatrics- Pediatric Critical Care Medicine', 'Liver Specialist', 'PRIMARY CARE AND GENERAL MEDICINE', 'Fpsedm', 'CCMF (MU)', 'Pediatric Infectious Diseases ', 'Obstetrics And Gynecological Diseases', 'Genera Dentistry', 'General Medicine, Internal Medicine, Family Medicine', 'inpectious deseases', 'Pediatric Ophthalmology and Adult Strabismus', 'General Orthopedics and Traumatology', 'Physical Rehabilitation and Medicine', 'Physical Medicine Rehabilitation', 'OBSTETRICIAN- GYNECOLOGIST', 'Lalala', 'Pediatrics, Child and Adult Allergy, Asthma, and Immunology', 'INTEGRATIVE  MEDICINE', 'General Dentistry, Esthetic Dentistry, Orthodontics', 'Internal Medince', 'Internal, Family Medicine', ' General Surgery ', 'Cancer and General Surgery', 'ENT/ Otorhinolaryngology - Head & Neck Surgery', 'Heavy Duty Electronic Technician', 'Health Records', 'Orthodontics-TMJ', 'Urology - Diseases of the Genitourinary Tract', 'Ped', 'OB/GYNE', 'Depression, Anxiety, Trauma', 'Dermatology and Advanced Wound Care', 'Inter', 'Pals', 'General Medicine, Internal Medicine', 'ENT-Head and Neck surgery', 'f', 'LM', 'Internal Medicine- Adult Nephrology and Hypertension', 'asfasfsaf', 'infectiology', 'Sports medicine', 'Valerie Ann  Valdez', 'Xray', 'PEDIATRICS - ALLERGOLOGY AND IMMUNOLOGY', 'Bshshshs', 'PreHospital', 'INTERNAL MEDICINE- INFECTIOUS DISEASES', 'Internal Medicinw', 'Primary Care Physician/ General Medicine', 'General Dentistry, Orthodontics, & Implants', 'Otorhinolaryngology- Head And Neck', 'Nephrology (Kidney Disease) and Internal Medicine', 'Adult Infectious Diseases', 'Biomimetic Restorative Dentistry', 'Ear Nose Throat, Head and Neck Surgery ', 'Medical Oncologist', 'Medicie', 'Rheumatoid', 'NEPHROLOGY ( Kidney Diseases and Dialysis) ', 'rehab', 'Pathologic and Aesthetic Dermatology with Venereology', 'ORTHO', 'Pscyhology', 'Pedia, Family Medicine', 'CS', 'Ob/Gyn', 'Otorhinolarygology - Head & Neck Surgery', 'Infectious Disease Doctor', 'Infectious desease doctor', 'Intenal Medicine', 'Vnc', 'Inoflox', 'Insect Borne Diseases', 'Urologist - Urology and Laser Surgery', 'Allergy and Clinical Immunology', 'any', 'internal medecine', 'Endoc', 'IM-Infectious Diseases', 'Plastic,Aesthetic, Reconstructive & Burns', 'Internal Medicine -Adult Disease Specialist', 'OB - Gyn', 'RURAL HEALTH PHYSICIAN', 'PULMONARY', 'Occupational Medicine, Aesthetic Medicine', 'engineering', 'Pyschiatry', 'Gastrointorology', 'Pediatric -Adolescent Medicine', 'Geriatric Medicine-Diabetology', 'Pediatrics-Neonatology', 'Endocronology', 'Hemothologist', 'Internal medicine Cardiology', 'diabetologist', 'Ginecologa Obstetra', 'Ginecóloga Obstetra', 'Ob gyn ultrasound', 'Obstertics and Gynecology', 'Cancer Treatment', 'medical', 'Cosmetic Surgeon', 'Health Communication', 'Ortho spine', 'General Practitioner/ Military Doctor', 'ms.colen laureano', 'OB gynie', 'Ears Nose Throat-Head and Neck Surgery', 'Lifestyle Medicine & Plant-Based Chef', 'Pedriatrics', 'Wala', 'Clinical Nutrition/Nutrition Support', 'Nuclear Medicine and Theranostics / PET-CT', 'OB-Gyn-', 'General Surgery/ Occupatonal Medicine', 'INTERNAL MEDICINE Resident', 'Telepsychology', 'inter medicone', 'Clinical and Anatomic Pathology', 'Internal Medicine and Primary Care', 'Med-student', 'Gonzalez', 'FN', 'Clinical Tropical Medicine', 'sccs', 'Pediatrics, Toxicology', 'Infectious desease', 'Otorhinolaryngology Head & Neck Surgery', 'General Practitioner / Occupational Health Physician ', 'Need new prescription', 'Cardio Vascular & Thoracic Surgery', 'Aesthetic Medicine & Cosmetic Surgery', 'Orrhopedic trauma', 'Endi', 'Family Medicine , Primary Care', 'moon light', 'Healthcare Provider', 'nursing services', 'Main Specialty', 'General Dentistry, Orthodontics, Cosmetic dentistry', 'General Pediatrics and Pediatric Hematology', 'General Pediatric', 'Endrocrinology', 'Internal Medicine/Adult Disease', 'Pediatric Infectious Diseases', 'Telecommunication', 'Internal Medicine, Pulmonary and Sleep Medicine', 'Internal Medicine - Adult Invasive Cardiology', 'Adult Medicine - Internal Medicine', 'Emergency Medicine, General Medicine', 'Iinternal Medicine', 'ENT - HEAD AND NECK SURGERY', 'General Practicioner/MD', 'Colon', 'General Practice & Medical Aesthetics', 'Thoracic, Cardiac, and Vascular Surgery', 'Pulmunology', 'pediatric ', 'Diplomate of Internal Medicine', 'Adult Critical Care', 'Family Medicine in Training', 'Traditional Chinese Medicine', 'General Medicine and Ambulatory Care', 'Eye prbkem', 'General Dentistry, Orthodontics and Esthetic Dentistry', 'ENT, Otorhinolaryngology, Head & Neck Surgery', 'General Medicine - ADULT AND CHILD DISEASES', 'Internal Medicine- Pulmonary Medicine', 'Retiree', 'Pediatric Orthopedics', 'For breast', 'Neurology (www.brainmindclinicph.com)', 'ent doctor', 'General Medicine & Surgery', 'ADULT INTERVENTIONAL CARDIOLOGIST', 'General Practice (Primary Care Physician)', 'Addiction Medicine, General Pediatrics, General Medicine', 'nephrologist', 'ENT Otorhinolaryngology Head & Neck, Maxillofacial Surgery', 'General Surgery/Breast Surgery', 'internal Medicine, Pulmonology', 'Internal Medicine, Cardiologist', 'Digestive Surgery; General and Cancer Surgery; Advanced Laparoscopy and Robotics ', ' Adult Gastroenterology ', 'IM-Endocrinology', 'INTERNAL MEDICAINE', 'ID', 'Bvv', 'Behavior Developmental', 'Primary Eyecare', 'General Adult Psychiatry ', 'Assistant doctor', 'Internal Medicine- Adult Disease Specialist', 'Covid relayed', 'Dermatology (PDS)-Pathologic and Cosmetic Hair, Skin and Nail Specialist', 'gastroenterology/h hepatology', 'General Medicine, Occupational and Industrial Medicine', 'Family Medicine under training', 'Allergy and Reproductive Immunology', 'Kakakak', 'Driver', 'OBGY', 'Internal Medicine/Adult Medicine', 'Occupational and Industrial Health Medicine', ' General Pediatric ', 'English', 'Orthodontic', 'Primary Skin Health Physician', 'Primary Health Care / Occupational Health Physician', 'Adult and General Psychiatry & Behavioral Medicine', 'Nurse ', 'Dermatology/ Pediatrics', 'Ddsdaa', 'Otolaryngology Head and Neck Surgery (ENT)', 'Internal Medicine - Adult Cardiology ', 'General Practitioner, Occupational Medicine', 'Internal Medicine - Adult Interventional and Critical Care Cardiology', 'Too many to mention', 'Pediatrics and Family Medicine', 'Marine', 'Hospital Dentistry ', 'pulmonologist ', 'General Medcine-Occupation Health', 'reumatology', 'IM-Pulmonary Critical care', 'General Pediatric Resident', ' Urology', 'Mechanical', 'Internal Medicine | Cardiology', 'Pediatric Pulmonology and Critical Care', 'physical medicine', 'Maritime Health', 'Internal Medicine & Infectious Diseases', 'Dental & Dermatology', 'Family Medicine - Infectious Disease And Tropical Medicine (FM-IDTM)', 'Gen Medecine ', '000', 'General Medicine / Nutrition', 'Rheumatologist ', 'None ', 'DR.RUSSEL VILLANUEVA', 'Restaurants', 'Sen', 'Internal Medicine, Pediatrics', 'Occupational and Preventive Medicine', 'General Adult & Pediatric Medicine', 'maka', 'Sick', 'Qui culpa in quo ea', 'Rheumatology/Internal Medicine', 'General Practitioner, General Medicine, Primary Care', 'GENERAL PEDIATRICS AND ADULT MEDICINE', 'bussiness', 'Bab', 'Breast Surgery/General and Cancer Surgery', 'EeNt', \"Family Medicine-Adult and Children's Diseases\", 'Tuberculosis, Pneumonia', 'sasa', 'orthopeadic texhnician', 'Ear, Nose, Throat, Head and Neck Surgery (ENT-HNS)', 'mbbs', 'Pulmologist', 'ENT/ ORL ; rehab; ortho ; Neuro;', 'Stainles', 'Orthopedic secretary', 'RADIOLOGY', 'General Medicine/ Public Health', 'Gastroentetology and Hepatology', 'gastroenthritis', 'General Medicine / Primary Care / Occupational Health / Travel Health', 'General Physician / Occupational Health Medicine', 'General Medicine  |  Primary Care', 'Pulmonology Pediatrics', 'ORHODONTICS', 'Internal Medicine, Gastroenterology and General Hepatology,  Interventional Endoscopy (ERCP & EUS)', 'FAMILY AND COMMUNITY MEDICINE (Specialist for children, adults, and elderly)', 'Level 1 Hospital', 'GENARAL PRACTITIONER', 'Pedriatics', 'diabetes', 'Marketing/Advertising', 'Gen dentistry', 'medical oncology', 'Mr', 'Gonstead Chiropractic', 'diabetic', 'dsa', 'Adult Neurology, Epileptologist', 'Ghetto', 'Resident', 'Pediatric Ent', 'Internal Medicine, General medicine', 'home', 'prenatal care', 'Pneumonia ', 'Hepato', 'Mbbs', 'Security ', 'Neurology, Psychiatry and Sleep Medicine', 'neuroscience', 'Psychology assessment', 'OB/Gyne', 'Obstetric ', 'School Nursing ', 'General Dentistryr', 'Doctor of Chiropractic', 'Genral Physician', 'E-commerce Prog/Dental Assistant', 'Public Health, Occupational Health and Safety', 'Internal Medicine, Lifestyle Medicine', 'General Medicine/ Obstetrics &Gynecology', 'Assist Patient', 'obigyne', 'Education ', 'OB -GYN', 'Bsb', 'Statistics', 'Companion Animal', 'General practitioner/Physician', 'yes', 'Internal medicine , Opthamology , endocrinology', 'GASTROENTEROLGY', 'Plastic Reconstructive and Aesthetic Surgeon', 'BEEd', 'Addictions', 'Companion Animal Practice & Exotics', 'OPHTHALMOLOGY ', 'government service', 'Developmental', 'Gastroenteritis ', 'Ear, Nose, Throat Specialist - Head and Neck Surgery ', 'General Surgery, Family Medicine', 'physician', 'OBGYP', 'Rehabilitation and Sports Medicine', 'Internal Medicine-Adult and Interventional Cardiology', 'internal Medicine - Adult Cardiology ', 'Pediatric Occupational Therapist', 'Breast -General Surgery', 'Hmo', 'Contact Lens, Refraction', 'Adult and Occupational Medicine', 'Otorhinolaryngology - Head and Neck Surgeon', 'SPINE / ORTHOPEDICS TRAUMA', 'Neurological Surgery', 'Nevrology', 'Pediatrics Nephrology', 'General Pediatrics / Pediatric Pulmonology', 'Surgery, Urology', 'Otorhinolaryngology (ENT-HNS)', 'General and Minimally Invasive Surgery', 'Ear Nose Throat Head and Neck surgeon (ENT-HNS )', 'Physician Surgeon,Cosmetic Dermatology ', 'Municipal Health Officer - Bagac Bataan', 'UROLOGY, ADULT AND PEDIATRICS', 'Internal Medicine / Primary Care', 'Otorhinolaryngology (ENT) - Head and Neck Surgery', 'Dermatology ( Medical)', 'Ear Nose Throat Head And Neck Surgery', 'General, HPB, Laparoscopic Surgery', 'So', 'Ear nose throat-head and neck surgery', 'EAR, NOSE, THROAT AND NECK DISEASES', 'Orthopedics, Hip and Knee Arthritis Specialist, Hip and Knee Replacement Surgery', 'PLASTIC, RECONSTRUCTIVE AND AESTHETIC SURGERY', 'General Medicine And Animal Bite Physician', 'Hospital Nicu and womens health', 'Ob gyn/ GP', 'Adult Pulmonology and Critical Care Medicine', 'Otorhinolaryngology-Head and Neck Surgery(ENT-HNS)', 'Radtech', 'Degree', 'Nuclear Medicine and Thyroid Diseases', 'Ophthalmology/Glaucoma/Cataract and Comprehensive Ophthalmology', 'Internal Medicine Adult Diseases Specialist', 'Ob, Geria', 'Transplant and Vascular Surgery', 'Diplomate In Geriatric Medicine', 'OBTETRICS AND GYNECOLOGY', 'Ob-gyn and Sonologist', 'Urology/Genitourinary Surgery', 'Otolarygology', 'OBSTETRICS and GYNECOLOGY', 'General Practicioner - Primary Care Physician', 'Orthopedics and Spine Surgery', 'Gastro Enterologist', 'Pediatric and Adolescent Medicine', 'obstetrics and gynaecology', 'neuro', 'Internal Medicine - Cardiology and Vascular Medicine', 'General Medicine, School Health and Lactation', 'General Pediatrics\\n', 'Internal Medicine - Cardiology - Interventional Cardiology', 'ENT/ Otorhinolaryngology-Head and Neck Surgery', 'General and Oncologic Surgery', 'RALPh Roque', 'Infectious diseases', 'Ear,Nose,Throat -Head & Neck Surgery', 'Obstetrics/ Gynecology\\nClimacteric Medicine\\nMenopause', 'Surgery/ Occupational Medicine', 'Orthopaedic Spine Surgery', 'General Practitioner, Public Health', 'Medical Secretary, Ophthalmology', 'E.G', 'Lying-in Clinic', 'Pediatric Allergy', 'Pulmonary & Internal Medicine', 'Aesthetic Medicine & Anti-Aging', 'General Pediatrics - Ambulatory', 'Dermatology (adult and pediatric)', 'Obstetrics, Gynecology', 'Internal Medicine, Kidney Diseases, Hypertension', 'anesthesia', 'Obstectics', 'Dental Medicine, Oral Maxillofacial Surgery', 'Aesthetics & Wellness Medicine', 'General Medicine / Ophthalmology', 'Dental Practice Management and Leadership', 'NeuroSurgery', 'Fellow in Family  & Community Medicine', 'Orthopaedics and Spine Surgery', 'Plastic surgery', 'GS', 'Otolaryngology Head and Neck Surgery (ENT-HNS)', 'Orthopaedic and Hand Surgery', 'Ophthalmology / Ophthalmologist / Eye Doctor / Eye Care Specialist / Comprehensive Ophthalmology', 'Orthopedics and Traumatology', ' ', 'DIABETES care Specialist', 'General Surgery, Thoracic And Cardiovascular Surgery', 'Anesthesiology and Pain Medicine', 'Pediatric Gastroenterology', 'Ear, Nose, Throat, Head & Neck Surgery', 'Gastroenteroloy', 'Biology', 'general  and cancer surgery', 'General Physican', 'Injectables', 'Otorhinolaryngology-Head and Neck Surgery (Diseases of the Ear, Nose and Throat)', 'Internal Medicine - Adult Nephrology (Kidney Diseases)', 'Ear Nose Throat', 'Doctor Payton', 'Pediatrics, General Surgery', 'Gastroenterology & Hepatology', 'INTERNAL MEDICINE-GASTROENTEROLOGY', 'Adult Pulmonary Medicine & Internal Medicine', 'obstetric-Gynecologist', 'Obsterics And Gynecology', 'General Urology', 'Ear Nose Throat-Head & Neck Surgery', 'Intetnal Med.- Diabetology', 'IM-MEDICAL ONCOLOGY', 'GYNECOLOGIC ONCOLOGY', 'Ear Nose Throat Specialist - Head and Neck Surgery', 'Ophthlamology', 'Internal Medicine/ Adult Cardiology', 'ENT- Head And Neck Surgery (Otolaryngology)', 'Orthopaedics Spine', 'INTERNAL MEDICINE-MEDICAL ONCOLOGY', 'Allergists/Immunologists', 'Adult and Pediatric Neurology', 'GP/Ortho', 'Integrative Medicine, General Medicine, Acupuncture', 'OTORHINOLARYNGOLOGY HEAD AND NECK SURGERY', 'Emergency Medicines', 'Lifestyle and Anti-aging Medicine', 'Ear, Nose, Throat/ Otorhinolaryngology-Head and Neck Surgery', 'General Psychiatry and Behavioral Medicine  (Adult)', 'Dermatology - skin, hair and nails', 'Web Development', 'Nutrition and Diet Therapy', 'OTORHINOLARYNGOLOGY', 'Occupational Medicine ( Division of Phil. Academy of Family Physicians)', 'Comprehensive Dentistry', 'IM-GASTROENTEROLOGY', 'Otorhinolaryngology - Head and Neck Surgery (ENT - HNS)', 'Pediatric dentistry', 'Physical Med& Rehab', 'ENT (Otolaryngology) - Head & Neck Surgery', 'Ears, Nose, Throat -Head and Neck Surgery', 'DERMATOLOGY - Fellow, Philippine Dermatological Society, Inc.', 'Internal Medicine/Cardiology', 'Pulmonary Medicine  ', 'Psychiatry & Behavioural Medicine', 'IM - ONCOLOGY', 'Internal Medicine, Diabetes, Thyroid and Endocrinology', 'Primary & Aesthetic Skin Health/ Occupational Medicine/Primary Care', 'Human Resources', 'Internal Medicine/Allergy', 'Orthopedic Trauma', 'ENT-HNS Sleep Medicine-Sleep Surgery', 'Adult & Pediatric Allergology - Immunology / General Pediatrics', 'Otolaryngology - Head and Neck Surgery (ENT-HNS)', 'Internal Medicine-Gastroenterologist', 'General Laparoscopic and Cancer Surgery', 'on-gyn', 'Allergology and Immunology, General Pediatrics', 'Adult Hematology', 'Ears Nose Throat Head and Neck Surgery', 'Ears, Nose , Throat , Head and Neck Surgery', 'Ear, Nose, Throat/Otorhinolaryngology-Head and Neck Surgery', 'Ears, Nose, Throat - Head & Neck Surgery', 'Ent head and neck surgery', 'Gynecologic oncology', 'Adult And Interventional Cardiology', 'Occupational Medicine / General Practitioner', 'Ear, Nose, Throat,  Head and Neck Surgery', 'Uro', 'uro', 'Otorhinolarygology Head and Neck Surgery', 'Doctor of Pharmacy', 'Interna Medicine ', 'Internal Medicine Gastroenterology', 'General Medicine, Dermatology', ' Integrative Medicine', 'OBSTERICS AND GYNECOLOGY', 'Internal Medicine- Cardiology St. Luke\\x92 s Medical Center BGC', 'Allergists', 'Obstetrics- Gynaecology', 'ertertertert ertert', 'Genitourinary and Stone Diseases', 'Allergy / Immunology', 'Aesthetic Facial Surgery, Cosmetic Surgery, Ophthalmology, Plastic Surgery, ', 'Eye, Ear, Nose and Throat', 'Functional Medicine and Lifestyle Medicine', 'General Medicine & Aesthetic Medicine Practitioner', 'General & Minimally Invasive Surgery', 'Paediatric', 'Dermatology (Adult and Pediatric) ', 'Ear Nose & Throat - Head and Neck Surgery', 'Integrative and Holistic Medicine / Functional Medicine / Traditional Chinese Medicine (Acupuncture)', 'OBSTETRICS-GYNECOLOGY', ' Obesity Medicine and Lifestyle Medicine', 'Dermatology (Medical & Cosmetic)', 'ENT Surgeon', 'MEDICAL ONCOLOGY', 'Gen Surgery', 'Pediatrics-Pulmonology', 'Physical Rehabilitation Medicines', 'Internal Medicine Gastroenterology ', 'OB-GYN, Family Medicine', 'Acu', 'Family Medicine, General Medicine, Primary Care, Occupational and Industrial Medicine, Animal Bite Specialist, TB Specialist, Adult and Pediatric Infectious Diseases', 'Hemathology', 'Internal Medicine-Gastroenterology & Liver Diseases', 'ORTHOPAEDIC SURGERY', 'Cancer,laparoscopic surgery,cosmetic surgery', 'Adult Rheumatology - Internal Medicine', 'Nutritional Medicine, Family Medicine', 'Hema', 'integrative', 'MSU Mississippi State University', 'kik', 'Emergency Medicine, Family Medicine', 'Obstetrics and Gynecoloy', 'Sdj', 'Marine engineer', 'Babag', 'Diabetes ', 'Pediatric Pulmonology ', 'Pulmonary Internal Med', 'IM - Adult Cardiology / Interventional Cardiology', 'Orthodontic, Implantology, Esthetic Dentistry', 'Spine & Orthopedics', 'Bdjsp', 'Household', 'RMT', 'finane', 'Interventional cardiology', 'Addiction Specialist', 'General Practice/ Primary Care Physician/ Public Health/ Occupational Health and Safety', 'Fellow of the Philippine Academy of Family Physicians', 'Occupational Medicine / General Medicine', 'Plastic Surgery (Reconstructive & Aesthetic / Cosmetic) / Burns', 'OB-Gynecology - Ultrasound', 'Public health', 'General Practice / Occupational Health', 'accounting', 'Internal Medicine - Allergy and Immunology', 'ENT (Otorhinolaryngology - Head and Neck Surgery) / General Medicine', 'Handling Normal Deliveries', 'Reproductive Endocrinology', 'Pediatrics, Infectious Disease', 'OB and gynaecology', 'Test Specilty', 'General Practioners', 'Rhematolgy/Arthritis', 'Dra. Beverly Dela cruz', 'IM- Endocrinology ', 'M.D , DPPPS', 'Father', 'Oral', 'Oral Surgery, Prosthodontics, General Dentistry', 'General orthopedics', 'Primary Health Care/Occupational Health', 'ENT / Otolaryngology - Head and Neck Surgery', 'Podiatrist', 'tester', 'Not Sure', 'Major in accountancy', 'Famed', 'Ears', 'Haematology', 'FAMILY PHYSICIAN', 'Orthopaedic Surgery And General Orthopedics', 'Organ Transplant and Vascular Surgery, General Surgery', 'MAIN SPECIALTY', 'Registered Pharmacist', 'Internal Medicine-Diabetologist', 'Internal Medicine - Gastroenterology, Therapeutic Endoscopy, ERCP', 'geriartic', 'Adult Infectious Diseases/ Internal Medicine', 'Internal Medicine, Diplomate', 'OSH', 'Hospitalist', 'respiridone (risgin) and Rivotril', 'Y', 'Dr. Anna Mitzi Matela', 'Orthopedic Surgery -Sports Medicine -Trauma -MusculoSkeletal Pain & Ultrasound', 'Plastic, Aesthetic and Reconstructive Surgey', 'Pediatrics- nephrology', 'Diagnostic And Interventional Radiology', 'Real Estate', 'Being Me', 'Otorhinolaryngology (Ears, Nose, Throat), Head and Neck Surgery', 'Integrative Anti-Aging and Regenerative / Functional Medicine / TCM Acupuncture', 'psychiatry', 'Internal Medicine - Adult Cardiology - Peripheral Vascular Medicine', 'ORAL SURGERY', 'Hospital Administration', 'GYNECOLOGUE', 'Dog & Cat Medicine & Surgery', 'Trisha Reyes', '3', 'PHD Clinical Psychology on going', 'General Pediatrics \\x95 Pediatric Infectious Diseases', 'Pediatric, Allergies', 'Occupational Medicine & Public Health', 'Dermatology and Aesthetics', 'Orthopaedic Surgery - Hand Specialist', 'Internal Medicine - Cardiology; Non-invasive Cardiology; Nuclear Cardiology & Advanced Cardiovascular Imaging', 'OPTOMETRY', 'Adult Cardio', 'Pre-Med', 'ADULT CARDIOLOGY & INTERNAL MEDICINE: Heart Failure, Chest Pain, Hypertension (high blood pressure), Coronary Artery Disease, ECG, Hypertrophic Cardiomyopathies, Arrhythmias, & other heart diseases', 'EAR, NOSE, THROAT-HEAD & NECK, THYROID SURGERY', 'Interventional Radiology, Vascular and Interventional Radiology', 'Ear, Nose and Throat-Head and Neck Surgery', 'Ear, Nose, Throat-Head and Neck Surgery', 'Internal Medicine -Cardiology', 'CLINICAL PSYCHOLOGY', 'Clinical Embryology and Assisted reproduction technology', 'Ear, Nose Throat-Head and Neck Surgery', 'Aesthetic  and Anti-Aging Medicine', 'Pulmonologist ', 'Fellow PSO-HNS, ENT-HNS (Voice, Swallowing, Nose, Nasal Sinuses, Head and Neck Surgery)', 'Neurology, Stroke Specialist ', 'General Practice/ Maritime Medicine', 'Dermatolgoy', 'Welder pipe filter', 'Dematology', 'Internal Medicine | Dermatology', 'Reumathology', 'Endocrinology, Diabetes Mellitus, Thyroid Diseases', 'General Surgery, Trauma Surgery And Critical Care', 'Breast Surgery', 'Internal Medicine - Gastroenterology, Digestive Endoscopy', 'otolaryngology', 'Patienr', 'PEdiatrics', 'DEVELOPMENTAL AND BEHAVIORAL PEDIATRICS', 'Family Medicine (Diplomate)', 'General Medicine-Occupational Health Physician', 'GP/ Pediatrics', 'Obstetrics gynecology', 'PSYCHOLOGY', 'Test account', 'IM- PULMONOLOGY', 'Ortho spine Surgeon', 'Clinical & Cosmetic Dermatology / Occupational Safety & Health Medicine / Venereology', 'Consultant in Family Medicine @ Rivera Medical Center, Inc.; Chief of Clinics; Training Officer Family Medicine Residency Program; Master in Hospital Administration', 'Fellow, Adult Cardiology', 'Ear, Nose , Throat - Head and Neck Surgery', 'OTOLARYNGOLOGY (ENT)', 'Pediatric Hematology\\nPediatric Hematology and Oncology\\nPediatrics', 'Dermatology & Aesthetics', 'psychatry', 'Internal Medicine/Adult Cardiology', 'Web Developer', 'F', 'Cardiology, Internal Medicine', 'General, Cancer, Laparoscopic, and Trauma Surgery', 'Cecilia gonzales', 'IM-Cardiologist', 'Sorry wrong sign up', 'INTERNAL MEDICINE - CLINICAL ENDOCRINOLOGY', 'PLASTIC AND RECONSTRUCTIVE SURGERY', 'Emergency Medicine, Primary Care', 'Helping mother to gave birth by normal delivery', 'Internal Medicine, Cardiology, Interventional Cardiology', 'Otorhinolaryngology-HNS', 'Internal Medicine, Endpcrinology & Metabolism', 'Newborn Medicine', 'Dermatology (Skin, Hair, Nails)', 'ENT, Head and Neck', 'IM-Hematology', 'Obstetrics Gynecology, Aesthetic Dermatology', 'Internal medicine - Gastroenterology', 'Hshshs', 'Clinical & interventional pulmonology', 'DERMATOLOGIST', 'Hahaha', 'Clinical Optometrist', 'w', 'Gastroenterology & Transplant Hepatology', 'Intensive care medicine', 'Test Only', 'General Surgery Pediatric Surgery', 'Child & Adult Allergy, Asthma & Clinical Immunology', 'OB/RM check up', 'Internal Medicibe', 'Nutritional Family Practice', 'Public Health, Pathology', 'general practice', 'Otorhinolaryngology, Head & Neck Surgery', 'follow up check up', 'ENT Otolaryngology', 'Pediatric Gastroenterology, Hepatology and Nutrition', 'Eyes,Ears,Nose,Throat', 'Internal Medicine/Gastroenteology/Hepatology', 'infertility', 'Oral Sugery', 'General Dermatology', 'Plastic, Reconstructive and Aesthetic/Cosmetic Surgery', 'Anesthesiologiy', 'Cardiovascular', 'Fellow, Family Medicine', 'Computer Science', 'sdd', 'oral and maxillofacial surgery', 'General Physician (Pediatrics and Adult)', 'Marc', 'Orthopaedics (Bone and Joint Surgery)', 'Generalists', 'Allergist']\n"
     ]
    }
   ],
   "source": [
    "# Count occurrences of each value in 'mainspecialty'\n",
    "specialty_counts = doctors_copy_df['mainspecialty'].value_counts()\n",
    "\n",
    "# Filter out values that occur only once (i.e., don't have duplicates)\n",
    "unique_specialties = specialty_counts[specialty_counts == 1].index.tolist()\n",
    "\n",
    "print(\"Values in mainspecialty column without duplicates:\", unique_specialties)\n"
   ]
  },
  {
   "cell_type": "markdown",
   "id": "2f7571a2",
   "metadata": {},
   "source": [
    "## Replacing NaN/Non-Integer Values into Sentinel Values in Age Column"
   ]
  },
  {
   "cell_type": "code",
   "execution_count": 10,
   "id": "1ef2b87c",
   "metadata": {},
   "outputs": [
    {
     "data": {
      "text/plain": [
       "doctorid         False\n",
       "mainspecialty     True\n",
       "age               True\n",
       "dtype: bool"
      ]
     },
     "execution_count": 10,
     "metadata": {},
     "output_type": "execute_result"
    }
   ],
   "source": [
    "doctors_copy_df.isnull().any()"
   ]
  },
  {
   "cell_type": "markdown",
   "id": "32615c95",
   "metadata": {},
   "source": [
    "## Check for NaN Values in Age Column"
   ]
  },
  {
   "cell_type": "code",
   "execution_count": 11,
   "id": "1777c3b6",
   "metadata": {},
   "outputs": [
    {
     "name": "stdout",
     "output_type": "stream",
     "text": [
      "                               doctorid         mainspecialty  age\n",
      "24     ED3D2C21991E3BEF5E069713AF9FA6CA                   NaN  NaN\n",
      "28     EC8956637A99787BD197EACD77ACCE5E                   NaN  NaN\n",
      "31     65B9EEA6E1CC6BB9F0CD2A47751A186F                   NaN  NaN\n",
      "33     A97DA629B098B75C294DFFDC3E463904                   NaN  NaN\n",
      "38     7F6FFAA6BB0B408017B62254211691B5                   NaN  NaN\n",
      "...                                 ...                   ...  ...\n",
      "60016  3DC09677E0FDB539A31D497C4FB25F20  general practitioner  NaN\n",
      "60017  39D96AC1450B2D517807DC8A94B26C17         Ophthalmology  NaN\n",
      "60020  4473D870B5E31FAA40D2C45E1FF6DC27                   NaN  NaN\n",
      "60021  A4F554EB2C0934E7FDE2511E8C1573BA                   NaN  NaN\n",
      "60022  E540A361D93D37A33BB2F55D43DA79D9  General Practitioner  NaN\n",
      "\n",
      "[39996 rows x 3 columns]\n"
     ]
    }
   ],
   "source": [
    "print(doctors_copy_df.loc[doctors_copy_df['age'].isnull() == True])"
   ]
  },
  {
   "cell_type": "markdown",
   "id": "c056e61c",
   "metadata": {},
   "source": [
    "## Convert NaN Values into Sentinel Values"
   ]
  },
  {
   "cell_type": "code",
   "execution_count": 12,
   "id": "59b713ac",
   "metadata": {},
   "outputs": [],
   "source": [
    "doctors_copy_df.loc[doctors_copy_df['age'].isnull(), 'age'] = str(9999)"
   ]
  },
  {
   "cell_type": "markdown",
   "id": "6ddf8dd1",
   "metadata": {},
   "source": [
    "## Check Results of Conversion"
   ]
  },
  {
   "cell_type": "code",
   "execution_count": 13,
   "id": "172a915d",
   "metadata": {},
   "outputs": [
    {
     "data": {
      "text/plain": [
       "doctorid         False\n",
       "mainspecialty     True\n",
       "age              False\n",
       "dtype: bool"
      ]
     },
     "execution_count": 13,
     "metadata": {},
     "output_type": "execute_result"
    }
   ],
   "source": [
    "doctors_copy_df.isnull().any()"
   ]
  },
  {
   "cell_type": "code",
   "execution_count": 14,
   "id": "6f16c872",
   "metadata": {},
   "outputs": [
    {
     "data": {
      "text/html": [
       "<div>\n",
       "<style scoped>\n",
       "    .dataframe tbody tr th:only-of-type {\n",
       "        vertical-align: middle;\n",
       "    }\n",
       "\n",
       "    .dataframe tbody tr th {\n",
       "        vertical-align: top;\n",
       "    }\n",
       "\n",
       "    .dataframe thead th {\n",
       "        text-align: right;\n",
       "    }\n",
       "</style>\n",
       "<table border=\"1\" class=\"dataframe\">\n",
       "  <thead>\n",
       "    <tr style=\"text-align: right;\">\n",
       "      <th></th>\n",
       "      <th>doctorid</th>\n",
       "      <th>mainspecialty</th>\n",
       "      <th>age</th>\n",
       "    </tr>\n",
       "  </thead>\n",
       "  <tbody>\n",
       "    <tr>\n",
       "      <th>24</th>\n",
       "      <td>ED3D2C21991E3BEF5E069713AF9FA6CA</td>\n",
       "      <td>NaN</td>\n",
       "      <td>9999</td>\n",
       "    </tr>\n",
       "    <tr>\n",
       "      <th>28</th>\n",
       "      <td>EC8956637A99787BD197EACD77ACCE5E</td>\n",
       "      <td>NaN</td>\n",
       "      <td>9999</td>\n",
       "    </tr>\n",
       "    <tr>\n",
       "      <th>31</th>\n",
       "      <td>65B9EEA6E1CC6BB9F0CD2A47751A186F</td>\n",
       "      <td>NaN</td>\n",
       "      <td>9999</td>\n",
       "    </tr>\n",
       "    <tr>\n",
       "      <th>33</th>\n",
       "      <td>A97DA629B098B75C294DFFDC3E463904</td>\n",
       "      <td>NaN</td>\n",
       "      <td>9999</td>\n",
       "    </tr>\n",
       "    <tr>\n",
       "      <th>38</th>\n",
       "      <td>7F6FFAA6BB0B408017B62254211691B5</td>\n",
       "      <td>NaN</td>\n",
       "      <td>9999</td>\n",
       "    </tr>\n",
       "    <tr>\n",
       "      <th>...</th>\n",
       "      <td>...</td>\n",
       "      <td>...</td>\n",
       "      <td>...</td>\n",
       "    </tr>\n",
       "    <tr>\n",
       "      <th>60016</th>\n",
       "      <td>3DC09677E0FDB539A31D497C4FB25F20</td>\n",
       "      <td>general practitioner</td>\n",
       "      <td>9999</td>\n",
       "    </tr>\n",
       "    <tr>\n",
       "      <th>60017</th>\n",
       "      <td>39D96AC1450B2D517807DC8A94B26C17</td>\n",
       "      <td>Ophthalmology</td>\n",
       "      <td>9999</td>\n",
       "    </tr>\n",
       "    <tr>\n",
       "      <th>60020</th>\n",
       "      <td>4473D870B5E31FAA40D2C45E1FF6DC27</td>\n",
       "      <td>NaN</td>\n",
       "      <td>9999</td>\n",
       "    </tr>\n",
       "    <tr>\n",
       "      <th>60021</th>\n",
       "      <td>A4F554EB2C0934E7FDE2511E8C1573BA</td>\n",
       "      <td>NaN</td>\n",
       "      <td>9999</td>\n",
       "    </tr>\n",
       "    <tr>\n",
       "      <th>60022</th>\n",
       "      <td>E540A361D93D37A33BB2F55D43DA79D9</td>\n",
       "      <td>General Practitioner</td>\n",
       "      <td>9999</td>\n",
       "    </tr>\n",
       "  </tbody>\n",
       "</table>\n",
       "<p>39996 rows × 3 columns</p>\n",
       "</div>"
      ],
      "text/plain": [
       "                               doctorid         mainspecialty   age\n",
       "24     ED3D2C21991E3BEF5E069713AF9FA6CA                   NaN  9999\n",
       "28     EC8956637A99787BD197EACD77ACCE5E                   NaN  9999\n",
       "31     65B9EEA6E1CC6BB9F0CD2A47751A186F                   NaN  9999\n",
       "33     A97DA629B098B75C294DFFDC3E463904                   NaN  9999\n",
       "38     7F6FFAA6BB0B408017B62254211691B5                   NaN  9999\n",
       "...                                 ...                   ...   ...\n",
       "60016  3DC09677E0FDB539A31D497C4FB25F20  general practitioner  9999\n",
       "60017  39D96AC1450B2D517807DC8A94B26C17         Ophthalmology  9999\n",
       "60020  4473D870B5E31FAA40D2C45E1FF6DC27                   NaN  9999\n",
       "60021  A4F554EB2C0934E7FDE2511E8C1573BA                   NaN  9999\n",
       "60022  E540A361D93D37A33BB2F55D43DA79D9  General Practitioner  9999\n",
       "\n",
       "[39996 rows x 3 columns]"
      ]
     },
     "execution_count": 14,
     "metadata": {},
     "output_type": "execute_result"
    }
   ],
   "source": [
    "doctors_copy_df.loc[doctors_copy_df['age'] == str(9999)]"
   ]
  },
  {
   "cell_type": "markdown",
   "id": "0aa3e86c",
   "metadata": {},
   "source": [
    "## Checking for Negative/Non-Integer Values in Age Column"
   ]
  },
  {
   "cell_type": "code",
   "execution_count": 15,
   "id": "3acf2834",
   "metadata": {},
   "outputs": [
    {
     "name": "stdout",
     "output_type": "stream",
     "text": [
      "Rows with non-integer values in the 'age' column:\n",
      "                               doctorid         mainspecialty   age\n",
      "0      AD61AB143223EFBC24C7D2583BE69251      General Medicine  41.0\n",
      "1      D09BF41544A3365A46C9077EBB5E35C3       Family Medicine  43.0\n",
      "2      FBD7939D674997CDB4692D34DE8633C4     Vascular Medicine  26.0\n",
      "3      28DD2C7955CE926456240B2FF0100BDE     Otolaryngologists  34.0\n",
      "4      35F4A8D465E6E1EDC05F3D8AB658C551     General Dentistry  50.0\n",
      "...                                 ...                   ...   ...\n",
      "60012  D1EEFDEF38B0DC9967B2482ED5676157    General Pediatrics  37.0\n",
      "60014  FD1D25ED94DA6BA29824C667A7093312  General Practitioner  26.0\n",
      "60018  178B515E6825D004EBAF232DD6977CCD      General Medicine  29.0\n",
      "60019  CD532DBEF6547A66D2138FAB49AA3B94  General Practitioner  33.0\n",
      "60023  23BA85862DD19C3550E7C0F0AF84C7ED     Internal Medicine  38.0\n",
      "\n",
      "[20028 rows x 3 columns]\n"
     ]
    }
   ],
   "source": [
    "# Check for non-integer values in the 'age' column\n",
    "doctors_non_integer_rows = doctors_copy_df[~doctors_copy_df['age'].astype(str).str.isdigit()]\n",
    "\n",
    "print(\"Rows with non-integer values in the 'age' column:\")\n",
    "print(doctors_non_integer_rows)"
   ]
  },
  {
   "cell_type": "markdown",
   "id": "7a6b0c56",
   "metadata": {},
   "source": [
    "## Converting Data Type of Age Column into Integer"
   ]
  },
  {
   "cell_type": "code",
   "execution_count": 16,
   "id": "2245e815",
   "metadata": {},
   "outputs": [],
   "source": [
    "doctors_copy_df['age'] = doctors_copy_df['age'].astype(int)"
   ]
  },
  {
   "cell_type": "markdown",
   "id": "f60e5c94",
   "metadata": {},
   "source": [
    "## Updating the Original DataFrame and CSV with the Changes Made in the Copy"
   ]
  },
  {
   "cell_type": "code",
   "execution_count": 17,
   "id": "a06be83c",
   "metadata": {},
   "outputs": [],
   "source": [
    "doctors_df.update(doctors_copy_df)"
   ]
  },
  {
   "cell_type": "code",
   "execution_count": 18,
   "id": "9222ef9c",
   "metadata": {},
   "outputs": [],
   "source": [
    "doctors_df.to_csv('doctors.csv', index=False) "
   ]
  },
  {
   "cell_type": "markdown",
   "id": "a2a4e3a4",
   "metadata": {},
   "source": [
    "# `Patients Dataset`"
   ]
  },
  {
   "cell_type": "markdown",
   "id": "db31e1b4",
   "metadata": {},
   "source": [
    "## Reading the Patients Dataset"
   ]
  },
  {
   "cell_type": "code",
   "execution_count": 19,
   "id": "44a95340",
   "metadata": {},
   "outputs": [],
   "source": [
    "patients_df = pd.read_csv(\"px.csv\", dtype={\"pxid\": \"string\", \"age\": \"string\"})"
   ]
  },
  {
   "cell_type": "code",
   "execution_count": 20,
   "id": "c384b666",
   "metadata": {},
   "outputs": [
    {
     "name": "stdout",
     "output_type": "stream",
     "text": [
      "<class 'pandas.core.frame.DataFrame'>\n",
      "RangeIndex: 6507813 entries, 0 to 6507812\n",
      "Data columns (total 3 columns):\n",
      " #   Column  Dtype \n",
      "---  ------  ----- \n",
      " 0   pxid    string\n",
      " 1   age     string\n",
      " 2   gender  object\n",
      "dtypes: object(1), string(2)\n",
      "memory usage: 149.0+ MB\n"
     ]
    }
   ],
   "source": [
    "patients_df.info()"
   ]
  },
  {
   "cell_type": "markdown",
   "id": "de1b93b8",
   "metadata": {},
   "source": [
    "## Creating a Copy of the Dataset"
   ]
  },
  {
   "cell_type": "code",
   "execution_count": 21,
   "id": "65e895ff",
   "metadata": {},
   "outputs": [],
   "source": [
    "patients_copy_df = patients_df.copy()"
   ]
  },
  {
   "cell_type": "code",
   "execution_count": 22,
   "id": "983bcb8e",
   "metadata": {},
   "outputs": [
    {
     "name": "stdout",
     "output_type": "stream",
     "text": [
      "<class 'pandas.core.frame.DataFrame'>\n",
      "RangeIndex: 6507813 entries, 0 to 6507812\n",
      "Data columns (total 3 columns):\n",
      " #   Column  Dtype \n",
      "---  ------  ----- \n",
      " 0   pxid    string\n",
      " 1   age     string\n",
      " 2   gender  object\n",
      "dtypes: object(1), string(2)\n",
      "memory usage: 149.0+ MB\n"
     ]
    }
   ],
   "source": [
    "patients_copy_df.info()"
   ]
  },
  {
   "cell_type": "markdown",
   "id": "3e3eb5b4",
   "metadata": {},
   "source": [
    "## Checking for Null Values in the Columns"
   ]
  },
  {
   "cell_type": "code",
   "execution_count": 23,
   "id": "2b7e8b4e",
   "metadata": {},
   "outputs": [
    {
     "data": {
      "text/plain": [
       "pxid      False\n",
       "age       False\n",
       "gender    False\n",
       "dtype: bool"
      ]
     },
     "execution_count": 23,
     "metadata": {},
     "output_type": "execute_result"
    }
   ],
   "source": [
    "patients_copy_df.isnull().any()"
   ]
  },
  {
   "cell_type": "markdown",
   "id": "18addd02",
   "metadata": {},
   "source": [
    "## Adding Sentinel Values to Null Age Columns"
   ]
  },
  {
   "cell_type": "code",
   "execution_count": 24,
   "id": "d787714f",
   "metadata": {},
   "outputs": [
    {
     "name": "stdout",
     "output_type": "stream",
     "text": [
      "Empty DataFrame\n",
      "Columns: [pxid, age, gender]\n",
      "Index: []\n"
     ]
    }
   ],
   "source": [
    "print(patients_copy_df.loc[patients_copy_df['age'].isnull() == True])"
   ]
  },
  {
   "cell_type": "code",
   "execution_count": 25,
   "id": "e40e40be",
   "metadata": {},
   "outputs": [],
   "source": [
    "patients_copy_df.loc[patients_copy_df['age'].isnull(), 'age'] = str(9999)"
   ]
  },
  {
   "cell_type": "code",
   "execution_count": 26,
   "id": "4b4bacbb",
   "metadata": {},
   "outputs": [
    {
     "data": {
      "text/plain": [
       "pxid      False\n",
       "age       False\n",
       "gender    False\n",
       "dtype: bool"
      ]
     },
     "execution_count": 26,
     "metadata": {},
     "output_type": "execute_result"
    }
   ],
   "source": [
    "# Check appointments with a type of inpatient\n",
    "patients_copy_df.isnull().any()"
   ]
  },
  {
   "cell_type": "markdown",
   "id": "a693804a",
   "metadata": {},
   "source": [
    "## Check for Negative Values in Age Column"
   ]
  },
  {
   "cell_type": "code",
   "execution_count": 27,
   "id": "24bc7b4c",
   "metadata": {},
   "outputs": [
    {
     "name": "stdout",
     "output_type": "stream",
     "text": [
      "Rows with non-integer values in the 'age' column:\n",
      "Empty DataFrame\n",
      "Columns: [pxid, age, gender]\n",
      "Index: []\n"
     ]
    }
   ],
   "source": [
    "# Check for non-integer values in the 'age' column\n",
    "non_integer_rows = patients_copy_df[~patients_copy_df['age'].astype(str).str.isdigit()]\n",
    "\n",
    "print(\"Rows with non-integer values in the 'age' column:\")\n",
    "print(non_integer_rows)"
   ]
  },
  {
   "cell_type": "markdown",
   "id": "81ef8694",
   "metadata": {},
   "source": [
    "## Convert Negative Values to Sentinel Values\n",
    "\n",
    "Since str.isdigit() considers negative integers as non-integers, we have to replace them with a sentinel value."
   ]
  },
  {
   "cell_type": "code",
   "execution_count": 28,
   "id": "184c9855",
   "metadata": {},
   "outputs": [],
   "source": [
    "patients_copy_df.loc[~patients_copy_df['age'].astype(str).str.isdigit()] = str(9999)"
   ]
  },
  {
   "cell_type": "markdown",
   "id": "01a07c73",
   "metadata": {},
   "source": [
    "## Check if There are Still Negative Values"
   ]
  },
  {
   "cell_type": "code",
   "execution_count": 29,
   "id": "1e4dad94",
   "metadata": {},
   "outputs": [
    {
     "name": "stdout",
     "output_type": "stream",
     "text": [
      "Empty DataFrame\n",
      "Columns: [pxid, age, gender]\n",
      "Index: []\n"
     ]
    }
   ],
   "source": [
    "print(patients_copy_df[~patients_copy_df['age'].astype(str).str.isdigit()])\n"
   ]
  },
  {
   "cell_type": "markdown",
   "id": "928bebb0",
   "metadata": {},
   "source": [
    "## Converting the Age Column Back into Int"
   ]
  },
  {
   "cell_type": "code",
   "execution_count": 30,
   "id": "ec751e4c",
   "metadata": {},
   "outputs": [],
   "source": [
    "patients_copy_df['age'] = patients_copy_df['age'].astype(int)"
   ]
  },
  {
   "cell_type": "markdown",
   "id": "d2ea3d00",
   "metadata": {},
   "source": [
    "## Updating the Original DataFrame and CSV with the Changes Made in the Copy"
   ]
  },
  {
   "cell_type": "code",
   "execution_count": 31,
   "id": "4987acb9",
   "metadata": {},
   "outputs": [],
   "source": [
    "patients_df.update(patients_copy_df)"
   ]
  },
  {
   "cell_type": "code",
   "execution_count": 32,
   "id": "cf001074",
   "metadata": {},
   "outputs": [],
   "source": [
    "patients_df.to_csv('px.csv', index=False) "
   ]
  }
 ],
 "metadata": {
  "kernelspec": {
   "display_name": "Python 3 (ipykernel)",
   "language": "python",
   "name": "python3"
  },
  "language_info": {
   "codemirror_mode": {
    "name": "ipython",
    "version": 3
   },
   "file_extension": ".py",
   "mimetype": "text/x-python",
   "name": "python",
   "nbconvert_exporter": "python",
   "pygments_lexer": "ipython3",
   "version": "3.11.4"
  }
 },
 "nbformat": 4,
 "nbformat_minor": 5
}
