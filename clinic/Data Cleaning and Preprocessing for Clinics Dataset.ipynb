{
 "cells": [
  {
   "cell_type": "markdown",
   "id": "f8ee500e",
   "metadata": {},
   "source": [
    "# `Clinics Dataset`"
   ]
  },
  {
   "cell_type": "markdown",
   "id": "fb74f7e7",
   "metadata": {},
   "source": [
    "## Import\n",
    "Import **numpy** and **pandas**.\n",
    "\n",
    "[**`pandas`**](https://pandas.pydata.org/pandas-docs/stable/index.html) is a software library for Python which provides data structures and data analysis tools."
   ]
  },
  {
   "cell_type": "code",
   "execution_count": 1,
   "id": "20c0afd5",
   "metadata": {},
   "outputs": [],
   "source": [
    "import numpy as np\n",
    "import pandas as pd"
   ]
  },
  {
   "cell_type": "markdown",
   "id": "bd2172e2",
   "metadata": {},
   "source": [
    "## Reading the Clinics and Appointments Dataset"
   ]
  },
  {
   "cell_type": "code",
   "execution_count": 2,
   "id": "2faee790",
   "metadata": {},
   "outputs": [],
   "source": [
    "clinics_df = pd.read_csv(\"../datasets_backup/clinics.csv\", encoding='ISO-8859-1')"
   ]
  },
  {
   "cell_type": "code",
   "execution_count": 3,
   "id": "48d5e095",
   "metadata": {},
   "outputs": [],
   "source": [
    "appointments_df = pd.read_csv(\"../datasets_backup/appointments.csv\")"
   ]
  },
  {
   "cell_type": "markdown",
   "id": "f994a71d",
   "metadata": {},
   "source": [
    "## Clinics Dataset Information"
   ]
  },
  {
   "cell_type": "code",
   "execution_count": 4,
   "id": "7a733f9b",
   "metadata": {},
   "outputs": [
    {
     "name": "stdout",
     "output_type": "stream",
     "text": [
      "<class 'pandas.core.frame.DataFrame'>\n",
      "RangeIndex: 53962 entries, 0 to 53961\n",
      "Data columns (total 6 columns):\n",
      " #   Column        Non-Null Count  Dtype \n",
      "---  ------        --------------  ----- \n",
      " 0   clinicid      53962 non-null  object\n",
      " 1   hospitalname  17538 non-null  object\n",
      " 2   IsHospital    53962 non-null  bool  \n",
      " 3   City          53962 non-null  object\n",
      " 4   Province      53962 non-null  object\n",
      " 5   RegionName    53962 non-null  object\n",
      "dtypes: bool(1), object(5)\n",
      "memory usage: 2.1+ MB\n"
     ]
    }
   ],
   "source": [
    "clinics_df.info()"
   ]
  },
  {
   "cell_type": "markdown",
   "id": "62c136b7",
   "metadata": {},
   "source": [
    "## Appointments Dataset Information"
   ]
  },
  {
   "cell_type": "code",
   "execution_count": 5,
   "id": "9024693a",
   "metadata": {},
   "outputs": [
    {
     "name": "stdout",
     "output_type": "stream",
     "text": [
      "<class 'pandas.core.frame.DataFrame'>\n",
      "RangeIndex: 9752932 entries, 0 to 9752931\n",
      "Data columns (total 11 columns):\n",
      " #   Column      Dtype \n",
      "---  ------      ----- \n",
      " 0   pxid        object\n",
      " 1   clinicid    object\n",
      " 2   doctorid    object\n",
      " 3   apptid      object\n",
      " 4   status      object\n",
      " 5   TimeQueued  object\n",
      " 6   QueueDate   object\n",
      " 7   StartTime   object\n",
      " 8   EndTime     object\n",
      " 9   type        object\n",
      " 10  Virtual     object\n",
      "dtypes: object(11)\n",
      "memory usage: 818.5+ MB\n"
     ]
    }
   ],
   "source": [
    "appointments_df.info()"
   ]
  },
  {
   "cell_type": "markdown",
   "id": "98b15cd9",
   "metadata": {},
   "source": [
    "# Creating a Copy of the Datasets"
   ]
  },
  {
   "cell_type": "code",
   "execution_count": 6,
   "id": "055a577f",
   "metadata": {},
   "outputs": [],
   "source": [
    "clinics_copy_df = clinics_df.copy()"
   ]
  },
  {
   "cell_type": "code",
   "execution_count": 7,
   "id": "65380e4c",
   "metadata": {},
   "outputs": [
    {
     "name": "stdout",
     "output_type": "stream",
     "text": [
      "<class 'pandas.core.frame.DataFrame'>\n",
      "RangeIndex: 53962 entries, 0 to 53961\n",
      "Data columns (total 6 columns):\n",
      " #   Column        Non-Null Count  Dtype \n",
      "---  ------        --------------  ----- \n",
      " 0   clinicid      53962 non-null  object\n",
      " 1   hospitalname  17538 non-null  object\n",
      " 2   IsHospital    53962 non-null  bool  \n",
      " 3   City          53962 non-null  object\n",
      " 4   Province      53962 non-null  object\n",
      " 5   RegionName    53962 non-null  object\n",
      "dtypes: bool(1), object(5)\n",
      "memory usage: 2.1+ MB\n"
     ]
    }
   ],
   "source": [
    "clinics_copy_df.info()"
   ]
  },
  {
   "cell_type": "code",
   "execution_count": 8,
   "id": "2fb26df7",
   "metadata": {},
   "outputs": [],
   "source": [
    "appointments_copy_df = appointments_df.copy()"
   ]
  },
  {
   "cell_type": "code",
   "execution_count": 9,
   "id": "ff950fd8",
   "metadata": {},
   "outputs": [
    {
     "name": "stdout",
     "output_type": "stream",
     "text": [
      "<class 'pandas.core.frame.DataFrame'>\n",
      "RangeIndex: 9752932 entries, 0 to 9752931\n",
      "Data columns (total 11 columns):\n",
      " #   Column      Dtype \n",
      "---  ------      ----- \n",
      " 0   pxid        object\n",
      " 1   clinicid    object\n",
      " 2   doctorid    object\n",
      " 3   apptid      object\n",
      " 4   status      object\n",
      " 5   TimeQueued  object\n",
      " 6   QueueDate   object\n",
      " 7   StartTime   object\n",
      " 8   EndTime     object\n",
      " 9   type        object\n",
      " 10  Virtual     object\n",
      "dtypes: object(11)\n",
      "memory usage: 818.5+ MB\n"
     ]
    }
   ],
   "source": [
    "appointments_df.info()"
   ]
  },
  {
   "cell_type": "markdown",
   "id": "f8ccf574",
   "metadata": {},
   "source": [
    "## Merging Clinics and Appointments Dataset"
   ]
  },
  {
   "cell_type": "code",
   "execution_count": 10,
   "id": "4e830ba5",
   "metadata": {},
   "outputs": [],
   "source": [
    "# remove after\n",
    "clinics_copy_df = clinics_copy_df.copy()"
   ]
  },
  {
   "cell_type": "code",
   "execution_count": 11,
   "id": "b347d6a1",
   "metadata": {},
   "outputs": [],
   "source": [
    "clinics_copy_df = clinics_copy_df.merge(appointments_copy_df, on='clinicid')"
   ]
  },
  {
   "cell_type": "markdown",
   "id": "21c085a9",
   "metadata": {},
   "source": [
    "## Check Results of Merge"
   ]
  },
  {
   "cell_type": "code",
   "execution_count": 12,
   "id": "8c182825",
   "metadata": {},
   "outputs": [
    {
     "name": "stdout",
     "output_type": "stream",
     "text": [
      "<class 'pandas.core.frame.DataFrame'>\n",
      "Int64Index: 9751401 entries, 0 to 9751400\n",
      "Data columns (total 16 columns):\n",
      " #   Column        Dtype \n",
      "---  ------        ----- \n",
      " 0   clinicid      object\n",
      " 1   hospitalname  object\n",
      " 2   IsHospital    bool  \n",
      " 3   City          object\n",
      " 4   Province      object\n",
      " 5   RegionName    object\n",
      " 6   pxid          object\n",
      " 7   doctorid      object\n",
      " 8   apptid        object\n",
      " 9   status        object\n",
      " 10  TimeQueued    object\n",
      " 11  QueueDate     object\n",
      " 12  StartTime     object\n",
      " 13  EndTime       object\n",
      " 14  type          object\n",
      " 15  Virtual       object\n",
      "dtypes: bool(1), object(15)\n",
      "memory usage: 1.2+ GB\n"
     ]
    }
   ],
   "source": [
    "clinics_copy_df.info()"
   ]
  },
  {
   "cell_type": "markdown",
   "id": "694b7216",
   "metadata": {},
   "source": [
    "## Drop Extra Columns Generated"
   ]
  },
  {
   "cell_type": "code",
   "execution_count": 13,
   "id": "c5f5fc78",
   "metadata": {},
   "outputs": [],
   "source": [
    "clinics_copy_df = clinics_copy_df.drop(columns=['pxid', 'doctorid', 'apptid', 'status', 'TimeQueued', 'QueueDate', 'StartTime', 'EndTime', 'type', 'Virtual'])"
   ]
  },
  {
   "cell_type": "code",
   "execution_count": 14,
   "id": "9cb32ca4",
   "metadata": {},
   "outputs": [
    {
     "name": "stdout",
     "output_type": "stream",
     "text": [
      "<class 'pandas.core.frame.DataFrame'>\n",
      "Int64Index: 9751401 entries, 0 to 9751400\n",
      "Data columns (total 6 columns):\n",
      " #   Column        Dtype \n",
      "---  ------        ----- \n",
      " 0   clinicid      object\n",
      " 1   hospitalname  object\n",
      " 2   IsHospital    bool  \n",
      " 3   City          object\n",
      " 4   Province      object\n",
      " 5   RegionName    object\n",
      "dtypes: bool(1), object(5)\n",
      "memory usage: 455.7+ MB\n"
     ]
    }
   ],
   "source": [
    "clinics_copy_df.info()"
   ]
  },
  {
   "cell_type": "markdown",
   "id": "be17e72a",
   "metadata": {},
   "source": [
    "## Checking if Clinic ID column has duplicates"
   ]
  },
  {
   "cell_type": "code",
   "execution_count": 15,
   "id": "bfb65298",
   "metadata": {},
   "outputs": [
    {
     "name": "stdout",
     "output_type": "stream",
     "text": [
      "Does clinicid column has duplicates: True\n"
     ]
    }
   ],
   "source": [
    "clinicIdHasDuplicates = clinics_copy_df['clinicid'].duplicated().any()\n",
    "\n",
    "print('Does clinicid column has duplicates: ' + str(clinicIdHasDuplicates))"
   ]
  },
  {
   "cell_type": "markdown",
   "id": "0a613a01",
   "metadata": {},
   "source": [
    "## Dropping Duplicates in Clinic ID Column"
   ]
  },
  {
   "cell_type": "code",
   "execution_count": 16,
   "id": "0c66dc1f",
   "metadata": {},
   "outputs": [],
   "source": [
    "clinics_copy_df = clinics_copy_df.drop_duplicates(subset=['clinicid'], keep='first')"
   ]
  },
  {
   "cell_type": "markdown",
   "id": "3e988fcb",
   "metadata": {},
   "source": [
    "## Check Results of Dropping Duplicates"
   ]
  },
  {
   "cell_type": "code",
   "execution_count": 17,
   "id": "3ad69157",
   "metadata": {},
   "outputs": [
    {
     "name": "stdout",
     "output_type": "stream",
     "text": [
      "Empty DataFrame\n",
      "Columns: [clinicid, hospitalname, IsHospital, City, Province, RegionName]\n",
      "Index: []\n"
     ]
    }
   ],
   "source": [
    "print(clinics_copy_df[clinics_copy_df['clinicid'].duplicated()])"
   ]
  },
  {
   "cell_type": "code",
   "execution_count": 18,
   "id": "d36cee48",
   "metadata": {},
   "outputs": [
    {
     "name": "stdout",
     "output_type": "stream",
     "text": [
      "<class 'pandas.core.frame.DataFrame'>\n",
      "Int64Index: 25232 entries, 0 to 9751400\n",
      "Data columns (total 6 columns):\n",
      " #   Column        Non-Null Count  Dtype \n",
      "---  ------        --------------  ----- \n",
      " 0   clinicid      25232 non-null  object\n",
      " 1   hospitalname  9651 non-null   object\n",
      " 2   IsHospital    25232 non-null  bool  \n",
      " 3   City          25232 non-null  object\n",
      " 4   Province      25232 non-null  object\n",
      " 5   RegionName    25232 non-null  object\n",
      "dtypes: bool(1), object(5)\n",
      "memory usage: 1.2+ MB\n"
     ]
    }
   ],
   "source": [
    "clinics_copy_df.info()"
   ]
  },
  {
   "cell_type": "markdown",
   "id": "a65abd44",
   "metadata": {},
   "source": [
    "## Checking for Null Values in Dataset Columns"
   ]
  },
  {
   "cell_type": "code",
   "execution_count": 19,
   "id": "497b97e2",
   "metadata": {},
   "outputs": [
    {
     "data": {
      "text/plain": [
       "clinicid        False\n",
       "hospitalname     True\n",
       "IsHospital      False\n",
       "City            False\n",
       "Province        False\n",
       "RegionName      False\n",
       "dtype: bool"
      ]
     },
     "execution_count": 19,
     "metadata": {},
     "output_type": "execute_result"
    }
   ],
   "source": [
    "clinics_copy_df.isnull().any()"
   ]
  },
  {
   "cell_type": "markdown",
   "id": "3d5e8dab",
   "metadata": {},
   "source": [
    "## Checking for Unique Values in City, Province, and RegionName Columns"
   ]
  },
  {
   "cell_type": "code",
   "execution_count": 20,
   "id": "af42015a",
   "metadata": {},
   "outputs": [
    {
     "name": "stdout",
     "output_type": "stream",
     "text": [
      "['Taguig' 'Manila' 'Makati' 'San Juan' 'Quezon City' 'Santa Rosa City'\n",
      " 'Batangas City' 'Iloilo City' 'Las Piñas' 'Bilar' 'Malabon' 'Caloocan'\n",
      " 'Muntinlupa' 'Calape' 'Cebu City' 'Pasay' 'Cabanatuan City'\n",
      " 'Antipolo City' 'Taytay' 'Pasig' 'Cainta' 'Mandaluyong' 'San Leonardo'\n",
      " 'Imus City' 'Bacoor City' 'Dasmariñas City' 'Silang'\n",
      " 'San Jose del Monte City' 'Marikina' 'San Mateo' 'Davao City'\n",
      " 'Kidapawan City' 'Tagbilaran City' 'Mandaue City' 'Balamban'\n",
      " 'Bacolod City' 'Cagayan de Oro' 'Guagua' 'Lubao' 'San Fernando City'\n",
      " 'Rizal' 'Asuncion' 'Tagum City' 'Cardona' 'Morong' 'Tanay'\n",
      " 'Meycauayan City' 'Santo Domingo' 'Trece Martires City' 'Angono'\n",
      " 'Mabalacat City' 'Angeles City' 'Zamboanga City' 'Ozamiz City' 'Bocaue'\n",
      " 'Pulilan' 'Baliuag' 'Lucena City' 'Valenzuela' 'Koronadal City'\n",
      " 'Dumaguete City' 'Sibulan' 'Navotas' 'Butuan City' 'Malolos City'\n",
      " 'Santiago City' 'San Pedro City' 'Cabuyao City' 'Kalilangan'\n",
      " 'Baguio City' 'Urdaneta City' 'Lapu-Lapu City' 'Alicia' 'Dagupan City'\n",
      " 'Legazpi City' 'Iligan City' 'Digos City' 'Lipa City' 'Parañaque'\n",
      " 'Asturias' 'Valladolid' 'Bansud' 'Biñan City' 'La Trinidad' 'Sablayan'\n",
      " 'Minglanilla' 'Cordoba' 'Padada' 'Boac' 'Naga City' 'Malaybalay City'\n",
      " 'General Trias' 'Kawit' 'Bulakan' 'Calamba City' 'Olongapo City' 'Miagao'\n",
      " 'Tanauan City' 'Santo Tomas' 'Carmona' 'Basey' 'Dingle' 'Surigao City'\n",
      " 'Consolacion' 'Tagaytay City' 'Burdeos' 'Sagada' 'Malita' 'Alaminos City'\n",
      " 'Rosario' 'San Pablo City' 'General Mariano Alvarez' 'Cavite City'\n",
      " 'Laoag City' 'Batac City' 'San Nicolas' 'Valencia City' 'Lingayen'\n",
      " 'Panabo City' 'Marilao' 'Kalibo' 'Lambunao' 'General Santos City' 'Baler'\n",
      " 'Santa Maria' 'Lemery' 'Bauan' 'Paombong' 'Balayan' 'Tuguegarao City'\n",
      " 'Roxas' 'Ilagan City' 'Camalaniugan' 'Cabagan' 'Tabuk City'\n",
      " 'La Carlota City' 'Cauayan City' 'Bangued' 'Governor Generoso' 'Ipil'\n",
      " 'Balaoan' 'Iriga City' 'Tampakan' 'Aritao' 'Subic' 'Toledo City'\n",
      " 'Talisay City' 'Bantay' 'San Carlos City' 'Guiguinto'\n",
      " 'Puerto Princesa City' 'Balanga City' 'Surallah' 'Dapa' 'Los Baños'\n",
      " 'Nasugbu' 'Bay' 'Santa Cruz' 'Alfonso' 'Bambang' 'Obando' 'Calumpit'\n",
      " 'Ormoc City' 'Norzagaray' 'Calapan City' 'Binangonan' 'Taal' 'Mendez'\n",
      " 'Carcar City' 'Tacloban City' 'Tabango' 'Alubijid' 'Gingoog City'\n",
      " 'Padre Burgos' 'Tayabas City' 'Candelaria' 'Sariaya' 'Manabo' 'Plaridel'\n",
      " 'San Jose City' 'Mangatarem' 'Roxas City' 'Sanchez-Mira' 'Boljoon'\n",
      " 'Anahawan' 'Vigan City' 'Polomolok' 'Apalit' 'Samal City' 'Luna' 'Bangar'\n",
      " 'Tagudin' 'Aringay' 'Tarlac City' 'Sorsogon City' 'Lambayong' 'Aglipay'\n",
      " 'Kabankalan City' 'San Francisco' 'Malay' 'Calasiao' 'Daet'\n",
      " 'Sultan Kudarat' 'Rodriguez' 'Cagdianao' 'Cabadbaran City'\n",
      " 'Manolo Fortich' 'Tabaco City' 'Baybay City' 'Solano' 'Cabiao'\n",
      " 'Calbayog City' 'Pateros' 'Solana' 'Dipolog City' 'Passi City' 'Bustos'\n",
      " 'Bulan' 'Pastrana' 'Quezon' 'Kabasalan' 'Liloy' 'Capas' 'Candon City'\n",
      " 'Dapitan City' 'Masbate City' 'Baras' 'Abulug' 'Science City of Muñoz'\n",
      " 'Hermosa' 'Dinalupihan' 'Pangil' 'Siniloan' 'Pila' 'Alegria'\n",
      " 'Cotabato City' 'Naguilian' 'Santa Barbara' 'Malitbog' 'San Pascual'\n",
      " 'Floridablanca' 'Pozzorubio' 'Guimbal' 'Mexico' 'Macabebe'\n",
      " 'Pagadian City' 'San Joaquin' 'Tanza' 'Virac' \"M'lang\" 'San Jose' 'Naval'\n",
      " 'Calaca' 'Santa Teresita' 'Margosatubig' 'Alabat' 'Anini-y'\n",
      " 'Tobias Fornier' 'Arayat' 'Santa Ana' 'Orani' 'Oroquieta City' 'Bacarra'\n",
      " 'New Washington' 'Maramag' 'Sogod' 'Tayug' 'Rosales' 'Laoac' 'San Rafael'\n",
      " 'Teresa' 'Marawi City' 'Coron' 'Aborlan' 'Basco' 'Gumaca' 'Talisay'\n",
      " 'Naic' 'Maragondon' 'Bugallon' 'Bago City' 'Liloan' 'Kananga' 'Valencia'\n",
      " 'Makilala' 'Manito' 'Pagsanjan' 'Luisiana' 'Leyte' 'Esperanza' 'Leon'\n",
      " 'Tanjay City' 'Danao City' 'San Antonio' 'Talavera' 'Balagtas'\n",
      " 'Bayombong' 'Maco' 'Matungao' 'Calabanga' 'San Ildefonso' 'Bato'\n",
      " 'Tandag City' 'San Miguel' 'Carranglan' 'Zaragoza' 'Cuartero' 'Al-Barka'\n",
      " 'Montevista' 'Botolan' 'San Quintin' 'Iba' 'Gabaldon' 'Bayambang'\n",
      " 'Bogo City' 'Cabusao' 'Polangui' 'Pavia' 'Magalang' 'Monkayo' 'Angat'\n",
      " 'Orion' 'Mabinay' 'Banayoyo' 'Maasin City' 'Pigcawayan' 'Tubod'\n",
      " 'Victoria' 'Concepcion' 'Salcedo' 'Malasiqui' 'Norala' 'Bacolor'\n",
      " 'Cabarroguis' 'Porac' 'Lucban' 'Lasam' 'Pinamalayan' 'Nagcarlan'\n",
      " 'Puerto Galera' 'Nabunturan' 'Cadiz City' 'Mariveles' 'Pilar' 'Pandi'\n",
      " 'Jasaan' 'Bagabag' 'Abra de Ilog' 'San Marcelino' 'Manaoag'\n",
      " 'Catbalogan City' 'Palo' 'Hagonoy' 'Tacurong City' 'Bauang' 'Ibaan'\n",
      " 'Don Carlos' 'Alcala' 'Pililla' 'Carmen' 'Oslob' 'Santander' 'Bagac'\n",
      " 'Magdalena' 'Licab' 'Silay City' 'Anda' 'Abucay' 'Echague' 'Liliw'\n",
      " 'Paniqui' 'Villasis' 'Caba' 'Guiuan' 'Tiaong' 'Cavinti' 'Indang'\n",
      " 'Camiling' 'Sibonga' 'Alangalang' 'San Luis' 'Ligao City' 'Zamboanguita'\n",
      " 'Magallanes' 'Victorias City' 'Sagay City' 'Manapla' 'Mati City'\n",
      " 'Sipocot' 'Mandaon' 'Banguingui' 'Isulan' 'New Bataan' 'Mabini'\n",
      " 'Jose Dalman' 'Bayawan City' 'Initao' 'Camalig' 'Vintar' 'Murcia' 'Agoo'\n",
      " 'Gapan City' 'Infanta' 'Santa Ignacia' 'Bislig City' 'Cabatuan'\n",
      " 'San Manuel' 'Ajuy' 'Trento' 'Castillejos' 'Padre Garcia' 'Cateel'\n",
      " 'Bacacay' 'Balindong' 'Alaminos' 'Pasuquin' 'Tangub City' 'Opol' 'Pitogo'\n",
      " 'Compostela' 'Catarman' 'President Roxas' 'Dao' 'Cuenca' 'Goa' 'Candaba'\n",
      " 'Daraga' 'Noveleta' 'Tupi' 'Atimonan' 'Midsayap' 'Hamtic' 'Calinog'\n",
      " 'Baco' 'Siquijor' 'Lamut' 'Bantayan' 'Del Gallego' 'Bongabon' 'Jalajala'\n",
      " 'Bula' 'Oton' 'Dilasag' 'Tagoloan' 'Dimataling' 'Santa Monica' 'Tabina'\n",
      " 'Madrid' 'Mangaldan' 'Abuyog' 'Palompon' 'Bangui' 'Matalom' 'Catanauan'\n",
      " 'Socorro' 'Odiongan' 'Mamburao' 'San Felipe' 'Tigbauan' 'Banaybanay'\n",
      " 'Pakil' 'Calauan' 'Ronda' 'Moalboal' 'Limay' 'Ragay' 'Amadeo' 'Buug'\n",
      " 'Aliaga' 'Talisayan' 'Tumauini' 'Nabua' 'Basista' 'Patnongon' 'Jaro'\n",
      " 'Gasan' 'Buenavista']\n"
     ]
    }
   ],
   "source": [
    "print(clinics_copy_df['City'].unique())"
   ]
  },
  {
   "cell_type": "code",
   "execution_count": 21,
   "id": "4e2c5238",
   "metadata": {},
   "outputs": [
    {
     "name": "stdout",
     "output_type": "stream",
     "text": [
      "['Manila' 'Laguna' 'Batangas' 'Iloilo' 'Bohol' 'Cebu' 'Nueva Ecija'\n",
      " 'Rizal' 'Cavite' 'Bulacan' 'Davao del Sur' 'Cotabato' 'Negros Occidental'\n",
      " 'Misamis Oriental' 'Pampanga' 'Davao del Norte' 'Zamboanga del Sur'\n",
      " 'Misamis Occidental' 'Quezon' 'South Cotabato' 'Negros Oriental'\n",
      " 'Agusan del Norte' 'Isabela' 'Bukidnon' 'Benguet' 'Pangasinan' 'La Union'\n",
      " 'Albay' 'Lanao del Norte' 'Oriental Mindoro' 'Occidental Mindoro'\n",
      " 'Marinduque' 'Camarines Sur' 'Zambales' 'Angeles' 'Samar'\n",
      " 'Surigao del Norte' 'Mountain Province' 'Davao Occidental' 'Ilocos Norte'\n",
      " 'Aklan' 'Aurora' 'Cagayan' 'Kalinga' 'Abra' 'Davao Oriental'\n",
      " 'Zamboanga Sibugay' 'Nueva Vizcaya' 'Ilocos Sur' 'Palawan' 'Bataan'\n",
      " 'Leyte' 'Capiz' 'Southern Leyte' 'Tarlac' 'Sorsogon' 'Sultan Kudarat'\n",
      " 'Quirino' 'Agusan del Sur' 'Camarines Norte' 'Maguindanao'\n",
      " 'Dinagat Islands' 'Zamboanga del Norte' 'Masbate' 'Catanduanes' 'Biliran'\n",
      " 'Antique' 'Lanao del Sur' 'Batanes' 'Compostela Valley' 'Surigao del Sur'\n",
      " 'Basilan' 'Taguig' 'Eastern Samar' 'Sulu' 'Northern Samar' 'Siquijor'\n",
      " 'Ifugao' 'Romblon']\n"
     ]
    }
   ],
   "source": [
    "print(clinics_copy_df['Province'].unique())"
   ]
  },
  {
   "cell_type": "code",
   "execution_count": 22,
   "id": "dfbf9693",
   "metadata": {},
   "outputs": [
    {
     "name": "stdout",
     "output_type": "stream",
     "text": [
      "['National Capital Region (NCR)' 'CALABARZON (IV-A)'\n",
      " 'Western Visayas (VI)' 'Central Visayas (VII)' 'Central Luzon (III)'\n",
      " 'Davao Region (XI)' 'SOCCSKSARGEN (Cotabato Region) (XII)'\n",
      " 'Northern Mindanao (X)' 'Zamboanga Peninsula (IX)' 'Caraga (XIII)'\n",
      " 'Cagayan Valley (II)' 'Cordillera Administrative Region (CAR)'\n",
      " 'Ilocos Region (I)' 'Bicol Region (V)' 'MIMAROPA (IV-B)'\n",
      " 'Eastern Visayas (VIII)'\n",
      " 'Bangsamoro Autonomous Region in Muslim Mindanao (BARMM)']\n"
     ]
    }
   ],
   "source": [
    "print(clinics_copy_df['RegionName'].unique())"
   ]
  },
  {
   "cell_type": "markdown",
   "id": "08390c9c",
   "metadata": {},
   "source": [
    "## Check if There are Null Values in `hospitalname` That are Set to True in `IsHospital`"
   ]
  },
  {
   "cell_type": "code",
   "execution_count": 23,
   "id": "c1888442",
   "metadata": {},
   "outputs": [
    {
     "data": {
      "text/html": [
       "<div>\n",
       "<style scoped>\n",
       "    .dataframe tbody tr th:only-of-type {\n",
       "        vertical-align: middle;\n",
       "    }\n",
       "\n",
       "    .dataframe tbody tr th {\n",
       "        vertical-align: top;\n",
       "    }\n",
       "\n",
       "    .dataframe thead th {\n",
       "        text-align: right;\n",
       "    }\n",
       "</style>\n",
       "<table border=\"1\" class=\"dataframe\">\n",
       "  <thead>\n",
       "    <tr style=\"text-align: right;\">\n",
       "      <th></th>\n",
       "      <th>clinicid</th>\n",
       "      <th>hospitalname</th>\n",
       "      <th>IsHospital</th>\n",
       "      <th>City</th>\n",
       "      <th>Province</th>\n",
       "      <th>RegionName</th>\n",
       "    </tr>\n",
       "  </thead>\n",
       "  <tbody>\n",
       "  </tbody>\n",
       "</table>\n",
       "</div>"
      ],
      "text/plain": [
       "Empty DataFrame\n",
       "Columns: [clinicid, hospitalname, IsHospital, City, Province, RegionName]\n",
       "Index: []"
      ]
     },
     "execution_count": 23,
     "metadata": {},
     "output_type": "execute_result"
    }
   ],
   "source": [
    "invalid_rows = clinics_copy_df[(clinics_copy_df['hospitalname'].isnull()) & (clinics_copy_df['IsHospital'] == True)]\n",
    "\n",
    "invalid_rows"
   ]
  },
  {
   "cell_type": "markdown",
   "id": "56ecd846",
   "metadata": {},
   "source": [
    "## Updating the Original DataFrame and CSV with the Changes Made in the Copy"
   ]
  },
  {
   "cell_type": "code",
   "execution_count": 24,
   "id": "bc3184c2",
   "metadata": {},
   "outputs": [],
   "source": [
    "clinics_df = clinics_copy_df.copy()"
   ]
  },
  {
   "cell_type": "code",
   "execution_count": 25,
   "id": "4c79848b",
   "metadata": {},
   "outputs": [],
   "source": [
    "clinics_df.to_csv('../cleaned_datasets/clinics_cleaned.csv', index=False) "
   ]
  }
 ],
 "metadata": {
  "kernelspec": {
   "display_name": "Python 3 (ipykernel)",
   "language": "python",
   "name": "python3"
  },
  "language_info": {
   "codemirror_mode": {
    "name": "ipython",
    "version": 3
   },
   "file_extension": ".py",
   "mimetype": "text/x-python",
   "name": "python",
   "nbconvert_exporter": "python",
   "pygments_lexer": "ipython3",
   "version": "3.11.4"
  }
 },
 "nbformat": 4,
 "nbformat_minor": 5
}
